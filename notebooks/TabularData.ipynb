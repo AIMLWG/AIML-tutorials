{
 "cells": [
  {
   "cell_type": "code",
   "execution_count": null,
   "id": "303fc014-b352-4ea1-9bcd-c81eb6f68d3e",
   "metadata": {
    "tags": []
   },
   "outputs": [],
   "source": [
    "%load_ext autoreload\n",
    "%autoreload 2\n",
    "%config Completer.use_jedi = False"
   ]
  },
  {
   "cell_type": "code",
   "execution_count": null,
   "id": "477c6d74-e678-4b47-a4e9-b24850b2fbd7",
   "metadata": {
    "tags": []
   },
   "outputs": [],
   "source": [
    "import matplotlib.pyplot as plt\n",
    "import matplotlib as mpl\n",
    "import numpy as np"
   ]
  },
  {
   "cell_type": "code",
   "execution_count": null,
   "id": "af99f37d-7551-40d2-9fc8-47c3d2b63fc9",
   "metadata": {
    "tags": []
   },
   "outputs": [],
   "source": [
    "mpl.rcParams['mathtext.fontset'] = 'stix'\n",
    "mpl.rcParams['font.family'] = 'STIXGeneral'\n",
    "mpl.rcParams['text.usetex'] = False\n",
    "plt.rc('xtick', labelsize=12)\n",
    "plt.rc('ytick', labelsize=12)\n",
    "plt.rc('axes', labelsize=12)\n",
    "mpl.rcParams['figure.dpi'] = 300"
   ]
  },
  {
   "cell_type": "markdown",
   "id": "8faf0ad4-5343-45bb-8f66-70ba82068aa0",
   "metadata": {},
   "source": [
    "# NumPy and Tabular Data"
   ]
  },
  {
   "cell_type": "markdown",
   "id": "05bf4a01-49b2-40b0-84e1-bf19f0a4745d",
   "metadata": {},
   "source": [
    "[Matthew R. Carbone](https://www.bnl.gov/staff/mcarbone) | _Assistant Computational Scientist, Computational Science Initiative, Brookhaven National Laboratory_"
   ]
  },
  {
   "cell_type": "markdown",
   "id": "cdbed4b0-9363-4760-a646-194ca50899ea",
   "metadata": {},
   "source": [
    "In this tutorial we will go over the fundamentals of dealing with tabular/array data using arguably the most popular Python libraries: `numpy` and `pandas`. By the end of this, you will hopefully be comfortable with:\n",
    "\n",
    "- Using `numpy` to _efficiently_ manipulate numeric data\n",
    "- Using the lightweight `numpy` wrapper `pandas` and its utility\n",
    "- `numpy` broadcasting and advanced operations\n",
    "\n",
    "We hope that this tutorial will be helpful for both beginners and those who are already coding experts.\n",
    "\n",
    "- If you're a beginner, we hope that you'll benefit from the overview of basic concepts, and the references to various documentation pages which can provide more detail where this tutorial is sparse.\n",
    "- If you're not a beginner, we hope that this tutorial might help you use NumPy more efficiently, and possibly teach you something new!\n",
    "\n",
    "Ultimately, **data manipulation** is a key skill for doing anything in data-driven science, including AI/ML. Most, if not all, AI/ML libraries in Python rely on NumPy, so getting comfortable with NumPy's syntax is essentially required. By the end of this notebook, you'll have a good idea of how to use NumPy properly!"
   ]
  },
  {
   "cell_type": "markdown",
   "id": "c378e5c6-517a-4c65-8d44-990b1babf7c6",
   "metadata": {
    "tags": []
   },
   "source": [
    "## What is NumPy?"
   ]
  },
  {
   "cell_type": "markdown",
   "id": "5920a539-5164-4ad2-877a-75232a6d3d2b",
   "metadata": {},
   "source": [
    "The package `numpy` (NumPy) stands for **num**erical **py**thon. You can find its excellent documentation [here](https://numpy.org/doc/stable/). It is a jack-of-all-trades, state-of-the-art, open source library for handling any and all types of numerical data you can imagine. I will outline a few of its features as provided in the [first pages of its documentation](https://numpy.org/doc/stable/user/whatisnumpy.html).\n",
    "\n",
    "1. NumPy facilitates the creation of fixed-size arrays of the _same datatype_.\n",
    "2. NumPy has advanced mathematical operations built-in. These are implemented efficiently using compiled backends.\n",
    "3. NumPy supports _vectorization_, allowing for fewer lines of code and faster execution.\n",
    "\n",
    "It is also worth noting that NumPy is extremely well tested, actively maintained, and serves as the foundation for almost _all_ numerical scientific code written in Python. If you are doing numerical science in Python, you're either using NumPy or using a library that uses NumPy."
   ]
  },
  {
   "cell_type": "markdown",
   "id": "81c9102d-3213-45cb-8711-1df76cb6b62c",
   "metadata": {},
   "source": [
    "## Why should you use NumPy?"
   ]
  },
  {
   "cell_type": "markdown",
   "id": "7c736e9a-d674-4219-a102-820034bad21e",
   "metadata": {},
   "source": [
    "[Pure Python is extremely \"slow\"](https://www.geeksforgeeks.org/what-makes-python-a-slow-language/). We won't go into a ton of details as to why, but we will mention that:\n",
    "* _Some_ Python operations are very fast, e.g. list comprehension.\n",
    "* Most Python operations are very slow, e.g. for loops.\n",
    "* NumPy operations are very fast, because they call pre-compiled executables written in lower-level languages. In other words, when you do something in NumPy, e.g. `np.sum(array)`, you are not actually using Python!\n",
    "\n",
    "Essentially, NumPy unlocks C-level speed (not quite but close) but while using a much more human-readable language, which helps in debugging, clean code writing, distribution, etc."
   ]
  },
  {
   "cell_type": "markdown",
   "id": "8fabaea7-0c68-4402-902b-2ecda366386b",
   "metadata": {},
   "source": [
    "# The basics (`np.ndarray`)"
   ]
  },
  {
   "cell_type": "markdown",
   "id": "5b7d275a-e3ab-49bc-b759-ed3ab2d8446c",
   "metadata": {},
   "source": [
    "The core of NumPy is the `ndarray` object (see [here](https://numpy.org/doc/stable/user/absolute_beginners.html#more-information-about-arrays)). This stands for \"N-dimensional array\" and is basically a container for numerical data. It's easiest to see this by example."
   ]
  },
  {
   "cell_type": "markdown",
   "id": "f3e74372-474c-4021-858b-036f2e3fd3fd",
   "metadata": {
    "tags": []
   },
   "source": [
    "## Vectors"
   ]
  },
  {
   "cell_type": "markdown",
   "id": "35d14df8-ec6b-425d-935b-cae1ab340da3",
   "metadata": {},
   "source": [
    "The `list` is the pure Python equivalent of the `np.ndarray` object. We're guessing you're already familiar with this, but if not, a list is simply a one-dimensional object for holding other Python objects, such as numbers, classes, etc."
   ]
  },
  {
   "cell_type": "code",
   "execution_count": null,
   "id": "544d917d-6b7f-4b20-a7ce-e3b3ae7c1e0e",
   "metadata": {
    "tags": []
   },
   "outputs": [],
   "source": [
    "v_list = [1, 2, 3]"
   ]
  },
  {
   "cell_type": "markdown",
   "id": "f25f006f-f5c7-4eca-99f7-10764511ed8b",
   "metadata": {},
   "source": [
    "For instance, here is an `ndarray` object of one dimension (a vector), which almost always contains data of a _single type_:"
   ]
  },
  {
   "cell_type": "code",
   "execution_count": null,
   "id": "41c4f91c-d0b1-49a2-beaf-32b9a5bc298f",
   "metadata": {
    "tags": []
   },
   "outputs": [],
   "source": [
    "v = np.array(v_list)\n",
    "v  # Note that Jupyter Notebooks allow for \"rendering\" by simply typing the object at the end of the cell"
   ]
  },
  {
   "cell_type": "markdown",
   "id": "29a3e36c-e304-4ba3-bcad-32d8f02fbb59",
   "metadata": {},
   "source": [
    "Accessing elements of a vector is straightforward: for instance, `v[0]`. In this case, we see that NumPy has casted the objects in the list to the type `numpy.int64`."
   ]
  },
  {
   "cell_type": "code",
   "execution_count": null,
   "id": "cb6e5c50-9ce5-4e1b-b8f2-19e8ed5997a1",
   "metadata": {
    "tags": []
   },
   "outputs": [],
   "source": [
    "print(type(v[0]))\n",
    "print(v[1])"
   ]
  },
  {
   "cell_type": "markdown",
   "id": "43277305-282e-4d4f-a21c-e362ced88f26",
   "metadata": {},
   "source": [
    "Possibly the most useful operation for debugging NumPy code is the `.shape` property. Often times, checking the \"shape\" of an `ndarray` is an easy, efficient and fast way of checking to make sure your arrays are doing what they're supposed to do. This will be especially important when considering broadcasting. For now, we have initialized an `ndarray` vector, so we expect our shape to have only one dimension:"
   ]
  },
  {
   "cell_type": "code",
   "execution_count": null,
   "id": "494ed078-615d-45a2-9b06-91bb43abee2b",
   "metadata": {
    "tags": []
   },
   "outputs": [],
   "source": [
    "v.shape"
   ]
  },
  {
   "cell_type": "markdown",
   "id": "141a6ac9-231b-44df-8b53-bf769e46de46",
   "metadata": {},
   "source": [
    "## Two-dimensional arrays"
   ]
  },
  {
   "cell_type": "markdown",
   "id": "a6d41dc1-abf1-4003-8340-7fd982213af5",
   "metadata": {},
   "source": [
    "How about a 2-dimensional array? Note the 2d `np.ndarray` and `np.matrix` objects are very similar, but permit different operations. We won't get into this here, and for now we'll only deal with the `np.ndarray` objects. [Here](https://stackoverflow.com/a/4151251/16602018) is a good summary of the differences."
   ]
  },
  {
   "cell_type": "code",
   "execution_count": null,
   "id": "adebda8e-c7c3-49bc-ad57-90b845e22cf7",
   "metadata": {
    "tags": []
   },
   "outputs": [],
   "source": [
    "X = np.array([[1, 2, 3], [4, 5, 6]])\n",
    "X"
   ]
  },
  {
   "cell_type": "markdown",
   "id": "40dab163-8b34-4b29-9694-87d84cbb439d",
   "metadata": {},
   "source": [
    "As before let's check the shape:"
   ]
  },
  {
   "cell_type": "code",
   "execution_count": null,
   "id": "c7ef15ed-b8d8-406c-9ffd-1d0971079225",
   "metadata": {
    "tags": []
   },
   "outputs": [],
   "source": [
    "X.shape"
   ]
  },
  {
   "cell_type": "markdown",
   "id": "db3c83d7-d8d1-4687-813e-b2af65464de4",
   "metadata": {},
   "source": [
    "We see that the first dimension in `X.shape`, following with standard matrix convention, is the number of rows and the second is the number of columns. Accessing the elements of 2d arrays is also straightforward, and follows conventional matrix indexing, with the caveat that like anything in Python, we zero-index."
   ]
  },
  {
   "cell_type": "code",
   "execution_count": null,
   "id": "8e133dcc-14df-49d8-8e41-b0137d5cebbe",
   "metadata": {},
   "outputs": [],
   "source": [
    "X[0, 2]"
   ]
  },
  {
   "cell_type": "markdown",
   "id": "e0b71dd3-27ac-492d-b91d-0fb0a8c3c79d",
   "metadata": {},
   "source": [
    "Note that trying to access elements beyond the dimensions of the matrix will result in an `IndexError`:"
   ]
  },
  {
   "cell_type": "code",
   "execution_count": null,
   "id": "c7050399-5a25-460b-bb44-2d5031a76753",
   "metadata": {
    "tags": []
   },
   "outputs": [],
   "source": [
    "try:\n",
    "    X[3, 0]\n",
    "except IndexError:\n",
    "    print(\"Yup, just caught an IndexError!\")"
   ]
  },
  {
   "cell_type": "markdown",
   "id": "e57dfb5b-d71b-40b3-ae86-3cb9d194aac6",
   "metadata": {},
   "source": [
    "## Larger-than-two-dimensional arrays"
   ]
  },
  {
   "cell_type": "markdown",
   "id": "7dca07b0-0e4a-445d-bf97-eb0ffe8a0b65",
   "metadata": {},
   "source": [
    "Of course, numpy allows for arbitrarily large arrays. We won't deal with these very much here, but they are important for AI/ML purposes. The indexing is the same as 2d arrays."
   ]
  },
  {
   "cell_type": "code",
   "execution_count": null,
   "id": "af879d12-ad71-4197-a767-230e6d1be1b7",
   "metadata": {
    "tags": []
   },
   "outputs": [],
   "source": [
    "np.random.seed(1234)\n",
    "T = np.random.random(size=(3, 4, 4))"
   ]
  },
  {
   "cell_type": "code",
   "execution_count": null,
   "id": "3dc13046-d14f-4322-8a4b-3301b3f8ce53",
   "metadata": {
    "tags": []
   },
   "outputs": [],
   "source": [
    "T[2, 1, 3]"
   ]
  },
  {
   "cell_type": "markdown",
   "id": "e52bd2ba-1d65-4263-81ab-08440d395330",
   "metadata": {},
   "source": [
    "Arrays with more than two dimensions are generally referred to as _tensors_, but in general a tensor is a superset of an array."
   ]
  },
  {
   "cell_type": "markdown",
   "id": "1d55f738-e900-45d7-8a44-af3526a83400",
   "metadata": {},
   "source": [
    "# Operations"
   ]
  },
  {
   "cell_type": "markdown",
   "id": "9ccb24f2-fd0b-4d78-9b6d-f5dd19d9355f",
   "metadata": {},
   "source": [
    "Of course, the `np.ndarray` object wouldn't be very useful without the substantial number of operations defined on it. Here, we'll go through these operations, why they're useful and when to use them. In addition, we'll present a real-world example use case!"
   ]
  },
  {
   "cell_type": "markdown",
   "id": "ff261ee4-ca1f-4162-85b2-cb4f574291c7",
   "metadata": {},
   "source": [
    "## Simple arithmetic operators"
   ]
  },
  {
   "cell_type": "markdown",
   "id": "1e73e448-6e86-455d-b740-a6536d9acb3c",
   "metadata": {},
   "source": [
    "These include addition, subtraction, multiplication, division, squaring, and many others. Note that everything presented in this subsection **applies operations element-wise**. If you're not familiar with this concept, this following example will help demonstrate the meaning. Note as well that here in this section we will consider operations of arrays with floats and integers."
   ]
  },
  {
   "cell_type": "code",
   "execution_count": null,
   "id": "f68fb025-05bb-4e35-b30b-f3a4ea278899",
   "metadata": {
    "tags": []
   },
   "outputs": [],
   "source": [
    "np.random.seed(1234)\n",
    "X = np.random.randint(low=1, high=5, size=(2, 3))"
   ]
  },
  {
   "cell_type": "code",
   "execution_count": null,
   "id": "9df9f4c0-3d3e-4396-a3e3-03c5b4017242",
   "metadata": {
    "tags": []
   },
   "outputs": [],
   "source": [
    "X"
   ]
  },
  {
   "cell_type": "markdown",
   "id": "30e56fdd-546d-41a5-81ac-c5bc47f0be09",
   "metadata": {},
   "source": [
    "**Element-wise addition**"
   ]
  },
  {
   "cell_type": "code",
   "execution_count": null,
   "id": "e4936a55-298a-433d-9098-e8e8f180d405",
   "metadata": {
    "tags": []
   },
   "outputs": [],
   "source": [
    "X + 3"
   ]
  },
  {
   "cell_type": "markdown",
   "id": "12b276d0-c829-474e-a9b2-4b5f3c1a1202",
   "metadata": {},
   "source": [
    "Note that we took the array `X` and added 3 to every element of the matrix. This is _elementwise addition_. Subtraction works the same way. Let's look at multiplication, division and squaring:"
   ]
  },
  {
   "cell_type": "markdown",
   "id": "79fa4119-087b-41dd-b193-585a34e311cc",
   "metadata": {},
   "source": [
    "**Element-wise multiplication**"
   ]
  },
  {
   "cell_type": "code",
   "execution_count": null,
   "id": "fb2ac6ce-bfcf-4cf4-93f5-210530ecbe7c",
   "metadata": {
    "tags": []
   },
   "outputs": [],
   "source": [
    "X * 3"
   ]
  },
  {
   "cell_type": "markdown",
   "id": "67deaf6c-a317-431b-b290-b4a0b315c9bf",
   "metadata": {},
   "source": [
    "**Element-wise division**"
   ]
  },
  {
   "cell_type": "code",
   "execution_count": null,
   "id": "ca5475c0-478b-416a-9501-cfd3bbc36415",
   "metadata": {
    "tags": []
   },
   "outputs": [],
   "source": [
    "X / 3"
   ]
  },
  {
   "cell_type": "markdown",
   "id": "51b06b1d-3a2d-4c71-839a-995dc9532e2c",
   "metadata": {},
   "source": [
    "**Element-wise integer division**"
   ]
  },
  {
   "cell_type": "code",
   "execution_count": null,
   "id": "7ecb04a9-0cb9-43cd-badc-50adf6010ff3",
   "metadata": {
    "tags": []
   },
   "outputs": [],
   "source": [
    "X // 2  # <- useful operator you may not know about!"
   ]
  },
  {
   "cell_type": "markdown",
   "id": "f54f03bf-5f7a-4604-ae0f-df9787f83023",
   "metadata": {},
   "source": [
    "**Element-wise squaring**"
   ]
  },
  {
   "cell_type": "code",
   "execution_count": null,
   "id": "c42e52e8-2944-4c32-a1c4-b79addc431dd",
   "metadata": {
    "tags": []
   },
   "outputs": [],
   "source": [
    "X**2"
   ]
  },
  {
   "cell_type": "markdown",
   "id": "fb460628-5c3e-4f7b-bc85-d30dea01061f",
   "metadata": {},
   "source": [
    "There are many other operators, too many to cover in this tutorial, but in an attempt to be as complete as possible, let's list a few more that will act elementwise on the array:"
   ]
  },
  {
   "cell_type": "markdown",
   "id": "db71bf6e-d8eb-4e1b-92d9-77c8dc2c6db8",
   "metadata": {},
   "source": [
    "**Element-wise application of sinusoidal functions** (Units are always radians!)"
   ]
  },
  {
   "cell_type": "code",
   "execution_count": null,
   "id": "6bde02cd-3dc7-499d-a111-ea113525197c",
   "metadata": {
    "tags": []
   },
   "outputs": [],
   "source": [
    "np.sin(X)"
   ]
  },
  {
   "cell_type": "code",
   "execution_count": null,
   "id": "3ab25a3e-1dac-4662-bc0c-ed64885d10bd",
   "metadata": {},
   "outputs": [],
   "source": [
    "np.arctan(X)"
   ]
  },
  {
   "cell_type": "markdown",
   "id": "22bad765-fc2e-493f-ab7b-bf5115e6f829",
   "metadata": {},
   "source": [
    "**Element-wise application of the logarithm**"
   ]
  },
  {
   "cell_type": "code",
   "execution_count": null,
   "id": "69ad269d-f9b6-4509-8a1d-968e8356bd1b",
   "metadata": {
    "tags": []
   },
   "outputs": [],
   "source": [
    "np.log10(X)"
   ]
  },
  {
   "cell_type": "markdown",
   "id": "fd24a8f4-3cc5-49dd-a15c-bcc17bf4a41a",
   "metadata": {},
   "source": [
    "**Element-wise application of a boolean operator**"
   ]
  },
  {
   "cell_type": "code",
   "execution_count": null,
   "id": "8c26e247-b173-4b4d-942d-a9782c463349",
   "metadata": {
    "tags": []
   },
   "outputs": [],
   "source": [
    "X == 1"
   ]
  },
  {
   "cell_type": "markdown",
   "id": "8d8cafdb-ef91-4b1e-99ad-1ef3f58d2bda",
   "metadata": {},
   "source": [
    "## Slicing"
   ]
  },
  {
   "cell_type": "markdown",
   "id": "fa0db452-21a0-4dd8-9aaf-2303a93857d1",
   "metadata": {},
   "source": [
    "While not a proper mathematical operation, [array slicing](https://numpy.org/doc/stable/user/basics.indexing.html#slicing-and-striding) is still extremely important. Here's a simple example. We start with our usual array `X`, and want to access different rows and columns."
   ]
  },
  {
   "cell_type": "code",
   "execution_count": null,
   "id": "fb65361a-7c71-4259-a2a2-df90096eec9d",
   "metadata": {
    "tags": []
   },
   "outputs": [],
   "source": [
    "np.random.seed(1234)\n",
    "X = np.random.randint(low=1, high=5, size=(4, 5))\n",
    "X"
   ]
  },
  {
   "cell_type": "code",
   "execution_count": null,
   "id": "0d8746f5-56e9-46e7-84d3-a1c30bef11d6",
   "metadata": {
    "tags": []
   },
   "outputs": [],
   "source": [
    "print(\"The second row is    \", X[1, :])\n",
    "print(\"The first column is  \", X[:, 0])\n",
    "print(\"The fourth column is \", X[:, 3])"
   ]
  },
  {
   "cell_type": "markdown",
   "id": "8b511405-24b4-4887-9a1d-5bf2f131ca4d",
   "metadata": {},
   "source": [
    "There are some more complicated nuances of slicing, but what you see above is basically 95% of the battle. We definitely advise to go look a bit more into the documentation linked above. Various syntax like `...` can be useful in certain situations."
   ]
  },
  {
   "cell_type": "markdown",
   "id": "9bbe95d6-05e8-49ac-8614-566925062e78",
   "metadata": {},
   "source": [
    "## Broadcasting"
   ]
  },
  {
   "cell_type": "markdown",
   "id": "e8b0b4e8-dfc0-493f-acb8-a37fcc73d725",
   "metadata": {},
   "source": [
    "Previously when discussing elementwise operations, we were really discussing a general concept of [broadcasting](https://numpy.org/doc/stable/user/basics.broadcasting.html). In the most general sense, broadcasting encompases the fundamental concept of how NumPy treats operations between arrays of different sizes. In the case of arrays and floats/integers, this is the specific case of some array of some shape, and an array of shape `(1,)`.\n",
    "\n",
    "To demonstrate this, we'll use a curated version of the credit score data found [here](https://www.openml.org/d/31). The long story short is that this dataset ranks if you're a credit risk based on a variety of factors.\n",
    "\n",
    "To load in the data, I'll be using the commonly used `pandas` library. To get the data, we can use `curl`:"
   ]
  },
  {
   "cell_type": "code",
   "execution_count": null,
   "id": "d8e8ddd0-d31c-4e9f-b36e-31f6be7d4813",
   "metadata": {
    "tags": []
   },
   "outputs": [],
   "source": [
    "import pandas as pd"
   ]
  },
  {
   "cell_type": "code",
   "execution_count": null,
   "id": "e9dfd185-2c36-495d-a095-0d00e31a9e85",
   "metadata": {
    "tags": []
   },
   "outputs": [],
   "source": [
    "!curl -o credit_g.csv https://pkgstore.datahub.io/machine-learning/credit-g/credit-g_csv/data/ac05ce3bfd911258bd37fde1e8a3051f/credit-g_csv.csv"
   ]
  },
  {
   "cell_type": "code",
   "execution_count": null,
   "id": "e33bf0c5-3be5-4780-8c89-3d7ba8697ce2",
   "metadata": {
    "tags": []
   },
   "outputs": [],
   "source": [
    "# First, we read the csv data\n",
    "df = pd.read_csv(\"credit_g.csv\")\n",
    "\n",
    "# Now we select only the numeric columns\n",
    "df = df.select_dtypes(['number'])"
   ]
  },
  {
   "cell_type": "markdown",
   "id": "911a0e85-c9c1-4d79-a63b-ea764cf726fa",
   "metadata": {},
   "source": [
    "Printing the dataframe below, we note one critical initial observation about our numerical data. The columns each represent a feature, and each row a data point (a person), but the features are all on different orders of magnitude. We don't want that for a variety of reasons, which we will go into in later tutorials. The long story short is that we want all of our features to be on the same scale, preferably -1 to 1 (roughly). So let's normalize each column by scaling it to a standard normal distribution."
   ]
  },
  {
   "cell_type": "code",
   "execution_count": null,
   "id": "038f8b6b-8457-45fe-aa7d-62fcdbd97af8",
   "metadata": {
    "tags": []
   },
   "outputs": [],
   "source": [
    "df.head()"
   ]
  },
  {
   "cell_type": "markdown",
   "id": "17acd2bd-8d14-47a8-a24a-8ae912e9c8a9",
   "metadata": {},
   "source": [
    "First, we can convert our dataframe to an `np.ndarray` by basically removing the `pandas` wrapper (this gets rid of the column and row labels)."
   ]
  },
  {
   "cell_type": "code",
   "execution_count": null,
   "id": "eb984414-aa27-4b79-9b19-955a5600b005",
   "metadata": {
    "tags": []
   },
   "outputs": [],
   "source": [
    "data = df.to_numpy()\n",
    "print(data.shape)"
   ]
  },
  {
   "cell_type": "markdown",
   "id": "de21efc1-c393-4c21-afbf-7c3562b4f4a0",
   "metadata": {},
   "source": [
    "Now, we can normalize. To do so, we use the equation\n",
    "$$ X_{ij}' = (X_{ij} - \\mu_j) / (\\sigma_j + \\epsilon).$$\n",
    "Here, $X_{ij}$ is the $i$th datapoint and the $j$th feature, and each feature has a mean and standard deviation. $\\epsilon$ is a small positive number for numerical stability if $\\sigma_j$ is close to 0. How can we compute those? Well, in NumPy it's easy! We can apply the same concept of array slicing in some of the standard NumPy functions:"
   ]
  },
  {
   "cell_type": "code",
   "execution_count": null,
   "id": "a098cef3-6ded-4566-af24-7333f1ec1ffc",
   "metadata": {
    "tags": []
   },
   "outputs": [],
   "source": [
    "mu = data.mean(axis=0, keepdims=True)\n",
    "assert mu.shape == (1, 7)\n",
    "sd = data.std(axis=0, keepdims=True)\n",
    "assert sd.shape == (1, 7)"
   ]
  },
  {
   "cell_type": "markdown",
   "id": "719f1794-ca1b-4c82-830e-369a8d640ffe",
   "metadata": {},
   "source": [
    "By looking at the shapes, we can see that each of the 7 features has its own mean and standard deviation, as expected. The `.mean()` and `.std()` methods took the mean and standard deviation along the specified axis! In this case, `axis=0` means to take the mean along the `0`th axis, which here means to take the mean over the rows for each column. Note additional documentation on the mean and standard deviation can be found [here](https://numpy.org/doc/stable/reference/generated/numpy.mean.html) and [here](https://numpy.org/doc/stable/reference/generated/numpy.std.html), respectively. Check the sidebar on either of those links for more useful methods!\n",
    "\n",
    "Now, here's where things get interesting. We want to execute the equation above. Here's one way you could do it:"
   ]
  },
  {
   "cell_type": "code",
   "execution_count": null,
   "id": "c0f058ae-2d8e-48ba-a446-8d44abb3cbb5",
   "metadata": {
    "tags": []
   },
   "outputs": [],
   "source": [
    "def slow_normalize(data=data, mu=mu, sd=sd):\n",
    "    data_prime_slow = np.empty(shape=data.shape)\n",
    "    for ii, row in enumerate(data):  # Iterables iterate over rows by default in numpy\n",
    "        for jj, value in enumerate(row):\n",
    "            data_prime_slow[ii, jj] = (value - mu[0, jj]) / (sd[0, jj] + 1e-8)\n",
    "    return data_prime_slow\n",
    "\n",
    "data_prime_slow = slow_normalize()"
   ]
  },
  {
   "cell_type": "markdown",
   "id": "69ace8a0-c8be-403d-86b9-0ffef75ff4f9",
   "metadata": {},
   "source": [
    "However, this is extremely slow, sloppy and prone to errors. We want a more \"NumPythonic\" way of doing this. This is where broadcasting comes in. We can perform precisely the above in a single line of code:"
   ]
  },
  {
   "cell_type": "code",
   "execution_count": null,
   "id": "0f1a3e57-5663-415e-b374-42f3e480b4a3",
   "metadata": {
    "tags": []
   },
   "outputs": [],
   "source": [
    "data_prime = (data - mu) / (sd + 1e-8)\n",
    "assert np.all(data_prime == data_prime_slow)"
   ]
  },
  {
   "cell_type": "markdown",
   "id": "f8112b93-85b8-4888-8620-cbb659e1ad13",
   "metadata": {},
   "source": [
    "As you can see, this produces the same result. Let's time it to see just how slow it actually is."
   ]
  },
  {
   "cell_type": "code",
   "execution_count": null,
   "id": "f295a9e6-8e77-421e-a457-27ea449d1ec6",
   "metadata": {
    "tags": []
   },
   "outputs": [],
   "source": [
    "%timeit (data - mu) / (sd + 1e-8)"
   ]
  },
  {
   "cell_type": "code",
   "execution_count": null,
   "id": "903010ad-bd50-4526-b02e-f1b093d80ef9",
   "metadata": {
    "tags": []
   },
   "outputs": [],
   "source": [
    "%timeit slow_normalize()"
   ]
  },
  {
   "cell_type": "markdown",
   "id": "3363cd87-c65d-48a4-add0-860fa06c407a",
   "metadata": {},
   "source": [
    "Looks like the NumPy version is **1000 times faster**. And this is for only 1000 data points! What's going on here then? We can take a look at a simpler example to help drive home the point. Consider the simpler matrix and vector representing perhaps the data matrix and mean vector."
   ]
  },
  {
   "cell_type": "code",
   "execution_count": null,
   "id": "e115e9e0-5038-40eb-8efe-f4c457e4759d",
   "metadata": {
    "tags": []
   },
   "outputs": [],
   "source": [
    "np.random.seed(1236)\n",
    "X = np.random.randint(low=1, high=5, size=(4, 3))\n",
    "mu = X.mean(axis=0, keepdims=True)"
   ]
  },
  {
   "cell_type": "code",
   "execution_count": null,
   "id": "fb8bebfe-56cb-4126-9b26-300d5255c44a",
   "metadata": {
    "tags": []
   },
   "outputs": [],
   "source": [
    "X"
   ]
  },
  {
   "cell_type": "code",
   "execution_count": null,
   "id": "03f9a0bb-a4e7-4225-94ec-773f099171e0",
   "metadata": {
    "tags": []
   },
   "outputs": [],
   "source": [
    "mu"
   ]
  },
  {
   "cell_type": "code",
   "execution_count": null,
   "id": "de492afb-3d4c-447b-95ac-dc0aa21f673f",
   "metadata": {
    "tags": []
   },
   "outputs": [],
   "source": [
    "X - mu"
   ]
  },
  {
   "cell_type": "markdown",
   "id": "d56a4a21-3101-4efb-9248-4efc3d6cc6a0",
   "metadata": {},
   "source": [
    "From the above, note that `X - mu` performs the operation of subtracting `mu[0]` from the `0`th column in `X`, but for every row, and similarly for `mu[1]` and `mu[2]`. This process is much faster than using Python for loops because NumPy is calling **compiled libraries**, which use lower-level code like C++ or Assembly. You always want to use broadcasting and NumPy functions. They will always be faster and usually more efficient."
   ]
  },
  {
   "cell_type": "markdown",
   "id": "1192c6d1-3d2e-495b-b836-a6244bcb763f",
   "metadata": {},
   "source": [
    "Broadcasting is simple but requires some intuition to use naturally. Here are a few tips that will help you effectively use this concept.\n",
    "* Read the [docs](https://numpy.org/doc/stable/user/basics.broadcasting.html) in detail.\n",
    "* Always check the `shape` of your result.\n",
    "* Be very careful about sanity-checking your results! Sometimes broadcasting can do unexpected things. For example, do you know what happens if you do the following?"
   ]
  },
  {
   "cell_type": "code",
   "execution_count": null,
   "id": "7342c350-5164-4125-ac01-69ec1979c667",
   "metadata": {
    "tags": []
   },
   "outputs": [],
   "source": [
    "np.random.seed(1234)\n",
    "X1 = np.random.randint(low=1, high=5, size=(3, 3))\n",
    "v1 = np.random.randint(low=1, high=5, size=(3,))\n",
    "what_is_this = X1 * v1"
   ]
  },
  {
   "cell_type": "markdown",
   "id": "93da3758-5198-4680-9847-717e044addf7",
   "metadata": {},
   "source": [
    "If not, be sure you're careful with your dimensions!"
   ]
  },
  {
   "cell_type": "markdown",
   "id": "aa2ff9e6-abce-4027-8ce5-e2f0644c01c6",
   "metadata": {
    "tags": []
   },
   "source": [
    "## Constructing arrays"
   ]
  },
  {
   "cell_type": "markdown",
   "id": "014ec8b8-bbe9-41c8-9e8e-9a1d9360cb55",
   "metadata": {},
   "source": [
    "Here's another example of the usage of broadcasting to drive home the point. Consider that you want to create an array of the 1d particle in a box wave functions. If you don't know what these are, don't worry, just look at the equation below,\n",
    "\n",
    "$$ \\psi_n(x) = \\sqrt{\\frac{2}{L}} \\sin \\frac{n \\pi x}{L}$$\n",
    "\n",
    "Lets take $L = 1$ as constant, and construct the array (matrix) where each row of the matrix represents a different $n = 1, 2, 3, ...$ and each column represents a different value for $x$ on a fixed grid.\n",
    "\n",
    "Using NumPy, this is straightforward to do via **broadcasting**, which we'll discuss later in the context of mathematical operations."
   ]
  },
  {
   "cell_type": "code",
   "execution_count": null,
   "id": "c6e136f8-c3f2-4ebe-aceb-81c453546b12",
   "metadata": {
    "tags": []
   },
   "outputs": [],
   "source": [
    "L = 1.0\n",
    "x_grid = np.linspace(0.0, L, 1000)\n",
    "n_grid = np.array([nn for nn in range(1, 101)])"
   ]
  },
  {
   "cell_type": "code",
   "execution_count": null,
   "id": "e26d56f5-4927-495f-8ec4-851505f87881",
   "metadata": {
    "tags": []
   },
   "outputs": [],
   "source": [
    "def psi(x, n, L=L):\n",
    "    return np.sqrt(2.0 / L) * np.sin(n * np.pi * x / L)"
   ]
  },
  {
   "cell_type": "markdown",
   "id": "1ef24967-8d78-4cd0-8bd3-3572173d7fde",
   "metadata": {},
   "source": [
    "First, we can do this the slow way:"
   ]
  },
  {
   "cell_type": "code",
   "execution_count": null,
   "id": "3fc11d43-b38f-4bdd-a29c-e0e7bfc41c41",
   "metadata": {
    "tags": []
   },
   "outputs": [],
   "source": [
    "psi_matrix_slow = []\n",
    "\n",
    "# For every n\n",
    "for nn in n_grid:\n",
    "    \n",
    "    # Use a temporary array\n",
    "    tmp = []\n",
    "    \n",
    "    # Such that for every x\n",
    "    for xx in x_grid:\n",
    "        tmp.append(psi(xx, nn, L=L))\n",
    "    psi_matrix_slow.append(tmp)\n",
    "\n",
    "# Turn the resulting list of lists into an array\n",
    "psi_matrix_slow = np.array(psi_matrix_slow)"
   ]
  },
  {
   "cell_type": "markdown",
   "id": "5b0bef42-efec-4bc3-9421-c094486d603d",
   "metadata": {},
   "source": [
    "Now, with broadcasting!"
   ]
  },
  {
   "cell_type": "code",
   "execution_count": null,
   "id": "dd1cf4d6-9cfd-4b16-88ce-086b0aea8dba",
   "metadata": {
    "tags": []
   },
   "outputs": [],
   "source": [
    "psi_matrix = psi(x_grid.reshape(1, -1), n_grid.reshape(-1, 1), L=L)"
   ]
  },
  {
   "cell_type": "code",
   "execution_count": null,
   "id": "17e01bf0-10f6-4421-9efe-c15345d0a367",
   "metadata": {
    "tags": []
   },
   "outputs": [],
   "source": [
    "fig, ax = plt.subplots(1, 1, figsize=(2, 1))\n",
    "\n",
    "ax.plot(x_grid.squeeze(), psi_matrix[0, :], 'k', label=\"$n=1$\")\n",
    "ax.plot(x_grid.squeeze(), psi_matrix[1, :], 'r', label=\"$n=2$\")\n",
    "ax.plot(x_grid.squeeze(), psi_matrix[2, :], 'b', label=\"$n=3$\")\n",
    "\n",
    "ax.set_xlabel(\"$x$\")\n",
    "ax.set_ylabel(\"$\\psi_n(x)$\")\n",
    "ax.legend(frameon=False, bbox_to_anchor=(1.0, 1.0))\n",
    "\n",
    "plt.show()"
   ]
  },
  {
   "cell_type": "markdown",
   "id": "99a267c9-5d47-4e82-8339-b3c177707ab9",
   "metadata": {},
   "source": [
    "Here's another fun thing we can do. Note that these \"wave functions\" have the following analytic property: they are all normalized to 1:\n",
    "\n",
    "$$ \\int_0^L |\\psi_n(x)|^2 dx = 1.$$\n",
    "\n",
    "As an exercise, let's check this numerically. We already have a dense grid in `x`, so let's simply sum all of the values of `psi_matrix` over that axis, and multiply by the constant spacing in `x`."
   ]
  },
  {
   "cell_type": "code",
   "execution_count": null,
   "id": "b59356be-a28d-4e54-b52c-1d780b943cbb",
   "metadata": {
    "tags": []
   },
   "outputs": [],
   "source": [
    "dx = np.diff(x_grid)[0]"
   ]
  },
  {
   "cell_type": "code",
   "execution_count": null,
   "id": "50641f97-d847-4cb4-b7a4-0a73b43cab72",
   "metadata": {
    "tags": []
   },
   "outputs": [],
   "source": [
    "(psi_matrix**2).sum(axis=1) * dx"
   ]
  },
  {
   "cell_type": "markdown",
   "id": "c19b43bc-0f5c-4141-87e4-554723eb6239",
   "metadata": {},
   "source": [
    "This works so well because the grid in `x` is so dense and these are very smooth functions!"
   ]
  },
  {
   "cell_type": "markdown",
   "id": "e5339388-1c69-45e1-acb9-bc348a4ca7c4",
   "metadata": {},
   "source": [
    "## Advanced operations"
   ]
  },
  {
   "cell_type": "markdown",
   "id": "0513ebb6-8f4c-4f41-b608-ba65881a78a4",
   "metadata": {},
   "source": [
    "Of course, we want to do more advanced things with NumPy, such as matrix multiplication, dot products, etc. Of course, there are NumPy functions for this! Let's take a look"
   ]
  },
  {
   "cell_type": "markdown",
   "id": "8b64fd25-e7a3-4e0b-9598-0a714f5948ed",
   "metadata": {},
   "source": [
    "### Matrix multiplication"
   ]
  },
  {
   "cell_type": "markdown",
   "id": "d802a873-4c6a-476f-a57f-4bf2147aa043",
   "metadata": {},
   "source": [
    "In Python3, matrix multiplication can be performed using the `@` operator. It's extremely simple, see below. Note that the shapes of the matrices must be compatible."
   ]
  },
  {
   "cell_type": "code",
   "execution_count": null,
   "id": "aad028a4-b898-407d-b298-9fab7477844b",
   "metadata": {
    "tags": []
   },
   "outputs": [],
   "source": [
    "np.random.seed(123)\n",
    "X1 = np.random.randint(low=1, high=5, size=(10, 20))\n",
    "X2 = np.random.randint(low=1, high=5, size=(20, 30))\n",
    "result = X1 @ X2"
   ]
  },
  {
   "cell_type": "markdown",
   "id": "018e890e-a19a-475a-a698-b4799a164957",
   "metadata": {},
   "source": [
    "As always, let's write a \"dumb\" function to test that this result produces what we want it to."
   ]
  },
  {
   "cell_type": "code",
   "execution_count": null,
   "id": "14d305cf-a8e2-43a9-a2ab-a536de30ce07",
   "metadata": {
    "tags": []
   },
   "outputs": [],
   "source": [
    "def slow_matmul(mat1, mat2):\n",
    "    mat3 = np.empty(shape=(mat1.shape[0], mat2.shape[1]))\n",
    "    for row in range(mat1.shape[0]):\n",
    "        for col in range(mat2.shape[1]):\n",
    "            mat3[row, col] = 0\n",
    "            for xx, yy in zip(mat1[row, :], mat2[:, col]):\n",
    "                mat3[row, col] += xx * yy\n",
    "    return mat3"
   ]
  },
  {
   "cell_type": "code",
   "execution_count": null,
   "id": "3ea7db00-e1aa-49ca-9a1b-c78105018e5e",
   "metadata": {
    "tags": []
   },
   "outputs": [],
   "source": [
    "result_slow = slow_matmul(X1, X2)\n",
    "assert np.all(result_slow == result)"
   ]
  },
  {
   "cell_type": "code",
   "execution_count": null,
   "id": "09c73aef-54be-47f2-bb53-5a7980581708",
   "metadata": {
    "tags": []
   },
   "outputs": [],
   "source": [
    "%timeit X1 @ X2"
   ]
  },
  {
   "cell_type": "code",
   "execution_count": null,
   "id": "d8da2e02-103a-4fc1-9b2e-516b832919b6",
   "metadata": {
    "tags": []
   },
   "outputs": [],
   "source": [
    "%timeit slow_matmul(X1, X2)"
   ]
  },
  {
   "cell_type": "markdown",
   "id": "7eba6b95-ad67-4928-b5f7-200757e90707",
   "metadata": {},
   "source": [
    "The matrix operation is again about 1000 times faster, and that's only for extremely small matrices!"
   ]
  },
  {
   "cell_type": "markdown",
   "id": "acc58b56-37d5-49d7-be4e-cff94ed09a6e",
   "metadata": {},
   "source": [
    "### Dot product"
   ]
  },
  {
   "cell_type": "markdown",
   "id": "9aa7a346-4b4e-4dbc-b51f-214c10ea2b0f",
   "metadata": {},
   "source": [
    "The dot product (at least the one we'll focus on) projects two vectors of the same size into the real numbers:\n",
    "\n",
    "$$ \\mathbf{v}_1 \\cdot \\mathbf{v}_2 = c \\in \\mathbb{R}. $$"
   ]
  },
  {
   "cell_type": "markdown",
   "id": "1c7f0a70-ee38-4ee8-8748-e2585ebf7b55",
   "metadata": {},
   "source": [
    "The NumPy `dot` function however, does a _lot_ of things, one of which is this aforementioned operation. Let's start with that one:"
   ]
  },
  {
   "cell_type": "code",
   "execution_count": null,
   "id": "20baba5e-5768-40fc-b231-3d9d286ecb85",
   "metadata": {},
   "outputs": [],
   "source": [
    "v1 = np.array([1, 2, 3])\n",
    "v2 = np.array([4, 5, 6])"
   ]
  },
  {
   "cell_type": "code",
   "execution_count": null,
   "id": "0e2c39ee-8202-4abf-ae3e-bb06cb33d8f6",
   "metadata": {},
   "outputs": [],
   "source": [
    "assert np.dot(v1, v2) == 1 * 4 + 2 * 5 + 3 * 6"
   ]
  },
  {
   "cell_type": "markdown",
   "id": "76eba213-0ceb-46fd-bae8-aa628f737e65",
   "metadata": {},
   "source": [
    "It's always useful to look at the documentation for various functions and methods. In NumPy, this is especially important since the inherent broadcasting potential can lead to unexpected results. Let's look at the documentation together."
   ]
  },
  {
   "cell_type": "code",
   "execution_count": null,
   "id": "28e841ea-5ce0-4963-8724-12406cea31e9",
   "metadata": {
    "tags": []
   },
   "outputs": [],
   "source": [
    "np.dot?"
   ]
  },
  {
   "cell_type": "markdown",
   "id": "1339d999-0e01-40ac-8b12-d208c8294fdc",
   "metadata": {},
   "source": [
    "# Summary"
   ]
  },
  {
   "cell_type": "markdown",
   "id": "fae5dd1c-d975-4f10-a018-c2d9a71c428d",
   "metadata": {},
   "source": [
    "* NumPy is **the** numerical computing tool for Python. If you are a scientist doing any kind of numerical coding and you are _not_ using NumPy, please start now!\n",
    "* NumPy is generally fast, and should be used instead of for loops in essentially every situation.\n",
    "* There are two exceptions: 1) when it is not possible, in e.g. state-dependent simulations where $x(t + 1) = f(x(t))$, and 2) when memory management becomes an issue."
   ]
  },
  {
   "cell_type": "code",
   "execution_count": null,
   "id": "9a50a508-270f-40c3-a6a8-78208c5b6859",
   "metadata": {},
   "outputs": [],
   "source": []
  }
 ],
 "metadata": {
  "kernelspec": {
   "display_name": "Python 3 (ipykernel)",
   "language": "python",
   "name": "python3"
  },
  "language_info": {
   "codemirror_mode": {
    "name": "ipython",
    "version": 3
   },
   "file_extension": ".py",
   "mimetype": "text/x-python",
   "name": "python",
   "nbconvert_exporter": "python",
   "pygments_lexer": "ipython3",
   "version": "3.9.16"
  },
  "toc-autonumbering": true,
  "toc-showmarkdowntxt": false
 },
 "nbformat": 4,
 "nbformat_minor": 5
}
