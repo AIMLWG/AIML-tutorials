{
 "cells": [
  {
   "cell_type": "code",
   "execution_count": 2,
   "id": "303fc014-b352-4ea1-9bcd-c81eb6f68d3e",
   "metadata": {},
   "outputs": [],
   "source": [
    "%load_ext autoreload\n",
    "%autoreload 2\n",
    "%config Completer.use_jedi = False"
   ]
  },
  {
   "cell_type": "code",
   "execution_count": 3,
   "id": "477c6d74-e678-4b47-a4e9-b24850b2fbd7",
   "metadata": {
    "tags": []
   },
   "outputs": [],
   "source": [
    "import matplotlib.pyplot as plt\n",
    "import matplotlib as mpl\n",
    "import numpy as np"
   ]
  },
  {
   "cell_type": "code",
   "execution_count": 4,
   "id": "af99f37d-7551-40d2-9fc8-47c3d2b63fc9",
   "metadata": {
    "tags": []
   },
   "outputs": [],
   "source": [
    "mpl.rcParams['mathtext.fontset'] = 'stix'\n",
    "mpl.rcParams['font.family'] = 'STIXGeneral'\n",
    "mpl.rcParams['text.usetex'] = False\n",
    "plt.rc('xtick', labelsize=12)\n",
    "plt.rc('ytick', labelsize=12)\n",
    "plt.rc('axes', labelsize=12)\n",
    "mpl.rcParams['figure.dpi'] = 300"
   ]
  },
  {
   "cell_type": "markdown",
   "id": "b199b22c-9c50-4421-8165-bc77423d4a4d",
   "metadata": {
    "tags": []
   },
   "source": [
    "# Beginner Series Tutorial 2: NumPy and Tabular Data"
   ]
  },
  {
   "cell_type": "markdown",
   "id": "b1edb69f-2f64-46fd-a4c1-e36f616b7f8d",
   "metadata": {},
   "source": [
    "In this tutorial we will go over the fundamentals of dealing with tabular/array data using arguably the most popular Python libraries: `numpy` and `pandas`. By the end of this, you will hopefully be comfortable with:\n",
    "1. Using `numpy` to _efficiently_ manipulate numeric data\n",
    "2. Using the lightweight `numpy` wrapper `pandas` and its utility\n",
    "3. `numpy` broadcasting and advanced operations"
   ]
  },
  {
   "cell_type": "markdown",
   "id": "4e8cc2cc-0298-4ff0-ac5e-7618a2f6c6de",
   "metadata": {
    "tags": []
   },
   "source": [
    "# Introduction"
   ]
  },
  {
   "cell_type": "markdown",
   "id": "58717d68",
   "metadata": {},
   "source": [
    "First, if running a Google Colab instance, you'll need to pull the data manually."
   ]
  },
  {
   "cell_type": "code",
   "execution_count": 1,
   "id": "d549985f",
   "metadata": {},
   "outputs": [],
   "source": [
    "# !curl -o dataset_31_credit-g.csv https://raw.githubusercontent.com/x94carbone/AIML-tutorials/master/beginner/dataset_31_credit-g.csv\n",
    "# !curl -o dsgdb9nsd_044615.xyz https://raw.githubusercontent.com/x94carbone/AIML-tutorials/master/beginner/dsgdb9nsd_044615.xyz"
   ]
  },
  {
   "cell_type": "markdown",
   "id": "c378e5c6-517a-4c65-8d44-990b1babf7c6",
   "metadata": {
    "tags": []
   },
   "source": [
    "## What is `numpy`?"
   ]
  },
  {
   "cell_type": "markdown",
   "id": "5920a539-5164-4ad2-877a-75232a6d3d2b",
   "metadata": {},
   "source": [
    "The library `numpy` (NumPy) stands for **num**erical **py**thon. You can find its excellent documentation [here](https://numpy.org/doc/stable/). It is a jack-of-all-trades, state-of-the-art, open-sourced library for handling any and all types of numerical data you can imagine. I will outline a few of its features as provided in the [first pages of its documentation](https://numpy.org/doc/stable/user/whatisnumpy.html).\n",
    "\n",
    "1. NumPy facilitates the creation of fixed-size arrays of the _same datatype_.\n",
    "2. NumPy has advanced mathematical operations built-in. These are implemented efficiently using compiled backends.\n",
    "3. NumPy supports _vectorization_, allowing for fewer lines of code and faster execution.\n",
    "\n",
    "It is also worth noting that NumPy is extremely well-tested, actively maintained, and serves as the foundation for almost _all_ numerical scientific code written in Python. If you are doing numerical science in Python, you're either using NumPy or using a library that uses NumPy."
   ]
  },
  {
   "cell_type": "markdown",
   "id": "b477d17a-6e84-486b-ab50-923b2b66f898",
   "metadata": {
    "tags": []
   },
   "source": [
    "## What is the point of this tutorial?"
   ]
  },
  {
   "cell_type": "markdown",
   "id": "155eb090-16a0-4380-834f-d5e24ea1264d",
   "metadata": {},
   "source": [
    "This tutorial serves as one of a few intended to get everyone interested in the AI/ML series on the same page. \n",
    "* If you're a beginner, we hope that you'll benefit from the overview of basic concepts, and the references to various documentation pages which can provide more detail where this tutorial is sparse.\n",
    "* If you're not a beginner, we hope that this tutorial might help you use NumPy more efficiently, and possibly teach you something new!\n",
    "\n",
    "Regardless, keep the following in mind:\n",
    "\n",
    "> The bread and butter of PyTorch (the library we'll be using for machine learning applications) is the `Tensor` object. This object is built on top of NumPy arrays and follows the same syntax. **A solid, fundamental understand of NumPy is critical to understanding the machine learning code we will be discussing in future tutorials.**\n",
    "\n",
    "The notebook is meant to be a standalone document. While we will present this live, everything you'll need should be self-contained in the notebook, so don't worry if you miss something."
   ]
  },
  {
   "cell_type": "markdown",
   "id": "81c9102d-3213-45cb-8711-1df76cb6b62c",
   "metadata": {},
   "source": [
    "## Why NumPy?"
   ]
  },
  {
   "cell_type": "markdown",
   "id": "7c736e9a-d674-4219-a102-820034bad21e",
   "metadata": {},
   "source": [
    "In the previous tutorial, we mentioned that [Python is a \"slow\" language](https://www.geeksforgeeks.org/what-makes-python-a-slow-language/). We won't go into a ton of details as to why, but we will mention that:\n",
    "* Some Python operations are very fast, e.g. list comprehension\n",
    "* Most Python operations are very slow, e.g. for loops\n",
    "* NumPy operations are very fast, because they call pre-compiled executables written in lower-level languages\n",
    "\n",
    "Essentially, NumPy unlocks `C`-level speed (not quite but close) but while using a much more human-readable language, which helps in debugging, clean code writing, distribution, etc."
   ]
  },
  {
   "cell_type": "markdown",
   "id": "18743dc7-3b90-40ba-8c47-164ecebedc66",
   "metadata": {},
   "source": [
    "## Structure of this tutorial"
   ]
  },
  {
   "cell_type": "markdown",
   "id": "4bd40817-46a6-4f83-88e4-639570834b02",
   "metadata": {},
   "source": [
    "I will be providing a lot of examples, but we will likely have more time, so please feel free to \"challenge\" me with on-the-fly questions. E.g., \"Matt, I want to do xyz with NumPy, but have previously only been using for loops, is it possible?\""
   ]
  },
  {
   "cell_type": "markdown",
   "id": "d92ba9da-9827-4064-940f-9e988a9267ba",
   "metadata": {},
   "source": [
    "## Importing/installing NumPy"
   ]
  },
  {
   "cell_type": "markdown",
   "id": "bd7e2938-7178-44a1-aefa-533a135dc811",
   "metadata": {},
   "source": [
    "NumPy is not a standard library (contained in the Python installation like e.g. `os`). It can be easily installed via `pip` by `pip install numpy`. It is already pre-installed on Google Colab, so all that needs to be done is the actual importing. We use `np` as shorthand for NumPy (this is essentially a ubiquitous convention)."
   ]
  },
  {
   "cell_type": "code",
   "execution_count": 4,
   "id": "a8841e7c-6358-43b8-8e90-d3829e73f2fe",
   "metadata": {},
   "outputs": [],
   "source": [
    "import numpy as np\n",
    "import pandas as pd\n",
    "import matplotlib.pyplot as plt"
   ]
  },
  {
   "cell_type": "markdown",
   "id": "8fabaea7-0c68-4402-902b-2ecda366386b",
   "metadata": {},
   "source": [
    "# The basics (`np.ndarray`)"
   ]
  },
  {
   "cell_type": "markdown",
   "id": "5b7d275a-e3ab-49bc-b759-ed3ab2d8446c",
   "metadata": {},
   "source": [
    "The core of NumPy is the `ndarray` object (see [here](https://numpy.org/doc/stable/user/absolute_beginners.html#more-information-about-arrays)). This stands for \"N-dimensional array\" and is basically a container for numerical data. It's easiest to see this by example."
   ]
  },
  {
   "cell_type": "markdown",
   "id": "f3e74372-474c-4021-858b-036f2e3fd3fd",
   "metadata": {},
   "source": [
    "## Vectors"
   ]
  },
  {
   "cell_type": "markdown",
   "id": "35d14df8-ec6b-425d-935b-cae1ab340da3",
   "metadata": {},
   "source": [
    "For instance, here is an `ndarray` object of one dimension (a vector):"
   ]
  },
  {
   "cell_type": "code",
   "execution_count": 9,
   "id": "544d917d-6b7f-4b20-a7ce-e3b3ae7c1e0e",
   "metadata": {},
   "outputs": [],
   "source": [
    "v_list = [1, 2, 3]"
   ]
  },
  {
   "cell_type": "code",
   "execution_count": 10,
   "id": "41c4f91c-d0b1-49a2-beaf-32b9a5bc298f",
   "metadata": {},
   "outputs": [
    {
     "data": {
      "text/plain": [
       "array([1, 2, 3])"
      ]
     },
     "execution_count": 10,
     "metadata": {},
     "output_type": "execute_result"
    }
   ],
   "source": [
    "v = np.array(v_list)\n",
    "v  # Note that Jupyter Notebooks allow for \"rendering\" by simply typing the object at the end of the cell"
   ]
  },
  {
   "cell_type": "markdown",
   "id": "43277305-282e-4d4f-a21c-e362ced88f26",
   "metadata": {},
   "source": [
    "Possibly the most useful operation for debugging NumPy code is the `.shape` property. Often times, checking the \"shape\" of an `ndarray` is an easy, efficient and fast way of checking to make sure your arrays are doing what they're supposed to do. This will be especially important when considering broadcasting. For now, we have initialized an `ndarray` vector, so we expect our shape to have only one dimension:"
   ]
  },
  {
   "cell_type": "code",
   "execution_count": 4,
   "id": "494ed078-615d-45a2-9b06-91bb43abee2b",
   "metadata": {},
   "outputs": [
    {
     "data": {
      "text/plain": [
       "(3,)"
      ]
     },
     "execution_count": 4,
     "metadata": {},
     "output_type": "execute_result"
    }
   ],
   "source": [
    "v.shape"
   ]
  },
  {
   "cell_type": "markdown",
   "id": "d5471ef5-dbc1-4686-a691-fb6319de3a35",
   "metadata": {},
   "source": [
    "Indeed, we see that the `v.shape` result is a tuple, noting that the only dimension has three entries. Accessing elements of vectors is straightforward:"
   ]
  },
  {
   "cell_type": "code",
   "execution_count": 7,
   "id": "a3d3cfbc-b869-4667-a1b5-f6e55d4095e3",
   "metadata": {},
   "outputs": [
    {
     "data": {
      "text/plain": [
       "2"
      ]
     },
     "execution_count": 7,
     "metadata": {},
     "output_type": "execute_result"
    }
   ],
   "source": [
    "v[1]"
   ]
  },
  {
   "cell_type": "markdown",
   "id": "141a6ac9-231b-44df-8b53-bf769e46de46",
   "metadata": {},
   "source": [
    "## 2d arrays"
   ]
  },
  {
   "cell_type": "markdown",
   "id": "a6d41dc1-abf1-4003-8340-7fd982213af5",
   "metadata": {},
   "source": [
    "How about a 2-dimensional array? Note the 2d `np.ndarray` and `np.matrix` objects are very similar, but permit different operations. We won't get into this here, and for now we'll only deal with the `np.ndarray` objects."
   ]
  },
  {
   "cell_type": "code",
   "execution_count": 5,
   "id": "adebda8e-c7c3-49bc-ad57-90b845e22cf7",
   "metadata": {},
   "outputs": [
    {
     "data": {
      "text/plain": [
       "array([[1, 2, 3],\n",
       "       [4, 5, 6]])"
      ]
     },
     "execution_count": 5,
     "metadata": {},
     "output_type": "execute_result"
    }
   ],
   "source": [
    "X = np.array([[1, 2, 3], [4, 5, 6]])\n",
    "X"
   ]
  },
  {
   "cell_type": "markdown",
   "id": "40dab163-8b34-4b29-9694-87d84cbb439d",
   "metadata": {},
   "source": [
    "As before let's check the shape:"
   ]
  },
  {
   "cell_type": "code",
   "execution_count": 6,
   "id": "c7ef15ed-b8d8-406c-9ffd-1d0971079225",
   "metadata": {},
   "outputs": [
    {
     "data": {
      "text/plain": [
       "(2, 3)"
      ]
     },
     "execution_count": 6,
     "metadata": {},
     "output_type": "execute_result"
    }
   ],
   "source": [
    "X.shape"
   ]
  },
  {
   "cell_type": "markdown",
   "id": "db3c83d7-d8d1-4687-813e-b2af65464de4",
   "metadata": {},
   "source": [
    "We see that the first dimension in `X.shape`, following with standard matrix convention, is the number of rows and the second is the number of columns. Accessing the elements of 2d arrays is also straightforward, and follows conventional matrix indexing, with the caveat that like anything in Python, we zero-index."
   ]
  },
  {
   "cell_type": "code",
   "execution_count": 9,
   "id": "8e133dcc-14df-49d8-8e41-b0137d5cebbe",
   "metadata": {},
   "outputs": [
    {
     "data": {
      "text/plain": [
       "3"
      ]
     },
     "execution_count": 9,
     "metadata": {},
     "output_type": "execute_result"
    }
   ],
   "source": [
    "X[0, 2]"
   ]
  },
  {
   "cell_type": "markdown",
   "id": "e0b71dd3-27ac-492d-b91d-0fb0a8c3c79d",
   "metadata": {},
   "source": [
    "Note that trying to access elements beyond the dimensions of the matrix will result in an `IndexError`:"
   ]
  },
  {
   "cell_type": "code",
   "execution_count": 10,
   "id": "c7050399-5a25-460b-bb44-2d5031a76753",
   "metadata": {},
   "outputs": [
    {
     "ename": "IndexError",
     "evalue": "index 3 is out of bounds for axis 0 with size 2",
     "output_type": "error",
     "traceback": [
      "\u001b[0;31m---------------------------------------------------------------------------\u001b[0m",
      "\u001b[0;31mIndexError\u001b[0m                                Traceback (most recent call last)",
      "\u001b[0;32m<ipython-input-10-3e9929599663>\u001b[0m in \u001b[0;36m<module>\u001b[0;34m\u001b[0m\n\u001b[0;32m----> 1\u001b[0;31m \u001b[0mX\u001b[0m\u001b[0;34m[\u001b[0m\u001b[0;36m3\u001b[0m\u001b[0;34m,\u001b[0m \u001b[0;36m0\u001b[0m\u001b[0;34m]\u001b[0m\u001b[0;34m\u001b[0m\u001b[0;34m\u001b[0m\u001b[0m\n\u001b[0m",
      "\u001b[0;31mIndexError\u001b[0m: index 3 is out of bounds for axis 0 with size 2"
     ]
    }
   ],
   "source": [
    "X[3, 0]"
   ]
  },
  {
   "cell_type": "markdown",
   "id": "e57dfb5b-d71b-40b3-ae86-3cb9d194aac6",
   "metadata": {},
   "source": [
    "## >2d arrays"
   ]
  },
  {
   "cell_type": "markdown",
   "id": "7dca07b0-0e4a-445d-bf97-eb0ffe8a0b65",
   "metadata": {},
   "source": [
    "Of course, numpy allows for arbitrarily large arrays. We won't deal with these very much here, but they are important for machine learning purposes. The indexing is the same as 2d arrays."
   ]
  },
  {
   "cell_type": "code",
   "execution_count": 15,
   "id": "af879d12-ad71-4197-a767-230e6d1be1b7",
   "metadata": {},
   "outputs": [],
   "source": [
    "np.random.seed(1234)\n",
    "T = np.random.random(size=(3, 4, 4))"
   ]
  },
  {
   "cell_type": "code",
   "execution_count": 17,
   "id": "3dc13046-d14f-4322-8a4b-3301b3f8ce53",
   "metadata": {},
   "outputs": [
    {
     "data": {
      "text/plain": [
       "0.9093159589724725"
      ]
     },
     "execution_count": 17,
     "metadata": {},
     "output_type": "execute_result"
    }
   ],
   "source": [
    "T[2, 1, 3]"
   ]
  },
  {
   "cell_type": "markdown",
   "id": "1d55f738-e900-45d7-8a44-af3526a83400",
   "metadata": {},
   "source": [
    "# Operations"
   ]
  },
  {
   "cell_type": "markdown",
   "id": "9ccb24f2-fd0b-4d78-9b6d-f5dd19d9355f",
   "metadata": {},
   "source": [
    "Of course, the `np.ndarray` object wouldn't be very useful without the huge number of operations defined on it. Here, we'll go through these operations, why they're useful and when to use them. In addition, we'll present a real-world example use case!"
   ]
  },
  {
   "cell_type": "markdown",
   "id": "ff261ee4-ca1f-4162-85b2-cb4f574291c7",
   "metadata": {},
   "source": [
    "## Simple arithmetic operators"
   ]
  },
  {
   "cell_type": "markdown",
   "id": "1e73e448-6e86-455d-b740-a6536d9acb3c",
   "metadata": {},
   "source": [
    "These include addition, subtraction, multiplication, division, squaring, and many others. Note that everything presented here **applies elementwise**. If you're not familiar with this concept, this following example will help demonstrate the meaning. Note as well that here in this section we will consider operations of arrays with floats and integers."
   ]
  },
  {
   "cell_type": "code",
   "execution_count": 21,
   "id": "f68fb025-05bb-4e35-b30b-f3a4ea278899",
   "metadata": {},
   "outputs": [],
   "source": [
    "np.random.seed(1234)\n",
    "X = np.random.randint(low=1, high=5, size=(3, 4))"
   ]
  },
  {
   "cell_type": "code",
   "execution_count": 22,
   "id": "9df9f4c0-3d3e-4396-a3e3-03c5b4017242",
   "metadata": {},
   "outputs": [
    {
     "data": {
      "text/plain": [
       "array([[4, 4, 3, 2],\n",
       "       [1, 1, 1, 2],\n",
       "       [4, 2, 4, 2]])"
      ]
     },
     "execution_count": 22,
     "metadata": {},
     "output_type": "execute_result"
    }
   ],
   "source": [
    "X"
   ]
  },
  {
   "cell_type": "code",
   "execution_count": 23,
   "id": "e4936a55-298a-433d-9098-e8e8f180d405",
   "metadata": {},
   "outputs": [
    {
     "data": {
      "text/plain": [
       "array([[7, 7, 6, 5],\n",
       "       [4, 4, 4, 5],\n",
       "       [7, 5, 7, 5]])"
      ]
     },
     "execution_count": 23,
     "metadata": {},
     "output_type": "execute_result"
    }
   ],
   "source": [
    "X + 3"
   ]
  },
  {
   "cell_type": "markdown",
   "id": "12b276d0-c829-474e-a9b2-4b5f3c1a1202",
   "metadata": {},
   "source": [
    "Note that we took the array `X` and added 3 to every element of the matrix. This is _elementwise addition_. Subtraction works the same way. Let's look at multiplication, division and squaring:"
   ]
  },
  {
   "cell_type": "code",
   "execution_count": 28,
   "id": "fb2ac6ce-bfcf-4cf4-93f5-210530ecbe7c",
   "metadata": {},
   "outputs": [
    {
     "data": {
      "text/plain": [
       "array([[12., 12.,  9.,  6.],\n",
       "       [ 3.,  3.,  3.,  6.],\n",
       "       [12.,  6., 12.,  6.]])"
      ]
     },
     "execution_count": 28,
     "metadata": {},
     "output_type": "execute_result"
    }
   ],
   "source": [
    "X * 3"
   ]
  },
  {
   "cell_type": "code",
   "execution_count": 29,
   "id": "ca5475c0-478b-416a-9501-cfd3bbc36415",
   "metadata": {},
   "outputs": [
    {
     "data": {
      "text/plain": [
       "array([[1.33333333, 1.33333333, 1.        , 0.66666667],\n",
       "       [0.33333333, 0.33333333, 0.33333333, 0.66666667],\n",
       "       [1.33333333, 0.66666667, 1.33333333, 0.66666667]])"
      ]
     },
     "execution_count": 29,
     "metadata": {},
     "output_type": "execute_result"
    }
   ],
   "source": [
    "X / 3"
   ]
  },
  {
   "cell_type": "code",
   "execution_count": 32,
   "id": "c42e52e8-2944-4c32-a1c4-b79addc431dd",
   "metadata": {},
   "outputs": [
    {
     "data": {
      "text/plain": [
       "array([[16, 16,  9,  4],\n",
       "       [ 1,  1,  1,  4],\n",
       "       [16,  4, 16,  4]])"
      ]
     },
     "execution_count": 32,
     "metadata": {},
     "output_type": "execute_result"
    }
   ],
   "source": [
    "X**2"
   ]
  },
  {
   "cell_type": "markdown",
   "id": "fb460628-5c3e-4f7b-bc85-d30dea01061f",
   "metadata": {},
   "source": [
    "There are many other operators, too many to cover in this tutorial, but in an attempt to be as complete as possible, let's list a few more that will act elementwise on the array:"
   ]
  },
  {
   "cell_type": "code",
   "execution_count": 35,
   "id": "6bde02cd-3dc7-499d-a111-ea113525197c",
   "metadata": {},
   "outputs": [
    {
     "data": {
      "text/plain": [
       "array([[-0.7568025 , -0.7568025 ,  0.14112001,  0.90929743],\n",
       "       [ 0.84147098,  0.84147098,  0.84147098,  0.90929743],\n",
       "       [-0.7568025 ,  0.90929743, -0.7568025 ,  0.90929743]])"
      ]
     },
     "execution_count": 35,
     "metadata": {},
     "output_type": "execute_result"
    }
   ],
   "source": [
    "np.sin(X)  # Always radians, in case that wasn't clear"
   ]
  },
  {
   "cell_type": "code",
   "execution_count": 36,
   "id": "3ab25a3e-1dac-4662-bc0c-ed64885d10bd",
   "metadata": {},
   "outputs": [
    {
     "data": {
      "text/plain": [
       "array([[1.32581766, 1.32581766, 1.24904577, 1.10714872],\n",
       "       [0.78539816, 0.78539816, 0.78539816, 1.10714872],\n",
       "       [1.32581766, 1.10714872, 1.32581766, 1.10714872]])"
      ]
     },
     "execution_count": 36,
     "metadata": {},
     "output_type": "execute_result"
    }
   ],
   "source": [
    "np.arctan(X)"
   ]
  },
  {
   "cell_type": "code",
   "execution_count": 37,
   "id": "69ad269d-f9b6-4509-8a1d-968e8356bd1b",
   "metadata": {},
   "outputs": [
    {
     "data": {
      "text/plain": [
       "array([[0.60205999, 0.60205999, 0.47712125, 0.30103   ],\n",
       "       [0.        , 0.        , 0.        , 0.30103   ],\n",
       "       [0.60205999, 0.30103   , 0.60205999, 0.30103   ]])"
      ]
     },
     "execution_count": 37,
     "metadata": {},
     "output_type": "execute_result"
    }
   ],
   "source": [
    "np.log10(X)"
   ]
  },
  {
   "cell_type": "markdown",
   "id": "bc1f2280-6f8b-419a-bcf7-b45fb698613d",
   "metadata": {},
   "source": [
    "Here's a tricky one. Boolean operations also act elementwise:"
   ]
  },
  {
   "cell_type": "code",
   "execution_count": 40,
   "id": "8c26e247-b173-4b4d-942d-a9782c463349",
   "metadata": {},
   "outputs": [
    {
     "data": {
      "text/plain": [
       "array([[False, False, False, False],\n",
       "       [ True,  True,  True, False],\n",
       "       [False, False, False, False]])"
      ]
     },
     "execution_count": 40,
     "metadata": {},
     "output_type": "execute_result"
    }
   ],
   "source": [
    "X == 1"
   ]
  },
  {
   "cell_type": "markdown",
   "id": "8d8cafdb-ef91-4b1e-99ad-1ef3f58d2bda",
   "metadata": {},
   "source": [
    "## Slicing"
   ]
  },
  {
   "cell_type": "markdown",
   "id": "fa0db452-21a0-4dd8-9aaf-2303a93857d1",
   "metadata": {},
   "source": [
    "While not a proper mathematical operation, it is still extremely important to consider slicing arrays. Consider the following example: you have an array of $N$ rows and $M$ columns. Say that this array represents $N$ spectra from an instrument, where each of the $M$ points per spectra represents a point on an energy grid. What if you want to access the $n$th spectrum?"
   ]
  },
  {
   "cell_type": "code",
   "execution_count": 49,
   "id": "fb65361a-7c71-4259-a2a2-df90096eec9d",
   "metadata": {},
   "outputs": [],
   "source": [
    "N = 70\n",
    "M = 120\n",
    "np.random.seed(1234)\n",
    "X = np.random.random(size=(N, M))**2  # Square it to make the \"spectra\" positive"
   ]
  },
  {
   "cell_type": "markdown",
   "id": "fb56ceaa-f532-43ee-be23-489248290c02",
   "metadata": {},
   "source": [
    "We want to access the $n$th spectrum. Say $n=37$."
   ]
  },
  {
   "cell_type": "code",
   "execution_count": 50,
   "id": "c3b67cf8-a05b-4ea5-a87e-4dd9415c68aa",
   "metadata": {},
   "outputs": [],
   "source": [
    "n = 37"
   ]
  },
  {
   "cell_type": "code",
   "execution_count": 51,
   "id": "2a572f3b-dac5-43e7-9565-db85ce38f499",
   "metadata": {},
   "outputs": [
    {
     "name": "stdout",
     "output_type": "stream",
     "text": [
      "(120,)\n"
     ]
    }
   ],
   "source": [
    "spectrum_star = X[n, :]\n",
    "print(spectrum_star.shape)"
   ]
  },
  {
   "cell_type": "markdown",
   "id": "c13a02a5-ef31-4256-a655-d14ec52bd595",
   "metadata": {},
   "source": [
    "Note that the `shape` of the spectrum of interest is of the expected size, $M.$ This is just one example of where the `shape` operation can be extremely useful for debugging. Note that it would be extremely easy to make the following error:"
   ]
  },
  {
   "cell_type": "code",
   "execution_count": 52,
   "id": "91c130a1-aaba-4d5c-8e3a-207f237e7561",
   "metadata": {},
   "outputs": [],
   "source": [
    "not_my_spectrum = X[:, n]"
   ]
  },
  {
   "cell_type": "markdown",
   "id": "5edb72da-097b-46c8-826b-ec746d59dfbc",
   "metadata": {},
   "source": [
    "No error, because $37 < N$ and $37 < M$. But if we check the shape, we can see it's wrong:"
   ]
  },
  {
   "cell_type": "code",
   "execution_count": 53,
   "id": "d3b9ae3f-4b3b-4e49-8615-a13b91058dfc",
   "metadata": {},
   "outputs": [
    {
     "name": "stdout",
     "output_type": "stream",
     "text": [
      "(70,)\n"
     ]
    }
   ],
   "source": [
    "print(not_my_spectrum.shape)"
   ]
  },
  {
   "cell_type": "markdown",
   "id": "cafb88a5-e400-45d9-b8fb-616acd30d299",
   "metadata": {},
   "source": [
    "We can visualize this spectrum using [Matplotlib](https://matplotlib.org/), the premier plotting tool in Python (although it's possible some would argue that [Seaborn](https://seaborn.pydata.org/) is just as good). A word of warning about Matplotlib: the documentation leaves much to be desired. It can take a while to really understand Matplotlib, and generally, looking at StackOverflow answers is more efficient than trying to read the docs when you have a problem.\n",
    "\n",
    "Let's also define a dummy energy grid to plot our \"spectrum\" on. We'll use `np.linspace` for this. Feel free to print out the grid yourself to really see what `np.linspace` is doing."
   ]
  },
  {
   "cell_type": "code",
   "execution_count": 54,
   "id": "f1f9a026-b656-492d-b98b-53e9c2ce21b3",
   "metadata": {},
   "outputs": [],
   "source": [
    "grid = np.linspace(4300, 4500, M)"
   ]
  },
  {
   "cell_type": "code",
   "execution_count": 56,
   "id": "f714067c-82cd-4df1-ba89-cb53e8418d73",
   "metadata": {},
   "outputs": [
    {
     "data": {
      "image/png": "[encoded data removed]",
      "text/plain": [
       "<Figure size 432x288 with 1 Axes>"
      ]
     },
     "metadata": {
      "needs_background": "light"
     },
     "output_type": "display_data"
    }
   ],
   "source": [
    "plt.plot(grid, spectrum_star, 'k-')\n",
    "plt.show()"
   ]
  },
  {
   "cell_type": "markdown",
   "id": "1dee3929-a305-4e6b-bf97-24241a0ee149",
   "metadata": {},
   "source": [
    "Slicing will work on arrays of any size/dimension, and it is efficient. For example, to get `spectrum_star`, you certainly would not want to do this:"
   ]
  },
  {
   "cell_type": "code",
   "execution_count": 57,
   "id": "9a9b316a-4fa3-47e6-9348-1dfd0074ded0",
   "metadata": {},
   "outputs": [],
   "source": [
    "badly_obtained_spectrum_star = []\n",
    "for ii in range(M):\n",
    "    badly_obtained_spectrum_star.append(X[n, ii])\n",
    "badly_obtained_spectrum_star = np.array(badly_obtained_spectrum_star)\n",
    "assert np.all(badly_obtained_spectrum_star == spectrum_star)"
   ]
  },
  {
   "cell_type": "markdown",
   "id": "9bbe95d6-05e8-49ac-8614-566925062e78",
   "metadata": {},
   "source": [
    "## Broadcasting"
   ]
  },
  {
   "cell_type": "markdown",
   "id": "e8b0b4e8-dfc0-493f-acb8-a37fcc73d725",
   "metadata": {},
   "source": [
    "Previously when discussing elementwise operations, we were really discussing a general concept of [broadcasting](https://numpy.org/doc/stable/user/basics.broadcasting.html). In the most general sense, broadcasting encompases the fundamental concept of how NumPy treats operations between arrays of different sizes. In the case of arrays and floats/integers, this is the specific case of some array of some shape, and an array of shape `(1,)`.\n",
    "\n",
    "To demonstrate this, we'll use a curated version of the credit score data found [here](https://www.openml.org/d/31). The long story short is that this dataset ranks if you're a credit risk based on a variety of factors. Ignoring the possible ethical concerns with this type of data, let's focus only on the numerical columns of this dataset and show a common use of broadcasting.\n",
    "\n",
    "To load in the data, I'll be using the commonly used `pandas` library."
   ]
  },
  {
   "cell_type": "code",
   "execution_count": 61,
   "id": "e33bf0c5-3be5-4780-8c89-3d7ba8697ce2",
   "metadata": {},
   "outputs": [],
   "source": [
    "# First, we read the csv data\n",
    "df = pd.read_csv(\"dataset_31_credit-g.csv\")\n",
    "\n",
    "# Now we select only the numeric columns\n",
    "df = df.select_dtypes(['number'])"
   ]
  },
  {
   "cell_type": "markdown",
   "id": "911a0e85-c9c1-4d79-a63b-ea764cf726fa",
   "metadata": {},
   "source": [
    "Printing the dataframe below, we note one critical initial observation about our numerical data. The columns each represent a feature, and each row a data point (a person), but the features are all on different orders of magnitude. We don't want that for a variety of reasons, which we will go into in later tutorials. The long story short is that we want all of our features to be on the same scale, preferably -1 to 1 (roughly). So let's normalize each column by scaling it to a standard normal distribution."
   ]
  },
  {
   "cell_type": "code",
   "execution_count": 65,
   "id": "038f8b6b-8457-45fe-aa7d-62fcdbd97af8",
   "metadata": {},
   "outputs": [
    {
     "data": {
      "text/html": [
       "<div>\n",
       "<style scoped>\n",
       "    .dataframe tbody tr th:only-of-type {\n",
       "        vertical-align: middle;\n",
       "    }\n",
       "\n",
       "    .dataframe tbody tr th {\n",
       "        vertical-align: top;\n",
       "    }\n",
       "\n",
       "    .dataframe thead th {\n",
       "        text-align: right;\n",
       "    }\n",
       "</style>\n",
       "<table border=\"1\" class=\"dataframe\">\n",
       "  <thead>\n",
       "    <tr style=\"text-align: right;\">\n",
       "      <th></th>\n",
       "      <th>duration</th>\n",
       "      <th>credit_amount</th>\n",
       "      <th>installment_commitment</th>\n",
       "      <th>residence_since</th>\n",
       "      <th>age</th>\n",
       "      <th>existing_credits</th>\n",
       "      <th>num_dependents</th>\n",
       "    </tr>\n",
       "  </thead>\n",
       "  <tbody>\n",
       "    <tr>\n",
       "      <th>0</th>\n",
       "      <td>6</td>\n",
       "      <td>1169</td>\n",
       "      <td>4</td>\n",
       "      <td>4</td>\n",
       "      <td>67</td>\n",
       "      <td>2</td>\n",
       "      <td>1</td>\n",
       "    </tr>\n",
       "    <tr>\n",
       "      <th>1</th>\n",
       "      <td>48</td>\n",
       "      <td>5951</td>\n",
       "      <td>2</td>\n",
       "      <td>2</td>\n",
       "      <td>22</td>\n",
       "      <td>1</td>\n",
       "      <td>1</td>\n",
       "    </tr>\n",
       "    <tr>\n",
       "      <th>2</th>\n",
       "      <td>12</td>\n",
       "      <td>2096</td>\n",
       "      <td>2</td>\n",
       "      <td>3</td>\n",
       "      <td>49</td>\n",
       "      <td>1</td>\n",
       "      <td>2</td>\n",
       "    </tr>\n",
       "    <tr>\n",
       "      <th>3</th>\n",
       "      <td>42</td>\n",
       "      <td>7882</td>\n",
       "      <td>2</td>\n",
       "      <td>4</td>\n",
       "      <td>45</td>\n",
       "      <td>1</td>\n",
       "      <td>2</td>\n",
       "    </tr>\n",
       "    <tr>\n",
       "      <th>4</th>\n",
       "      <td>24</td>\n",
       "      <td>4870</td>\n",
       "      <td>3</td>\n",
       "      <td>4</td>\n",
       "      <td>53</td>\n",
       "      <td>2</td>\n",
       "      <td>2</td>\n",
       "    </tr>\n",
       "    <tr>\n",
       "      <th>...</th>\n",
       "      <td>...</td>\n",
       "      <td>...</td>\n",
       "      <td>...</td>\n",
       "      <td>...</td>\n",
       "      <td>...</td>\n",
       "      <td>...</td>\n",
       "      <td>...</td>\n",
       "    </tr>\n",
       "    <tr>\n",
       "      <th>995</th>\n",
       "      <td>12</td>\n",
       "      <td>1736</td>\n",
       "      <td>3</td>\n",
       "      <td>4</td>\n",
       "      <td>31</td>\n",
       "      <td>1</td>\n",
       "      <td>1</td>\n",
       "    </tr>\n",
       "    <tr>\n",
       "      <th>996</th>\n",
       "      <td>30</td>\n",
       "      <td>3857</td>\n",
       "      <td>4</td>\n",
       "      <td>4</td>\n",
       "      <td>40</td>\n",
       "      <td>1</td>\n",
       "      <td>1</td>\n",
       "    </tr>\n",
       "    <tr>\n",
       "      <th>997</th>\n",
       "      <td>12</td>\n",
       "      <td>804</td>\n",
       "      <td>4</td>\n",
       "      <td>4</td>\n",
       "      <td>38</td>\n",
       "      <td>1</td>\n",
       "      <td>1</td>\n",
       "    </tr>\n",
       "    <tr>\n",
       "      <th>998</th>\n",
       "      <td>45</td>\n",
       "      <td>1845</td>\n",
       "      <td>4</td>\n",
       "      <td>4</td>\n",
       "      <td>23</td>\n",
       "      <td>1</td>\n",
       "      <td>1</td>\n",
       "    </tr>\n",
       "    <tr>\n",
       "      <th>999</th>\n",
       "      <td>45</td>\n",
       "      <td>4576</td>\n",
       "      <td>3</td>\n",
       "      <td>4</td>\n",
       "      <td>27</td>\n",
       "      <td>1</td>\n",
       "      <td>1</td>\n",
       "    </tr>\n",
       "  </tbody>\n",
       "</table>\n",
       "<p>1000 rows × 7 columns</p>\n",
       "</div>"
      ],
      "text/plain": [
       "     duration  credit_amount  installment_commitment  residence_since  age  \\\n",
       "0           6           1169                       4                4   67   \n",
       "1          48           5951                       2                2   22   \n",
       "2          12           2096                       2                3   49   \n",
       "3          42           7882                       2                4   45   \n",
       "4          24           4870                       3                4   53   \n",
       "..        ...            ...                     ...              ...  ...   \n",
       "995        12           1736                       3                4   31   \n",
       "996        30           3857                       4                4   40   \n",
       "997        12            804                       4                4   38   \n",
       "998        45           1845                       4                4   23   \n",
       "999        45           4576                       3                4   27   \n",
       "\n",
       "     existing_credits  num_dependents  \n",
       "0                   2               1  \n",
       "1                   1               1  \n",
       "2                   1               2  \n",
       "3                   1               2  \n",
       "4                   2               2  \n",
       "..                ...             ...  \n",
       "995                 1               1  \n",
       "996                 1               1  \n",
       "997                 1               1  \n",
       "998                 1               1  \n",
       "999                 1               1  \n",
       "\n",
       "[1000 rows x 7 columns]"
      ]
     },
     "execution_count": 65,
     "metadata": {},
     "output_type": "execute_result"
    }
   ],
   "source": [
    "df"
   ]
  },
  {
   "cell_type": "markdown",
   "id": "17acd2bd-8d14-47a8-a24a-8ae912e9c8a9",
   "metadata": {},
   "source": [
    "First, we can convert our dataframe to an `np.ndarray` by basically removing the `pandas` wrapper (this gets rid of the column and row labels)."
   ]
  },
  {
   "cell_type": "code",
   "execution_count": 68,
   "id": "eb984414-aa27-4b79-9b19-955a5600b005",
   "metadata": {},
   "outputs": [
    {
     "name": "stdout",
     "output_type": "stream",
     "text": [
      "(1000, 7)\n"
     ]
    }
   ],
   "source": [
    "data = df.to_numpy()\n",
    "print(data.shape)"
   ]
  },
  {
   "cell_type": "markdown",
   "id": "de21efc1-c393-4c21-afbf-7c3562b4f4a0",
   "metadata": {},
   "source": [
    "Now, we can normalize. To do so, we use the equation\n",
    "$$ X_{ij}' = (X_{ij} - \\mu_j) / (\\sigma_j + \\epsilon).$$\n",
    "Here, $X_{ij}$ is the $i$th datapoint and the $j$th feature, and each feature has a mean and standard deviation. How can we compute those? Well, in NumPy it's easy! We can apply the same concept of array slicing in some of the standard NumPy functions:"
   ]
  },
  {
   "cell_type": "code",
   "execution_count": 71,
   "id": "a098cef3-6ded-4566-af24-7333f1ec1ffc",
   "metadata": {},
   "outputs": [],
   "source": [
    "mu = data.mean(axis=0, keepdims=True)\n",
    "assert mu.shape == (1, 7)\n",
    "sd = data.std(axis=0, keepdims=True)\n",
    "assert sd.shape == (1, 7)"
   ]
  },
  {
   "cell_type": "markdown",
   "id": "719f1794-ca1b-4c82-830e-369a8d640ffe",
   "metadata": {},
   "source": [
    "By looking at the shapes, we can see that each of the 7 features has its own mean and standard deviation, as expected. The `.mean()` and `.std()` methods took the mean and standard deviation along the specified axis! In this case, `axis=0` means to take the mean along the `0`th axis, which here means to take the mean over the rows for each column.\n",
    "\n",
    "Now, here's where things get interesting. We want to execute the equation above. Here's one way you could do it:"
   ]
  },
  {
   "cell_type": "code",
   "execution_count": 79,
   "id": "c0f058ae-2d8e-48ba-a446-8d44abb3cbb5",
   "metadata": {},
   "outputs": [],
   "source": [
    "def slow_normalize(data=data, mu=mu, sd=sd):\n",
    "    data_prime_slow = np.empty(shape=data.shape)\n",
    "    for ii, row in enumerate(data):  # Iterables iterate over rows by default in numpy\n",
    "        for jj, value in enumerate(row):\n",
    "            data_prime_slow[ii, jj] = (value - mu[0, jj]) / (sd[0, jj] + 1e-8)\n",
    "    return data_prime_slow\n",
    "\n",
    "data_prime_slow = slow_normalize()"
   ]
  },
  {
   "cell_type": "markdown",
   "id": "69ace8a0-c8be-403d-86b9-0ffef75ff4f9",
   "metadata": {},
   "source": [
    "However, this is extremely slow, sloppy and prone to errors. We want a more \"numpythonic\" way of doing this. This is where broadcasting comes in. We can perform precisely the above in a single line of code:"
   ]
  },
  {
   "cell_type": "code",
   "execution_count": 76,
   "id": "0f1a3e57-5663-415e-b374-42f3e480b4a3",
   "metadata": {},
   "outputs": [],
   "source": [
    "data_prime = (data - mu) / (sd + 1e-8)\n",
    "assert np.all(data_prime == data_prime_slow)"
   ]
  },
  {
   "cell_type": "markdown",
   "id": "f8112b93-85b8-4888-8620-cbb659e1ad13",
   "metadata": {},
   "source": [
    "As you can see, this produces the same result. Let's time it to see just how slow it actually is."
   ]
  },
  {
   "cell_type": "code",
   "execution_count": 82,
   "id": "f295a9e6-8e77-421e-a457-27ea449d1ec6",
   "metadata": {},
   "outputs": [
    {
     "name": "stdout",
     "output_type": "stream",
     "text": [
      "20.1 µs ± 1.83 µs per loop (mean ± std. dev. of 7 runs, 10000 loops each)\n"
     ]
    }
   ],
   "source": [
    "%timeit (data - mu) / (sd + 1e-8)"
   ]
  },
  {
   "cell_type": "code",
   "execution_count": 83,
   "id": "903010ad-bd50-4526-b02e-f1b093d80ef9",
   "metadata": {},
   "outputs": [
    {
     "name": "stdout",
     "output_type": "stream",
     "text": [
      "21.3 ms ± 2.12 ms per loop (mean ± std. dev. of 7 runs, 10 loops each)\n"
     ]
    }
   ],
   "source": [
    "%timeit slow_normalize()"
   ]
  },
  {
   "cell_type": "markdown",
   "id": "3363cd87-c65d-48a4-add0-860fa06c407a",
   "metadata": {},
   "source": [
    "Looks like the NumPy version is **1000 times faster**. And this is for only 1000 data points! What's going on here then? We can take a look at a simpler example to help drive home the point. Consider the simpler matrix and vector representing perhaps the data matrix and mean vector."
   ]
  },
  {
   "cell_type": "code",
   "execution_count": 85,
   "id": "e115e9e0-5038-40eb-8efe-f4c457e4759d",
   "metadata": {},
   "outputs": [],
   "source": [
    "X = np.random.randint(low=1, high=5, size=(10, 3))\n",
    "mu = X.mean(axis=0, keepdims=True)"
   ]
  },
  {
   "cell_type": "code",
   "execution_count": 86,
   "id": "fb8bebfe-56cb-4126-9b26-300d5255c44a",
   "metadata": {},
   "outputs": [
    {
     "data": {
      "text/plain": [
       "array([[1, 1, 2],\n",
       "       [1, 1, 2],\n",
       "       [4, 2, 3],\n",
       "       [1, 3, 1],\n",
       "       [1, 1, 2],\n",
       "       [4, 3, 2],\n",
       "       [3, 2, 4],\n",
       "       [1, 2, 1],\n",
       "       [4, 4, 3],\n",
       "       [3, 1, 1]])"
      ]
     },
     "execution_count": 86,
     "metadata": {},
     "output_type": "execute_result"
    }
   ],
   "source": [
    "X"
   ]
  },
  {
   "cell_type": "code",
   "execution_count": 87,
   "id": "03f9a0bb-a4e7-4225-94ec-773f099171e0",
   "metadata": {},
   "outputs": [
    {
     "data": {
      "text/plain": [
       "array([[2.3, 2. , 2.1]])"
      ]
     },
     "execution_count": 87,
     "metadata": {},
     "output_type": "execute_result"
    }
   ],
   "source": [
    "mu"
   ]
  },
  {
   "cell_type": "code",
   "execution_count": 88,
   "id": "de492afb-3d4c-447b-95ac-dc0aa21f673f",
   "metadata": {},
   "outputs": [
    {
     "data": {
      "text/plain": [
       "array([[-1.3, -1. , -0.1],\n",
       "       [-1.3, -1. , -0.1],\n",
       "       [ 1.7,  0. ,  0.9],\n",
       "       [-1.3,  1. , -1.1],\n",
       "       [-1.3, -1. , -0.1],\n",
       "       [ 1.7,  1. , -0.1],\n",
       "       [ 0.7,  0. ,  1.9],\n",
       "       [-1.3,  0. , -1.1],\n",
       "       [ 1.7,  2. ,  0.9],\n",
       "       [ 0.7, -1. , -1.1]])"
      ]
     },
     "execution_count": 88,
     "metadata": {},
     "output_type": "execute_result"
    }
   ],
   "source": [
    "X - mu"
   ]
  },
  {
   "cell_type": "markdown",
   "id": "d56a4a21-3101-4efb-9248-4efc3d6cc6a0",
   "metadata": {},
   "source": [
    "From the above, note that `X - mu` performs the operation of subtracting `mu[0]` from the `0`th column in `X`, but for every row, and similarly for `mu[1]` and `mu[2]`. This process is much faster than using Python for loops because NumPy is calling **compiled libraries**, which use lower-level code like C++ or Assembly. You always want to use broadcasting and NumPy functions. They will always be faster and usually more efficient."
   ]
  },
  {
   "cell_type": "markdown",
   "id": "1192c6d1-3d2e-495b-b836-a6244bcb763f",
   "metadata": {},
   "source": [
    "Broadcasting is simple but requires some intuition to use naturally. Here are a few tips that will help you effectively use this concept.\n",
    "* Read the [docs](https://numpy.org/doc/stable/user/basics.broadcasting.html) in detail.\n",
    "* Always check the `shape` of your result.\n",
    "* Be very careful about sanity-checking your results! Sometimes broadcasting can do unexpected things. For example, do you know what happens if you do the following?"
   ]
  },
  {
   "cell_type": "code",
   "execution_count": 95,
   "id": "7342c350-5164-4125-ac01-69ec1979c667",
   "metadata": {},
   "outputs": [],
   "source": [
    "np.random.seed(1234)\n",
    "X1 = np.random.randint(low=1, high=5, size=(3, 3))\n",
    "v1 = np.random.randint(low=1, high=5, size=(3,))\n",
    "what_is_this = X1 * v1"
   ]
  },
  {
   "cell_type": "markdown",
   "id": "93da3758-5198-4680-9847-717e044addf7",
   "metadata": {},
   "source": [
    "If not, be sure you're careful with your dimensions!"
   ]
  },
  {
   "cell_type": "markdown",
   "id": "aa2ff9e6-abce-4027-8ce5-e2f0644c01c6",
   "metadata": {
    "tags": []
   },
   "source": [
    "## Constructing arrays"
   ]
  },
  {
   "cell_type": "markdown",
   "id": "014ec8b8-bbe9-41c8-9e8e-9a1d9360cb55",
   "metadata": {},
   "source": [
    "Here's another example of the usage of broadcasting to drive home the point. Consider that you want to create an array of the 1d particle in a box wave functions. If you don't know what these are, don't worry, just look at the equation below,\n",
    "\n",
    "$$ \\psi_n(x) = \\sqrt{\\frac{2}{L}} \\sin \\frac{n \\pi x}{L}$$\n",
    "\n",
    "Lets take $L = 1$ as constant, and construct the array (matrix) where each row of the matrix represents a different $n = 1, 2, 3, ...$ and each column represents a different value for $x$ on a fixed grid.\n",
    "\n",
    "Using NumPy, this is straightforward to do via **broadcasting**, which we'll discuss later in the context of mathematical operations."
   ]
  },
  {
   "cell_type": "code",
   "execution_count": 20,
   "id": "c6e136f8-c3f2-4ebe-aceb-81c453546b12",
   "metadata": {},
   "outputs": [],
   "source": [
    "L = 1.0\n",
    "x_grid = np.linspace(0.0, L, 1000)\n",
    "n_grid = np.array([nn for nn in range(1, 101)])"
   ]
  },
  {
   "cell_type": "code",
   "execution_count": 21,
   "id": "e26d56f5-4927-495f-8ec4-851505f87881",
   "metadata": {},
   "outputs": [],
   "source": [
    "def psi(x, n, L=L):\n",
    "    return np.sqrt(2.0 / L) * np.sin(n * np.pi * x / L)"
   ]
  },
  {
   "cell_type": "markdown",
   "id": "1ef24967-8d78-4cd0-8bd3-3572173d7fde",
   "metadata": {},
   "source": [
    "First, we can do this the slow way:"
   ]
  },
  {
   "cell_type": "code",
   "execution_count": 24,
   "id": "3fc11d43-b38f-4bdd-a29c-e0e7bfc41c41",
   "metadata": {},
   "outputs": [],
   "source": [
    "psi_matrix_slow = []\n",
    "\n",
    "# For every n\n",
    "for nn in n_grid:\n",
    "    \n",
    "    # Use a temporary array\n",
    "    tmp = []\n",
    "    \n",
    "    # Such that for every x\n",
    "    for xx in x_grid:\n",
    "        tmp.append(psi(xx, nn, L=L))\n",
    "    psi_matrix_slow.append(tmp)\n",
    "\n",
    "# Turn the resulting list of lists into an array\n",
    "psi_matrix_slow = np.array(psi_matrix_slow)"
   ]
  },
  {
   "cell_type": "markdown",
   "id": "5b0bef42-efec-4bc3-9421-c094486d603d",
   "metadata": {},
   "source": [
    "Now, with broadcasting!"
   ]
  },
  {
   "cell_type": "code",
   "execution_count": 14,
   "id": "dd1cf4d6-9cfd-4b16-88ce-086b0aea8dba",
   "metadata": {},
   "outputs": [],
   "source": [
    "psi_matrix = psi(x_grid.reshape(1, -1), n_grid.reshape(-1, 1), L=L)"
   ]
  },
  {
   "cell_type": "code",
   "execution_count": 19,
   "id": "17e01bf0-10f6-4421-9efe-c15345d0a367",
   "metadata": {},
   "outputs": [
    {
     "data": {
      "image/png": "[encoded data removed]",
      "text/plain": [
       "<Figure size 432x288 with 1 Axes>"
      ]
     },
     "metadata": {
      "needs_background": "light"
     },
     "output_type": "display_data"
    }
   ],
   "source": [
    "plt.plot(x_grid.squeeze(), psi_matrix[0, :], 'k')\n",
    "plt.plot(x_grid.squeeze(), psi_matrix[1, :], 'r')\n",
    "plt.plot(x_grid.squeeze(), psi_matrix[2, :], 'b')\n",
    "plt.show()"
   ]
  },
  {
   "cell_type": "markdown",
   "id": "e5339388-1c69-45e1-acb9-bc348a4ca7c4",
   "metadata": {},
   "source": [
    "## Advanced operations"
   ]
  },
  {
   "cell_type": "markdown",
   "id": "0513ebb6-8f4c-4f41-b608-ba65881a78a4",
   "metadata": {},
   "source": [
    "Of course, we want to do more advanced things with NumPy, such as matrix multiplication, dot products, etc. Of course, there are NumPy functions for this! Let's take a look"
   ]
  },
  {
   "cell_type": "markdown",
   "id": "8b64fd25-e7a3-4e0b-9598-0a714f5948ed",
   "metadata": {},
   "source": [
    "### Matrix multiplication"
   ]
  },
  {
   "cell_type": "markdown",
   "id": "d802a873-4c6a-476f-a57f-4bf2147aa043",
   "metadata": {},
   "source": [
    "In Python3, matrix multiplication can be performed using the `@` operator. It's extremely simple, see below. Note that the shapes of the matrices must be compatible."
   ]
  },
  {
   "cell_type": "code",
   "execution_count": 113,
   "id": "aad028a4-b898-407d-b298-9fab7477844b",
   "metadata": {},
   "outputs": [],
   "source": [
    "np.random.seed(123)\n",
    "X1 = np.random.randint(low=1, high=5, size=(20, 20))\n",
    "X2 = np.random.randint(low=1, high=5, size=(20, 30))\n",
    "result = X1 @ X2"
   ]
  },
  {
   "cell_type": "markdown",
   "id": "018e890e-a19a-475a-a698-b4799a164957",
   "metadata": {},
   "source": [
    "As always, let's write a \"dumb\" function to test that this result produces what we want it to."
   ]
  },
  {
   "cell_type": "code",
   "execution_count": 114,
   "id": "14d305cf-a8e2-43a9-a2ab-a536de30ce07",
   "metadata": {},
   "outputs": [],
   "source": [
    "def slow_matmul(mat1, mat2):\n",
    "    mat3 = np.empty(shape=(mat1.shape[0], mat2.shape[1]))\n",
    "    for row in range(mat1.shape[0]):\n",
    "        for col in range(mat2.shape[1]):\n",
    "            mat3[row, col] = 0\n",
    "            for xx, yy in zip(mat1[row, :], mat2[:, col]):\n",
    "                mat3[row, col] += xx * yy\n",
    "    return mat3"
   ]
  },
  {
   "cell_type": "code",
   "execution_count": 115,
   "id": "3ea7db00-e1aa-49ca-9a1b-c78105018e5e",
   "metadata": {},
   "outputs": [],
   "source": [
    "result_slow = slow_matmul(X1, X2)\n",
    "assert np.all(result_slow == result)"
   ]
  },
  {
   "cell_type": "code",
   "execution_count": 116,
   "id": "09c73aef-54be-47f2-bb53-5a7980581708",
   "metadata": {},
   "outputs": [
    {
     "name": "stdout",
     "output_type": "stream",
     "text": [
      "8.28 µs ± 583 ns per loop (mean ± std. dev. of 7 runs, 100000 loops each)\n"
     ]
    }
   ],
   "source": [
    "%timeit X1 @ X2"
   ]
  },
  {
   "cell_type": "code",
   "execution_count": 117,
   "id": "d8da2e02-103a-4fc1-9b2e-516b832919b6",
   "metadata": {},
   "outputs": [
    {
     "name": "stdout",
     "output_type": "stream",
     "text": [
      "6.25 ms ± 356 µs per loop (mean ± std. dev. of 7 runs, 100 loops each)\n"
     ]
    }
   ],
   "source": [
    "%timeit slow_matmul(X1, X2)"
   ]
  },
  {
   "cell_type": "markdown",
   "id": "7eba6b95-ad67-4928-b5f7-200757e90707",
   "metadata": {},
   "source": [
    "The matrix operation is about 1000 times faster, and that's only for extremely small matrices!"
   ]
  },
  {
   "cell_type": "markdown",
   "id": "acc58b56-37d5-49d7-be4e-cff94ed09a6e",
   "metadata": {},
   "source": [
    "### Dot product"
   ]
  },
  {
   "cell_type": "markdown",
   "id": "9aa7a346-4b4e-4dbc-b51f-214c10ea2b0f",
   "metadata": {},
   "source": [
    "The dot product (at least the one we'll focus on) projects two vectors of the same size into the real numbers:\n",
    "\n",
    "$$ \\mathbf{v}_1 \\cdot \\mathbf{v}_2 = c \\in \\mathbb{R}. $$"
   ]
  },
  {
   "cell_type": "markdown",
   "id": "1c7f0a70-ee38-4ee8-8748-e2585ebf7b55",
   "metadata": {},
   "source": [
    "The NumPy `dot` function however, does a _lot_ of things, one of which is this aforementioned operation. Let's start with that one:"
   ]
  },
  {
   "cell_type": "code",
   "execution_count": 84,
   "id": "20baba5e-5768-40fc-b231-3d9d286ecb85",
   "metadata": {},
   "outputs": [],
   "source": [
    "v1 = np.array([1, 2, 3])\n",
    "v2 = np.array([4, 5, 6])"
   ]
  },
  {
   "cell_type": "code",
   "execution_count": 86,
   "id": "0e2c39ee-8202-4abf-ae3e-bb06cb33d8f6",
   "metadata": {},
   "outputs": [],
   "source": [
    "assert np.dot(v1, v2) == 1 * 4 + 2 * 5 + 3 * 6"
   ]
  },
  {
   "cell_type": "markdown",
   "id": "76eba213-0ceb-46fd-bae8-aa628f737e65",
   "metadata": {},
   "source": [
    "It's always useful to look at the documentation for various functions and methods. In NumPy, this is especially important since the inherent broadcasting potential can lead to unexpected results. Let's look at the documentation together."
   ]
  },
  {
   "cell_type": "code",
   "execution_count": 90,
   "id": "28e841ea-5ce0-4963-8724-12406cea31e9",
   "metadata": {},
   "outputs": [],
   "source": [
    "# np.dot?"
   ]
  },
  {
   "cell_type": "markdown",
   "id": "f11c8bad-6519-48a3-9898-a44cab883b55",
   "metadata": {},
   "source": [
    "## Advanced broadcasting example"
   ]
  },
  {
   "cell_type": "markdown",
   "id": "c33006a5-f991-4899-aec9-fa7a4384ca88",
   "metadata": {},
   "source": [
    "As a real life example, let's take an `xyz` file, which is a coordinate file for a molecule, and attempt to determine the atomic connectivity by bond distance. Don't worry too much about the following block of code. This is custom designed to read the format of interest. If you're interested, check out the file `dsgdb9nsd_044615.xyz`, which is one of about 130k molecules stored in the open-sourced [QM9 database](http://quantum-machine.org/datasets/). We've stored this locally for your convenience."
   ]
  },
  {
   "cell_type": "code",
   "execution_count": 15,
   "id": "7e4e8a3e-e584-40a6-aca1-b29758dfa71e",
   "metadata": {},
   "outputs": [],
   "source": [
    "coordinates = []\n",
    "elements = []\n",
    "with open(\"dsgdb9nsd_044615.xyz\", 'r') as file:\n",
    "    n_atoms = int(file.readline())\n",
    "    file.readline()  # skip a comment line\n",
    "    for ii in range(n_atoms):\n",
    "        line = file.readline().replace('.*^', 'e').replace('*^', 'e')\n",
    "        line = line.split()\n",
    "        coordinates.append(np.array(line[1:4], dtype=float))\n",
    "        elements.append(line[0])\n",
    "coordinates = np.array(coordinates)"
   ]
  },
  {
   "cell_type": "markdown",
   "id": "3473e32e-84c7-49e6-b6af-3582775dfb96",
   "metadata": {},
   "source": [
    "We should sanity check `coordinates` to make sure things are sensible.\n",
    "* The number of columns should be 3, one for each of the coordinates $x,$ $y,$ and $z.$\n",
    "* There should be `n_atoms` rows. In this case, 16."
   ]
  },
  {
   "cell_type": "code",
   "execution_count": 13,
   "id": "80f32364-4884-4080-a7e5-dfdfe87b8126",
   "metadata": {},
   "outputs": [],
   "source": [
    "assert coordinates.shape == (n_atoms, 3)"
   ]
  },
  {
   "cell_type": "markdown",
   "id": "ab2d1a45-0636-4a96-ae7c-ea38776085b8",
   "metadata": {},
   "source": [
    "We wish to determine which atoms are \"bonded\" to which other atoms. In chemistry, a bond is not a well-defined concept, but often times for simplicity, we take a simple cutoff (e.g. 2.5 Å). A more common way to determine whether or not two atoms are \"bonded\" is to see if the scaled sum of the atomic radii is less than the distance:\n",
    "\n",
    "$$c(r_i + r_j) < d_{ij}$$\n",
    "\n",
    "If this condition is satisfied, the atoms are considered bonded. Let's take $c=1.3$ and attempt to determine the connectivity."
   ]
  },
  {
   "cell_type": "code",
   "execution_count": 14,
   "id": "e7e33669-fc38-46d3-b1d4-5e864c20d725",
   "metadata": {},
   "outputs": [],
   "source": [
    "ATOMIC_RADII = {'H': 0.23, 'C': 0.68, 'N': 0.68, 'O': 0.68, 'F': 0.64}\n",
    "ELEMENT_INDEXES = {key: ii for ii, key in enumerate(ATOMIC_RADII.keys())}"
   ]
  },
  {
   "cell_type": "markdown",
   "id": "684c9023-7465-4113-b828-5350ac0733e1",
   "metadata": {},
   "source": [
    "The first step is to compute the distance matrix: I.e., the distance between every atom and every other atom:\n",
    "\n",
    "$$ d_{ij} = \\sqrt{(x_i - x_j)^2 + (y_i - y_j)^2 + (z_i - z_j)^2}.$$"
   ]
  },
  {
   "cell_type": "markdown",
   "id": "9cb943dc-653c-42d9-9b99-eca96b36625f",
   "metadata": {},
   "source": [
    "It can help to actually write this out in for-loop notation first, but for this tutorial, the goal is to think about these operations in _terms_ of broadcasting. Consider the shapes of what's involved here. We have a `coordinates` array of shape `(16, 3)`. The final distance matrix should be of shape `(16, 16)`, because all 16 atoms must have a distance to all 16 other atoms (itself included).\n",
    "\n",
    "There is no obvious way to broadcast shapes of `(16, 3)` together to produce a shape of `(16, 16)` aside from using matrix multiply, which is not what we want to do. The solution is to use `np.newaxis` to create a dummy dimension, allowing a new axis for broadcasting.\n",
    "\n",
    "The following code takes the difference, for each coordinate, of each atom from every other."
   ]
  },
  {
   "cell_type": "code",
   "execution_count": 50,
   "id": "1acbb886-3e9b-4cd6-800d-0219c64c77e3",
   "metadata": {},
   "outputs": [
    {
     "data": {
      "text/plain": [
       "(16, 16, 3)"
      ]
     },
     "execution_count": 50,
     "metadata": {},
     "output_type": "execute_result"
    }
   ],
   "source": [
    "diff = coordinates[:, np.newaxis, :] - coordinates[np.newaxis, :, :]\n",
    "diff.shape"
   ]
  },
  {
   "cell_type": "markdown",
   "id": "1f6573df-d8e2-4b0c-88b1-dbc698150e4d",
   "metadata": {},
   "source": [
    "To get the actual $L_2$ norm, we need to take the sum of the squares over the last axis (the axis with shape 3), which corresponds to the coordinates:"
   ]
  },
  {
   "cell_type": "code",
   "execution_count": 51,
   "id": "8afdfd3e-7fa2-4b47-ac4f-06aa526c7768",
   "metadata": {},
   "outputs": [
    {
     "data": {
      "text/plain": [
       "(16, 16)"
      ]
     },
     "execution_count": 51,
     "metadata": {},
     "output_type": "execute_result"
    }
   ],
   "source": [
    "dmat = np.sqrt(np.sum(np.abs(diff)**2, axis=-1))\n",
    "dmat.shape"
   ]
  },
  {
   "cell_type": "markdown",
   "id": "87720188-727c-47a6-af8d-a9a093a52a52",
   "metadata": {},
   "source": [
    "This `dmat` matrix contains the $L_2$ distances between each atom and every other. Note that `scipy` actually has a function to do this, so we can check against that, and use that function for real research, as it is probably faster."
   ]
  },
  {
   "cell_type": "code",
   "execution_count": 52,
   "id": "4362fe39-b03d-4e4f-a0db-8d567b1270c7",
   "metadata": {},
   "outputs": [],
   "source": [
    "from scipy.spatial import distance_matrix"
   ]
  },
  {
   "cell_type": "code",
   "execution_count": 53,
   "id": "50d3d8a9-61a7-4562-b2d2-9b9b8cdda5f5",
   "metadata": {},
   "outputs": [],
   "source": [
    "dmat_scipy = distance_matrix(coordinates, coordinates)"
   ]
  },
  {
   "cell_type": "code",
   "execution_count": 57,
   "id": "e1c82d51-7386-4999-93f9-4cbbc67a5b78",
   "metadata": {},
   "outputs": [
    {
     "data": {
      "text/plain": [
       "True"
      ]
     },
     "execution_count": 57,
     "metadata": {},
     "output_type": "execute_result"
    }
   ],
   "source": [
    "np.all(dmat_scipy == dmat)"
   ]
  },
  {
   "cell_type": "markdown",
   "id": "9da6574e-b5c5-4082-98a7-a86ad9374373",
   "metadata": {},
   "source": [
    "Now that we have the distance matrix, we can actually figure out which atoms are bonded. In the case of a constant cutoff, this is quite simple. We can get the adjacency matrix in one line of code:"
   ]
  },
  {
   "cell_type": "code",
   "execution_count": 62,
   "id": "175bf60b-991d-4234-ba67-cc1849cf621f",
   "metadata": {},
   "outputs": [
    {
     "data": {
      "text/plain": [
       "array([[1, 1, 1, 0, 0, 0, 0, 1, 0, 0, 0, 0, 0, 0, 0, 0],\n",
       "       [1, 1, 1, 1, 0, 0, 1, 1, 1, 0, 0, 0, 0, 0, 1, 0],\n",
       "       [1, 1, 1, 1, 0, 0, 0, 1, 1, 1, 0, 0, 0, 0, 0, 0],\n",
       "       [0, 1, 1, 1, 1, 0, 0, 1, 1, 1, 1, 0, 0, 0, 0, 1],\n",
       "       [0, 0, 0, 1, 1, 1, 1, 1, 1, 1, 1, 1, 1, 0, 0, 1],\n",
       "       [0, 0, 0, 0, 1, 1, 1, 1, 1, 0, 1, 1, 1, 1, 0, 0],\n",
       "       [0, 1, 0, 0, 1, 1, 1, 1, 1, 0, 0, 1, 1, 1, 1, 0],\n",
       "       [1, 1, 1, 1, 1, 1, 1, 1, 1, 0, 0, 0, 0, 1, 1, 1],\n",
       "       [0, 1, 1, 1, 1, 1, 1, 1, 1, 1, 1, 0, 0, 0, 1, 1],\n",
       "       [0, 0, 1, 1, 1, 0, 0, 0, 1, 1, 0, 0, 0, 0, 0, 0],\n",
       "       [0, 0, 0, 1, 1, 1, 0, 0, 1, 0, 1, 1, 0, 0, 0, 0],\n",
       "       [0, 0, 0, 0, 1, 1, 1, 0, 0, 0, 1, 1, 1, 1, 0, 0],\n",
       "       [0, 0, 0, 0, 1, 1, 1, 0, 0, 0, 0, 1, 1, 0, 0, 0],\n",
       "       [0, 0, 0, 0, 0, 1, 1, 1, 0, 0, 0, 1, 0, 1, 1, 0],\n",
       "       [0, 1, 0, 0, 0, 0, 1, 1, 1, 0, 0, 0, 0, 1, 1, 0],\n",
       "       [0, 0, 0, 1, 1, 0, 0, 1, 1, 0, 0, 0, 0, 0, 0, 1]])"
      ]
     },
     "execution_count": 62,
     "metadata": {},
     "output_type": "execute_result"
    }
   ],
   "source": [
    "simple_adj_mat = (dmat < 2.5).astype(int)\n",
    "simple_adj_mat"
   ]
  },
  {
   "cell_type": "markdown",
   "id": "36a46504-8fc8-4278-8d2a-590695d6e2fa",
   "metadata": {},
   "source": [
    "However, since whether or not two atoms are bonded depends on the atom type, our analysis is a bit more complex.\n",
    "\n",
    "First, we get the atomic radii of all 16 atoms:"
   ]
  },
  {
   "cell_type": "code",
   "execution_count": 68,
   "id": "1adeb161-55da-49be-bf53-806242008769",
   "metadata": {},
   "outputs": [],
   "source": [
    "atomic_radii_array = np.atleast_2d(np.array([ATOMIC_RADII[elem] for elem in elements]))\n",
    "assert atomic_radii_array.shape == (1, 16)"
   ]
  },
  {
   "cell_type": "markdown",
   "id": "1f7c287e-00ee-4347-8a64-a45eb0ca4ea7",
   "metadata": {},
   "source": [
    "Next, we get the sum of the atomic radii for all pairs of elements in our molecule:"
   ]
  },
  {
   "cell_type": "code",
   "execution_count": 70,
   "id": "21a465f3-8f4a-4980-b0d3-0e9c7d1f8fad",
   "metadata": {},
   "outputs": [],
   "source": [
    "atomic_radii_matrix = atomic_radii_array.T + atomic_radii_array\n",
    "assert atomic_radii_matrix.shape == (16, 16)"
   ]
  },
  {
   "cell_type": "markdown",
   "id": "370f7d88-a542-46d3-8d50-0c01e09c65e6",
   "metadata": {},
   "source": [
    "Finally, we can do an element-wise comparison to get the true connectivity matrix."
   ]
  },
  {
   "cell_type": "code",
   "execution_count": 81,
   "id": "9edca27e-82b7-4671-898b-b838d04a81f9",
   "metadata": {},
   "outputs": [],
   "source": [
    "adj_mat = (dmat < (atomic_radii_matrix * 1.3)).astype(int)"
   ]
  },
  {
   "cell_type": "code",
   "execution_count": 82,
   "id": "a17ebde7-b6e0-401e-b6b4-6899ed327acf",
   "metadata": {},
   "outputs": [
    {
     "data": {
      "text/plain": [
       "array([[1, 1, 0, 0, 0, 0, 0, 0, 0, 0, 0, 0, 0, 0, 0, 0],\n",
       "       [1, 1, 1, 0, 0, 0, 0, 1, 0, 0, 0, 0, 0, 0, 0, 0],\n",
       "       [0, 1, 1, 1, 0, 0, 0, 0, 0, 0, 0, 0, 0, 0, 0, 0],\n",
       "       [0, 0, 1, 1, 1, 0, 0, 0, 1, 1, 0, 0, 0, 0, 0, 0],\n",
       "       [0, 0, 0, 1, 1, 1, 0, 0, 1, 0, 1, 0, 0, 0, 0, 0],\n",
       "       [0, 0, 0, 0, 1, 1, 1, 0, 0, 0, 0, 1, 1, 0, 0, 0],\n",
       "       [0, 0, 0, 0, 0, 1, 1, 1, 0, 0, 0, 0, 0, 1, 0, 0],\n",
       "       [0, 1, 0, 0, 0, 0, 1, 1, 1, 0, 0, 0, 0, 0, 1, 0],\n",
       "       [0, 0, 0, 1, 1, 0, 0, 1, 1, 0, 0, 0, 0, 0, 0, 1],\n",
       "       [0, 0, 0, 1, 0, 0, 0, 0, 0, 1, 0, 0, 0, 0, 0, 0],\n",
       "       [0, 0, 0, 0, 1, 0, 0, 0, 0, 0, 1, 0, 0, 0, 0, 0],\n",
       "       [0, 0, 0, 0, 0, 1, 0, 0, 0, 0, 0, 1, 0, 0, 0, 0],\n",
       "       [0, 0, 0, 0, 0, 1, 0, 0, 0, 0, 0, 0, 1, 0, 0, 0],\n",
       "       [0, 0, 0, 0, 0, 0, 1, 0, 0, 0, 0, 0, 0, 1, 0, 0],\n",
       "       [0, 0, 0, 0, 0, 0, 0, 1, 0, 0, 0, 0, 0, 0, 1, 0],\n",
       "       [0, 0, 0, 0, 0, 0, 0, 0, 1, 0, 0, 0, 0, 0, 0, 1]])"
      ]
     },
     "execution_count": 82,
     "metadata": {},
     "output_type": "execute_result"
    }
   ],
   "source": [
    "adj_mat"
   ]
  },
  {
   "cell_type": "markdown",
   "id": "1339d999-0e01-40ac-8b12-d208c8294fdc",
   "metadata": {},
   "source": [
    "# Summary"
   ]
  },
  {
   "cell_type": "markdown",
   "id": "fae5dd1c-d975-4f10-a018-c2d9a71c428d",
   "metadata": {},
   "source": [
    "* NumPy is **the** numerical computing tool for Python. If you are a scientist doing any kind of numerical coding and you are _not_ using NumPy, please start now!\n",
    "* NumPy is generally fast, and should be used instead of for loops in essentially every situation.\n",
    "* There are two exceptions: 1) when it is not possible, in e.g. simulations where $x(t + 1) = f(x(t))$, and 2) when memory management becomes an issue."
   ]
  },
  {
   "cell_type": "code",
   "execution_count": null,
   "id": "b19e135c-7d1f-43d4-b168-bcc0b16faf32",
   "metadata": {},
   "outputs": [],
   "source": []
  }
 ],
 "metadata": {
  "kernelspec": {
   "display_name": "Python 3 (ipykernel)",
   "language": "python",
   "name": "python3"
  },
  "language_info": {
   "codemirror_mode": {
    "name": "ipython",
    "version": 3
   },
   "file_extension": ".py",
   "mimetype": "text/x-python",
   "name": "python",
   "nbconvert_exporter": "python",
   "pygments_lexer": "ipython3",
   "version": "3.9.16"
  },
  "toc-autonumbering": true
 },
 "nbformat": 4,
 "nbformat_minor": 5
}
