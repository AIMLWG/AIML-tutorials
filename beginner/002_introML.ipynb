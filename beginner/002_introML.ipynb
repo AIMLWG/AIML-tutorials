{
 "cells": [
  {
   "cell_type": "code",
   "execution_count": 1,
   "id": "8d8b26c3",
   "metadata": {},
   "outputs": [],
   "source": [
    "# For data processing\n",
    "import pandas as pd\n",
    "\n",
    "# for visualization\n",
    "import matplotlib.pyplot as plt\n",
    "# another package for fast and beautiful plots \n",
    "import seaborn as sns\n",
    "# for quick inline visualization\n",
    "sns.set_theme() # use the default theme of seaborn\n",
    "%matplotlib inline \n",
    "\n",
    "# Scikit-learn is a machine learning package\n",
    "# written for python users.\n",
    "# Find more information here: https://scikit-learn.org/stable/\n",
    "# Here we use a dataset it provides.\n",
    "from sklearn.datasets import load_boston"
   ]
  },
  {
   "cell_type": "code",
   "execution_count": 2,
   "id": "891c0b84",
   "metadata": {},
   "outputs": [],
   "source": [
    "# for fast numerical operations\n",
    "import numpy as np\n",
    "# we use scipy.stats library for solving linear regression\n",
    "from scipy.stats import linregress"
   ]
  },
  {
   "cell_type": "markdown",
   "id": "1bf70be8",
   "metadata": {},
   "source": [
    "# Section 1.0: Load data"
   ]
  },
  {
   "cell_type": "code",
   "execution_count": 3,
   "id": "f5a235d4",
   "metadata": {},
   "outputs": [
    {
     "name": "stdout",
     "output_type": "stream",
     "text": [
      ".. _boston_dataset:\n",
      "\n",
      "Boston house prices dataset\n",
      "---------------------------\n",
      "\n",
      "**Data Set Characteristics:**  \n",
      "\n",
      "    :Number of Instances: 506 \n",
      "\n",
      "    :Number of Attributes: 13 numeric/categorical predictive. Median Value (attribute 14) is usually the target.\n",
      "\n",
      "    :Attribute Information (in order):\n",
      "        - CRIM     per capita crime rate by town\n",
      "        - ZN       proportion of residential land zoned for lots over 25,000 sq.ft.\n",
      "        - INDUS    proportion of non-retail business acres per town\n",
      "        - CHAS     Charles River dummy variable (= 1 if tract bounds river; 0 otherwise)\n",
      "        - NOX      nitric oxides concentration (parts per 10 million)\n",
      "        - RM       average number of rooms per dwelling\n",
      "        - AGE      proportion of owner-occupied units built prior to 1940\n",
      "        - DIS      weighted distances to five Boston employment centres\n",
      "        - RAD      index of accessibility to radial highways\n",
      "        - TAX      full-value property-tax rate per $10,000\n",
      "        - PTRATIO  pupil-teacher ratio by town\n",
      "        - B        1000(Bk - 0.63)^2 where Bk is the proportion of blacks by town\n",
      "        - LSTAT    % lower status of the population\n",
      "        - MEDV     Median value of owner-occupied homes in $1000's\n",
      "\n",
      "    :Missing Attribute Values: None\n",
      "\n",
      "    :Creator: Harrison, D. and Rubinfeld, D.L.\n",
      "\n",
      "This is a copy of UCI ML housing dataset.\n",
      "https://archive.ics.uci.edu/ml/machine-learning-databases/housing/\n",
      "\n",
      "\n",
      "This dataset was taken from the StatLib library which is maintained at Carnegie Mellon University.\n",
      "\n",
      "The Boston house-price data of Harrison, D. and Rubinfeld, D.L. 'Hedonic\n",
      "prices and the demand for clean air', J. Environ. Economics & Management,\n",
      "vol.5, 81-102, 1978.   Used in Belsley, Kuh & Welsch, 'Regression diagnostics\n",
      "...', Wiley, 1980.   N.B. Various transformations are used in the table on\n",
      "pages 244-261 of the latter.\n",
      "\n",
      "The Boston house-price data has been used in many machine learning papers that address regression\n",
      "problems.   \n",
      "     \n",
      ".. topic:: References\n",
      "\n",
      "   - Belsley, Kuh & Welsch, 'Regression diagnostics: Identifying Influential Data and Sources of Collinearity', Wiley, 1980. 244-261.\n",
      "   - Quinlan,R. (1993). Combining Instance-Based and Model-Based Learning. In Proceedings on the Tenth International Conference of Machine Learning, 236-243, University of Massachusetts, Amherst. Morgan Kaufmann.\n",
      "\n"
     ]
    }
   ],
   "source": [
    "boston_dataset = load_boston()\n",
    "# print the description of the dataset\n",
    "print(boston_dataset.DESCR)\n",
    "# Note here, as mentioned in the description, \n",
    "# the Median Value (MEDV, attribute 14) is usually the target"
   ]
  },
  {
   "cell_type": "code",
   "execution_count": 4,
   "id": "ce1d5e0b",
   "metadata": {},
   "outputs": [
    {
     "data": {
      "text/html": [
       "<div>\n",
       "<style scoped>\n",
       "    .dataframe tbody tr th:only-of-type {\n",
       "        vertical-align: middle;\n",
       "    }\n",
       "\n",
       "    .dataframe tbody tr th {\n",
       "        vertical-align: top;\n",
       "    }\n",
       "\n",
       "    .dataframe thead th {\n",
       "        text-align: right;\n",
       "    }\n",
       "</style>\n",
       "<table border=\"1\" class=\"dataframe\">\n",
       "  <thead>\n",
       "    <tr style=\"text-align: right;\">\n",
       "      <th></th>\n",
       "      <th>CRIM</th>\n",
       "      <th>ZN</th>\n",
       "      <th>INDUS</th>\n",
       "      <th>CHAS</th>\n",
       "      <th>NOX</th>\n",
       "      <th>RM</th>\n",
       "      <th>AGE</th>\n",
       "      <th>DIS</th>\n",
       "      <th>RAD</th>\n",
       "      <th>TAX</th>\n",
       "      <th>PTRATIO</th>\n",
       "      <th>B</th>\n",
       "      <th>LSTAT</th>\n",
       "      <th>MEDV</th>\n",
       "    </tr>\n",
       "  </thead>\n",
       "  <tbody>\n",
       "    <tr>\n",
       "      <th>0</th>\n",
       "      <td>0.00632</td>\n",
       "      <td>18.0</td>\n",
       "      <td>2.31</td>\n",
       "      <td>0.0</td>\n",
       "      <td>0.538</td>\n",
       "      <td>6.575</td>\n",
       "      <td>65.2</td>\n",
       "      <td>4.0900</td>\n",
       "      <td>1.0</td>\n",
       "      <td>296.0</td>\n",
       "      <td>15.3</td>\n",
       "      <td>396.90</td>\n",
       "      <td>4.98</td>\n",
       "      <td>24.0</td>\n",
       "    </tr>\n",
       "    <tr>\n",
       "      <th>1</th>\n",
       "      <td>0.02731</td>\n",
       "      <td>0.0</td>\n",
       "      <td>7.07</td>\n",
       "      <td>0.0</td>\n",
       "      <td>0.469</td>\n",
       "      <td>6.421</td>\n",
       "      <td>78.9</td>\n",
       "      <td>4.9671</td>\n",
       "      <td>2.0</td>\n",
       "      <td>242.0</td>\n",
       "      <td>17.8</td>\n",
       "      <td>396.90</td>\n",
       "      <td>9.14</td>\n",
       "      <td>21.6</td>\n",
       "    </tr>\n",
       "    <tr>\n",
       "      <th>2</th>\n",
       "      <td>0.02729</td>\n",
       "      <td>0.0</td>\n",
       "      <td>7.07</td>\n",
       "      <td>0.0</td>\n",
       "      <td>0.469</td>\n",
       "      <td>7.185</td>\n",
       "      <td>61.1</td>\n",
       "      <td>4.9671</td>\n",
       "      <td>2.0</td>\n",
       "      <td>242.0</td>\n",
       "      <td>17.8</td>\n",
       "      <td>392.83</td>\n",
       "      <td>4.03</td>\n",
       "      <td>34.7</td>\n",
       "    </tr>\n",
       "    <tr>\n",
       "      <th>3</th>\n",
       "      <td>0.03237</td>\n",
       "      <td>0.0</td>\n",
       "      <td>2.18</td>\n",
       "      <td>0.0</td>\n",
       "      <td>0.458</td>\n",
       "      <td>6.998</td>\n",
       "      <td>45.8</td>\n",
       "      <td>6.0622</td>\n",
       "      <td>3.0</td>\n",
       "      <td>222.0</td>\n",
       "      <td>18.7</td>\n",
       "      <td>394.63</td>\n",
       "      <td>2.94</td>\n",
       "      <td>33.4</td>\n",
       "    </tr>\n",
       "    <tr>\n",
       "      <th>4</th>\n",
       "      <td>0.06905</td>\n",
       "      <td>0.0</td>\n",
       "      <td>2.18</td>\n",
       "      <td>0.0</td>\n",
       "      <td>0.458</td>\n",
       "      <td>7.147</td>\n",
       "      <td>54.2</td>\n",
       "      <td>6.0622</td>\n",
       "      <td>3.0</td>\n",
       "      <td>222.0</td>\n",
       "      <td>18.7</td>\n",
       "      <td>396.90</td>\n",
       "      <td>5.33</td>\n",
       "      <td>36.2</td>\n",
       "    </tr>\n",
       "    <tr>\n",
       "      <th>5</th>\n",
       "      <td>0.02985</td>\n",
       "      <td>0.0</td>\n",
       "      <td>2.18</td>\n",
       "      <td>0.0</td>\n",
       "      <td>0.458</td>\n",
       "      <td>6.430</td>\n",
       "      <td>58.7</td>\n",
       "      <td>6.0622</td>\n",
       "      <td>3.0</td>\n",
       "      <td>222.0</td>\n",
       "      <td>18.7</td>\n",
       "      <td>394.12</td>\n",
       "      <td>5.21</td>\n",
       "      <td>28.7</td>\n",
       "    </tr>\n",
       "    <tr>\n",
       "      <th>6</th>\n",
       "      <td>0.08829</td>\n",
       "      <td>12.5</td>\n",
       "      <td>7.87</td>\n",
       "      <td>0.0</td>\n",
       "      <td>0.524</td>\n",
       "      <td>6.012</td>\n",
       "      <td>66.6</td>\n",
       "      <td>5.5605</td>\n",
       "      <td>5.0</td>\n",
       "      <td>311.0</td>\n",
       "      <td>15.2</td>\n",
       "      <td>395.60</td>\n",
       "      <td>12.43</td>\n",
       "      <td>22.9</td>\n",
       "    </tr>\n",
       "    <tr>\n",
       "      <th>7</th>\n",
       "      <td>0.14455</td>\n",
       "      <td>12.5</td>\n",
       "      <td>7.87</td>\n",
       "      <td>0.0</td>\n",
       "      <td>0.524</td>\n",
       "      <td>6.172</td>\n",
       "      <td>96.1</td>\n",
       "      <td>5.9505</td>\n",
       "      <td>5.0</td>\n",
       "      <td>311.0</td>\n",
       "      <td>15.2</td>\n",
       "      <td>396.90</td>\n",
       "      <td>19.15</td>\n",
       "      <td>27.1</td>\n",
       "    </tr>\n",
       "    <tr>\n",
       "      <th>8</th>\n",
       "      <td>0.21124</td>\n",
       "      <td>12.5</td>\n",
       "      <td>7.87</td>\n",
       "      <td>0.0</td>\n",
       "      <td>0.524</td>\n",
       "      <td>5.631</td>\n",
       "      <td>100.0</td>\n",
       "      <td>6.0821</td>\n",
       "      <td>5.0</td>\n",
       "      <td>311.0</td>\n",
       "      <td>15.2</td>\n",
       "      <td>386.63</td>\n",
       "      <td>29.93</td>\n",
       "      <td>16.5</td>\n",
       "    </tr>\n",
       "    <tr>\n",
       "      <th>9</th>\n",
       "      <td>0.17004</td>\n",
       "      <td>12.5</td>\n",
       "      <td>7.87</td>\n",
       "      <td>0.0</td>\n",
       "      <td>0.524</td>\n",
       "      <td>6.004</td>\n",
       "      <td>85.9</td>\n",
       "      <td>6.5921</td>\n",
       "      <td>5.0</td>\n",
       "      <td>311.0</td>\n",
       "      <td>15.2</td>\n",
       "      <td>386.71</td>\n",
       "      <td>17.10</td>\n",
       "      <td>18.9</td>\n",
       "    </tr>\n",
       "  </tbody>\n",
       "</table>\n",
       "</div>"
      ],
      "text/plain": [
       "      CRIM    ZN  INDUS  CHAS    NOX     RM    AGE     DIS  RAD    TAX  \\\n",
       "0  0.00632  18.0   2.31   0.0  0.538  6.575   65.2  4.0900  1.0  296.0   \n",
       "1  0.02731   0.0   7.07   0.0  0.469  6.421   78.9  4.9671  2.0  242.0   \n",
       "2  0.02729   0.0   7.07   0.0  0.469  7.185   61.1  4.9671  2.0  242.0   \n",
       "3  0.03237   0.0   2.18   0.0  0.458  6.998   45.8  6.0622  3.0  222.0   \n",
       "4  0.06905   0.0   2.18   0.0  0.458  7.147   54.2  6.0622  3.0  222.0   \n",
       "5  0.02985   0.0   2.18   0.0  0.458  6.430   58.7  6.0622  3.0  222.0   \n",
       "6  0.08829  12.5   7.87   0.0  0.524  6.012   66.6  5.5605  5.0  311.0   \n",
       "7  0.14455  12.5   7.87   0.0  0.524  6.172   96.1  5.9505  5.0  311.0   \n",
       "8  0.21124  12.5   7.87   0.0  0.524  5.631  100.0  6.0821  5.0  311.0   \n",
       "9  0.17004  12.5   7.87   0.0  0.524  6.004   85.9  6.5921  5.0  311.0   \n",
       "\n",
       "   PTRATIO       B  LSTAT  MEDV  \n",
       "0     15.3  396.90   4.98  24.0  \n",
       "1     17.8  396.90   9.14  21.6  \n",
       "2     17.8  392.83   4.03  34.7  \n",
       "3     18.7  394.63   2.94  33.4  \n",
       "4     18.7  396.90   5.33  36.2  \n",
       "5     18.7  394.12   5.21  28.7  \n",
       "6     15.2  395.60  12.43  22.9  \n",
       "7     15.2  396.90  19.15  27.1  \n",
       "8     15.2  386.63  29.93  16.5  \n",
       "9     15.2  386.71  17.10  18.9  "
      ]
     },
     "execution_count": 4,
     "metadata": {},
     "output_type": "execute_result"
    }
   ],
   "source": [
    "# load the independent variables\n",
    "boston_df = pd.DataFrame(\n",
    "    data=boston_dataset.data, \n",
    "    columns=boston_dataset.feature_names\n",
    ")\n",
    "# add a column for the dependent variable\n",
    "# It is a convention of scikit-learn to \n",
    "# call a depenent variable, or a variable\n",
    "# an algorithm is trying to predict, \n",
    "# a target variable. \n",
    "boston_df['MEDV'] = boston_dataset.target\n",
    "# Have a quick view of the dataframe \n",
    "boston_df.head(n=10)\n",
    "# note here if we run the head function without argument,\n",
    "# 5 rows of data will be shown"
   ]
  },
  {
   "cell_type": "markdown",
   "id": "a2e3d48d",
   "metadata": {},
   "source": [
    "# Section 1.1: Univariate linear regression\n",
    "In this part, we solve two univariate linear regression problem with\n",
    "the following two independent variables\n",
    "- RM: average number of rooms per dwelling\n",
    "- PTRATIO: pupil-teacher ratio by town"
   ]
  },
  {
   "cell_type": "code",
   "execution_count": 5,
   "id": "2dfb4d62",
   "metadata": {},
   "outputs": [
    {
     "data": {
      "image/png": "[encoded data removed]",
      "text/plain": [
       "<Figure size 720x288 with 2 Axes>"
      ]
     },
     "metadata": {
      "needs_background": "light"
     },
     "output_type": "display_data"
    }
   ],
   "source": [
    "# Let us see whether we can get some insight into the relation between \n",
    "# the independent and dependent variables just from the plots.\n",
    "fig, axes = plt.subplots(1, 2, figsize=(10, 4))\n",
    "axes[0].scatter(x=boston_df['RM'], y=boston_df['MEDV'], c='blue', s=2)\n",
    "axes[0].set_xlabel('Room number')\n",
    "axes[0].set_ylabel('MEDV')\n",
    "axes[1].scatter(x=boston_df['PTRATIO'], y=boston_df['MEDV'], c='orange', s=2)\n",
    "axes[1].set_xlabel('pupil-teach ratio')\n",
    "plt.show()\n",
    "# Observations:\n",
    "# 1. The prices increase as the value of RM increases linearly with some some outliers\n",
    "# 2. The prices decrease as the the puple-teach ration increase, but the relation\n",
    "# is much more scattered. "
   ]
  },
  {
   "cell_type": "markdown",
   "id": "a423fc1a",
   "metadata": {},
   "source": [
    "## Section 1.1.1: Calculating the analytic solutions for coefficient $a$ and bias $b$\n",
    "Since we are fitting a single line, $a$ is also called slope and $b$, intercept "
   ]
  },
  {
   "cell_type": "code",
   "execution_count": 6,
   "id": "73b3b4d7",
   "metadata": {},
   "outputs": [],
   "source": [
    "# Now let us use the analytic formula for a and b to \n",
    "# solve the univariate linear regression\n",
    "def get_coef_bias(xs, ys):\n",
    "    x_sum = sum(xs)\n",
    "    y_sum = sum(ys)\n",
    "    x_squared_sum = sum(x**2 for x in xs)\n",
    "    cross_sum = sum(x * y for x, y in zip(xs, ys))\n",
    "    \n",
    "    denominator = (x_sum) ** 2 - len(xs) * x_squared_sum\n",
    "    a = (x_sum * y_sum - len(xs) * cross_sum) / denominator\n",
    "    b = (x_sum * cross_sum - y_sum * x_squared_sum) / denominator\n",
    "\n",
    "    return a, b"
   ]
  },
  {
   "cell_type": "code",
   "execution_count": 7,
   "id": "8bd2adf1",
   "metadata": {},
   "outputs": [
    {
     "name": "stdout",
     "output_type": "stream",
     "text": [
      "Regression 1: Room number vs price\n",
      "\tslope = 9.1021\n",
      "\tintercept = -34.6706\n",
      "Regression 2: Pupil-teach ratio vs price\n",
      "\tslope = -2.1572\n",
      "\tintercept = 62.3446\n"
     ]
    }
   ],
   "source": [
    "# Room number vs price\n",
    "a_rm, b_rm = get_coef_bias(boston_df['RM'], boston_df['MEDV'])\n",
    "print('Regression 1: Room number vs price')\n",
    "print(f'\\tslope = {a_rm:.4f}')\n",
    "print(f'\\tintercept = {b_rm:.4f}')\n",
    "\n",
    "# pupil-teach ratio vs price\n",
    "a_pt, b_pt = get_coef_bias(boston_df['PTRATIO'], boston_df['MEDV'])\n",
    "print('Regression 2: Pupil-teach ratio vs price')\n",
    "print(f'\\tslope = {a_pt:.4f}')\n",
    "print(f'\\tintercept = {b_pt:.4f}')"
   ]
  },
  {
   "cell_type": "markdown",
   "id": "4b673816",
   "metadata": {},
   "source": [
    "## Section 1.1.2: Use `scipy.stat.linregress` to solving linear regression\n",
    "I feel very confident to say that, the way we calculate $a$ and $b$ in the function `get_coef_bias` is not the most efficient way of doing it.\n",
    "And we have a well-tested and optimized option provided by Python's `SciPy` package.\n",
    "And here is the one-liner solution for the two univariate regression problems above\n",
    "\n",
    "We have already imported the linregress function in the second cell."
   ]
  },
  {
   "cell_type": "code",
   "execution_count": 8,
   "id": "c05cf5e2",
   "metadata": {},
   "outputs": [],
   "source": [
    "def get_linregress_result(x, y):\n",
    "    slope, intercept, r_value, p_value, std_err = linregress(x, y) # the one-liner solution here\n",
    "    result = {\n",
    "        'slope': slope, # the coefficient a\n",
    "        'intercept': intercept, # the bias b\n",
    "        # we will talk about these evaluation metrics later\n",
    "        'r_value': r_value, \n",
    "        'p_value': p_value,\n",
    "        'std_err': std_err \n",
    "    }\n",
    "    return result"
   ]
  },
  {
   "cell_type": "code",
   "execution_count": 9,
   "id": "1aa4aa09",
   "metadata": {},
   "outputs": [
    {
     "name": "stdout",
     "output_type": "stream",
     "text": [
      "Regression 1: Room number vs price\n",
      "\tslope = 9.1021\n",
      "\tintercept = -34.6706\n",
      "Regression 1: pupil-teach ratio vs price\n",
      "\tslope = -2.1572\n",
      "\tintercept = 62.3446\n"
     ]
    }
   ],
   "source": [
    "# Room number vs price\n",
    "result_rm = get_linregress_result(boston_df['RM'], boston_df['MEDV'])\n",
    "print('Regression 1: Room number vs price')\n",
    "print(f\"\\tslope = {result_rm['slope']:.4f}\")\n",
    "print(f\"\\tintercept = {result_rm['intercept']:.4f}\")\n",
    "\n",
    "# pupil-teach ratio vs price\n",
    "result_pt = get_linregress_result(boston_df['PTRATIO'], boston_df['MEDV'])\n",
    "print('Regression 1: pupil-teach ratio vs price')\n",
    "print(f\"\\tslope = {result_pt['slope']:.4f}\")\n",
    "print(f\"\\tintercept = {result_pt['intercept']:.4f}\")"
   ]
  },
  {
   "cell_type": "markdown",
   "id": "0027a4db",
   "metadata": {},
   "source": [
    "## Section 1.1.3: How to evalution a regression model\n",
    "Let $\\bar{y} = (1/n)\\sum_{i=1}^{n}y_i$, $\\bar{x} = (1/n)\\sum_{i=1}^{n}x_i$, and $y_i = \\hat{a}x_i + \\hat{b}$\n",
    "- **R-squared value**: $R^2 = 1 - \\frac{\\sum\\left(y_i - \\hat{y}_i\\right)^2}{\\sum\\left(y_i - \\bar{y}\\right)^2}$.\n",
    "    - An $R^2$ of $1$ means there is no error in the regression.\n",
    "    - An $R^2$ of $0$ means the independent variable provides no better predictions of $y_i$ than using the mean of $\\bar{y}$ (**in the squared error sense**).\n",
    "    - A negative $R^2$ means regression does worse than predicting by mean (**in the squared error sense**).\n",
    "- **P value**: Let the null hypothesis be “the independent variable has no explanatory power to the dependent variable”, P value is the probability of rejecting the null hypothesis mistakenly. \n",
    "The smaller P value is, the more likely that the independent variable explains the dependent variable.\n",
    "- **Standard error**: $\\sqrt{\\frac{\\sum\\left(y_i - \\hat{y}_i\\right)^2}{(n - 2)\\sum\\left(x_i - \\bar{x}\\right)^2}}$.\n",
    "\n",
    "From the plots, we can see the relation between room number and price is clearer than that between pupil-teach ratio and price. \n",
    "This observation is confirmed by the postive $R^2$ value of room number and the negative one of pupil-teach ratio.\n",
    "However, both independent variables has $0$ p-values, meaning that they both are significantly related to the price.\n",
    "This mean, we may not be able to evalute a regression model by a single metric."
   ]
  },
  {
   "cell_type": "code",
   "execution_count": 10,
   "id": "c7bfe680",
   "metadata": {},
   "outputs": [
    {
     "name": "stdout",
     "output_type": "stream",
     "text": [
      "Regression 1: Room number vs price\n",
      "\tR-squared = 0.6954\n",
      "\tp-value = 0.0000\n",
      "\tStandard error = 0.4190\n",
      "Regression 1: pupil-teach ratio vs price\n",
      "\tR-squared = -0.5078\n",
      "\tp-value = 0.0000\n",
      "\tStandard error = 0.1630\n"
     ]
    }
   ],
   "source": [
    "print('Regression 1: Room number vs price')\n",
    "print(f\"\\tR-squared = {result_rm['r_value']:.4f}\")\n",
    "print(f\"\\tp-value = {result_rm['p_value']:.4f}\")\n",
    "print(f\"\\tStandard error = {result_rm['std_err']:.4f}\")\n",
    "\n",
    "print('Regression 1: pupil-teach ratio vs price')\n",
    "print(f\"\\tR-squared = {result_pt['r_value']:.4f}\")\n",
    "print(f\"\\tp-value = {result_pt['p_value']:.4f}\")\n",
    "print(f\"\\tStandard error = {result_pt['std_err']:.4f}\")"
   ]
  },
  {
   "cell_type": "markdown",
   "id": "28c6a9fd",
   "metadata": {},
   "source": [
    "## Section 1.1.3: Making prediction with linear regression.\n",
    "In this part, we split the dataset into two parts: train and test. \n",
    "We learn a univariate linear regression using data in the train split and \n",
    "test how well the model works for test data.\n",
    "\n",
    "In this section, we will also switch to the scikit-learn's `LinearRegression` model.\n",
    "The good thing of `LinearRegression` is that we can fit the model (get the slope and intercept) \n",
    "with train data in one line and run the model on test data in another line. \n",
    "We don't have to extract the slope and intercept explicitly as we would do with the `Scipy` version \n",
    "and ensemble them to apply to the test data."
   ]
  },
  {
   "cell_type": "code",
   "execution_count": 11,
   "id": "3593476a",
   "metadata": {},
   "outputs": [],
   "source": [
    "# For split a dataset into train and test\n",
    "from sklearn.model_selection import train_test_split\n",
    "# The scikit-learn version of LinearRegression\n",
    "from sklearn.linear_model import LinearRegression\n",
    "# metrics we are going to use to evaluate the prediction made by the model\n",
    "from sklearn.metrics import (\n",
    "    mean_squared_error, \n",
    "    r2_score\n",
    ")\n",
    "\n",
    "def linregress_predict(X, Y, seed=None, verbose=True):\n",
    "    X_train, X_test, Y_train, Y_test = train_test_split(X, Y, test_size=.2, random_state=seed)\n",
    "\n",
    "    lin_model = LinearRegression()\n",
    "    # fit, or train, the model\n",
    "    lin_model.fit(X_train, Y_train) \n",
    "\n",
    "    # predict, first one the train data itself\n",
    "    # we do a prediction on the train data primarily to see whether\n",
    "    # the current model is a good model for the problem or not\n",
    "    # Suppose the the error is huge even on train data, \n",
    "    # that may mean either we need to try some other model or\n",
    "    # the independent variable lacks explantory power to the dependent variable\n",
    "\n",
    "    result = {}\n",
    "\n",
    "    y_train_predict = lin_model.predict(X_train)\n",
    "    rmse = np.sqrt(mean_squared_error(Y_train, y_train_predict))\n",
    "    r2 = r2_score(Y_train, y_train_predict)\n",
    "    if verbose:\n",
    "        print(\"Model performance on the train split\")\n",
    "        print(\"--------------------------------------\")\n",
    "        print(f'RMSE is {rmse:.3f}')\n",
    "        print(f'R2 score is {r2: .3f}\\n')\n",
    "\n",
    "    result['train rmse'] = rmse\n",
    "    result['train r2'] = r2\n",
    "\n",
    "    # now let us test the model's performance on the test dataset\n",
    "    y_test_predict = lin_model.predict(X_test)\n",
    "    rmse = np.sqrt(mean_squared_error(Y_test, y_test_predict))\n",
    "    r2 = r2_score(Y_test, y_test_predict)\n",
    "\n",
    "    if verbose:\n",
    "        print(\"Model performance on the test split\")\n",
    "        print(\"--------------------------------------\")\n",
    "        print(f'RMSE is {rmse:.3f}')\n",
    "        print(f'R2 score is {r2: .3f}\\n')\n",
    "\n",
    "    result['test rmse'] = rmse\n",
    "    result['test r2'] = r2\n",
    "    \n",
    "    return lin_model, result"
   ]
  },
  {
   "cell_type": "code",
   "execution_count": 12,
   "id": "1b307e9b",
   "metadata": {},
   "outputs": [
    {
     "name": "stdout",
     "output_type": "stream",
     "text": [
      "Regression 1: Room number vs price\n",
      "Model performance on the train split\n",
      "--------------------------------------\n",
      "RMSE is 6.356\n",
      "R2 score is  0.519\n",
      "\n",
      "Model performance on the test split\n",
      "--------------------------------------\n",
      "RMSE is 7.511\n",
      "R2 score is  0.346\n",
      "\n"
     ]
    }
   ],
   "source": [
    "# Why we have to reshape x. Well, X is suppose to be a 2D matrix, \n",
    "# even if we are doing univariate linear regression. \n",
    "X, Y = boston_df['RM'].values.reshape(-1, 1), boston_df['MEDV'].values\n",
    "print('Regression 1: Room number vs price')\n",
    "_, _ = linregress_predict(X, Y, seed=None)"
   ]
  },
  {
   "cell_type": "code",
   "execution_count": 13,
   "id": "06571501",
   "metadata": {},
   "outputs": [
    {
     "name": "stdout",
     "output_type": "stream",
     "text": [
      "Regression 1: Pupil-teach ratio vs price\n",
      "Model performance on the train split\n",
      "--------------------------------------\n",
      "RMSE is 7.809\n",
      "R2 score is  0.280\n",
      "\n",
      "Model performance on the test split\n",
      "--------------------------------------\n",
      "RMSE is 8.347\n",
      "R2 score is  0.161\n",
      "\n"
     ]
    }
   ],
   "source": [
    "X, Y = boston_df['PTRATIO'].values.reshape(-1, 1), boston_df['MEDV'].values\n",
    "print('Regression 1: Pupil-teach ratio vs price')\n",
    "_, _ = linregress_predict(X, Y, seed=None)"
   ]
  },
  {
   "cell_type": "markdown",
   "id": "a9eef27c",
   "metadata": {},
   "source": [
    "### Section 1.1.4: Stress Test"
   ]
  },
  {
   "cell_type": "code",
   "execution_count": 14,
   "id": "47208036",
   "metadata": {},
   "outputs": [
    {
     "name": "stdout",
     "output_type": "stream",
     "text": [
      "Room number mean rmse:  6.7838\n",
      "Room Number mean r2:  0.4364\n"
     ]
    }
   ],
   "source": [
    "X, Y = boston_df['RM'].values.reshape(-1, 1), boston_df['MEDV'].values\n",
    "results = {'rmse': [], 'r2': []}\n",
    "for _ in range(100):\n",
    "    _, result = linregress_predict(X, Y, verbose=False)\n",
    "    results['rmse'].append(result['test rmse'])\n",
    "    results['r2'].append(result['test r2'])\n",
    "\n",
    "print(f\"Room number mean rmse: {np.mean(results['rmse']): .4f}\")\n",
    "print(f\"Room Number mean r2: {np.mean(results['r2']): .4f}\")"
   ]
  },
  {
   "cell_type": "code",
   "execution_count": 15,
   "id": "7689fc09",
   "metadata": {},
   "outputs": [
    {
     "name": "stdout",
     "output_type": "stream",
     "text": [
      "Pupil-teach ratio mean rmse:  7.9367\n",
      "Pupil-teach ratio mean r2:  0.2397\n"
     ]
    }
   ],
   "source": [
    "X, Y = boston_df['PTRATIO'].values.reshape(-1, 1), boston_df['MEDV'].values\n",
    "results = {'rmse': [], 'r2': []}\n",
    "for _ in range(100):\n",
    "    _, result = linregress_predict(X, Y, verbose=False)\n",
    "    results['rmse'].append(result['test rmse'])\n",
    "    results['r2'].append(result['test r2'])\n",
    "\n",
    "print(f\"Pupil-teach ratio mean rmse: {np.mean(results['rmse']): .4f}\")\n",
    "print(f\"Pupil-teach ratio mean r2: {np.mean(results['r2']): .4f}\")"
   ]
  },
  {
   "cell_type": "markdown",
   "id": "e38e0add",
   "metadata": {},
   "source": [
    "Conclusion: the model works **consistently** on train and test dataset, which mean, \n",
    "it is not exactly **overfitted** for the training data and failed to generalize to the supposedly unseen test data.\n",
    "We will see later in the regularization part when overfitting does happen and how we may deal with it."
   ]
  },
  {
   "cell_type": "markdown",
   "id": "0cb6385f",
   "metadata": {},
   "source": [
    "# Section 1.2 Multivariate linear regression\n",
    "In this part, we try to use all of the variable to predict price and see whether we can get a better prediction result from more independent variables.\n",
    "In this part, we use linear regression provided by `statsmodels.api`. \n",
    "\n",
    "Install the `statsmodels` package by running `conda install -c conda-forge statsmodels` or `pip install statsmodels`.\n",
    "(loading the model is kind of slow...)"
   ]
  },
  {
   "cell_type": "code",
   "execution_count": 16,
   "id": "809c1117",
   "metadata": {},
   "outputs": [],
   "source": [
    "import statsmodels.api as sm"
   ]
  },
  {
   "cell_type": "markdown",
   "id": "8e715251",
   "metadata": {},
   "source": [
    "### Section 1.2.1: Preprocessing the data"
   ]
  },
  {
   "cell_type": "code",
   "execution_count": 17,
   "id": "3f893388",
   "metadata": {},
   "outputs": [],
   "source": [
    "# 2. Standardize the data\n",
    "# We usbe the StandardScaler from sklearn.preprocess to normalize \n",
    "# each independent variable to have mean 0 and standard deviation 1.\n",
    "from sklearn.preprocessing import StandardScaler\n",
    "# remove the target and normalize the independent variables\n",
    "Y = boston_df['MEDV']\n",
    "# X = boston_df.drop('MEDV', axis=1)\n",
    "X = boston_df.drop(['AGE', 'INDUS', 'MEDV'], axis=1)\n",
    "X_normalized = pd.DataFrame(StandardScaler().fit_transform(X), columns=X.columns)"
   ]
  },
  {
   "cell_type": "markdown",
   "id": "698989b2",
   "metadata": {},
   "source": [
    "### Sections 1.2.2: Train and predict"
   ]
  },
  {
   "cell_type": "code",
   "execution_count": 18,
   "id": "77928583",
   "metadata": {},
   "outputs": [
    {
     "name": "stdout",
     "output_type": "stream",
     "text": [
      "                            OLS Regression Results                            \n",
      "==============================================================================\n",
      "Dep. Variable:                   MEDV   R-squared:                       0.737\n",
      "Model:                            OLS   Adj. R-squared:                  0.729\n",
      "Method:                 Least Squares   F-statistic:                     99.70\n",
      "Date:                Fri, 10 Dec 2021   Prob (F-statistic):          2.77e-106\n",
      "Time:                        09:40:32   Log-Likelihood:                -1205.1\n",
      "No. Observations:                 404   AIC:                             2434.\n",
      "Df Residuals:                     392   BIC:                             2482.\n",
      "Df Model:                          11                                         \n",
      "Covariance Type:            nonrobust                                         \n",
      "==============================================================================\n",
      "                 coef    std err          t      P>|t|      [0.025      0.975]\n",
      "------------------------------------------------------------------------------\n",
      "const         22.4504      0.242     92.725      0.000      21.974      22.926\n",
      "CRIM          -0.9478      0.299     -3.166      0.002      -1.536      -0.359\n",
      "ZN             0.7642      0.374      2.044      0.042       0.029       1.499\n",
      "CHAS           0.5999      0.237      2.533      0.012       0.134       1.066\n",
      "NOX           -2.1760      0.462     -4.713      0.000      -3.084      -1.268\n",
      "RM             2.8281      0.327      8.637      0.000       2.184       3.472\n",
      "DIS           -2.9849      0.465     -6.417      0.000      -3.899      -2.070\n",
      "RAD            2.6241      0.662      3.961      0.000       1.322       3.926\n",
      "TAX           -2.0082      0.682     -2.943      0.003      -3.350      -0.667\n",
      "PTRATIO       -2.2481      0.321     -6.995      0.000      -2.880      -1.616\n",
      "B              0.7617      0.272      2.796      0.005       0.226       1.297\n",
      "LSTAT         -3.4667      0.389     -8.903      0.000      -4.232      -2.701\n",
      "==============================================================================\n",
      "Omnibus:                      170.895   Durbin-Watson:                   2.017\n",
      "Prob(Omnibus):                  0.000   Jarque-Bera (JB):              939.693\n",
      "Skew:                           1.739   Prob(JB):                    8.88e-205\n",
      "Kurtosis:                       9.613   Cond. No.                         8.31\n",
      "==============================================================================\n",
      "\n",
      "Notes:\n",
      "[1] Standard Errors assume that the covariance matrix of the errors is correctly specified.\n",
      "\n",
      "\n",
      "Model performance on the train split\n",
      "--------------------------------------\n",
      "RMSE is 4.778\n",
      "R2 score is  0.737\n",
      "\n",
      "Model performance on the test split\n",
      "--------------------------------------\n",
      "RMSE is 4.331\n",
      "R2 score is  0.751\n",
      "\n"
     ]
    }
   ],
   "source": [
    "# Train-test split and fit a linear regression model with train\n",
    "seed = None\n",
    "X_train, X_test, Y_train, Y_test = train_test_split(X_normalized, Y, test_size=.2, random_state=seed)\n",
    "\n",
    "# Don't forget to add a column of 1 for the bias\n",
    "X_train = sm.add_constant(X_train, prepend=True)\n",
    "\n",
    "model = sm.OLS(Y_train, X_train).fit() # OLS means ordinary least square\n",
    "print(model.summary())\n",
    "\n",
    "# Test the model on the train data\n",
    "y_train_predict = model.predict(X_train)\n",
    "rmse = np.sqrt(mean_squared_error(Y_train, y_train_predict))\n",
    "r2 = r2_score(Y_train, y_train_predict)\n",
    "\n",
    "print(\"\\n\\nModel performance on the train split\")\n",
    "print(\"--------------------------------------\")\n",
    "print(f'RMSE is {rmse:.3f}')\n",
    "print(f'R2 score is {r2: .3f}\\n')\n",
    "\n",
    "# Finally test the model on test data\n",
    "X_test = sm.add_constant(X_test, prepend=True)\n",
    "y_test_predict = model.predict(X_test)\n",
    "rmse = np.sqrt(mean_squared_error(Y_test, y_test_predict))\n",
    "r2 = r2_score(Y_test, y_test_predict)\n",
    "\n",
    "print(\"Model performance on the test split\")\n",
    "print(\"--------------------------------------\")\n",
    "print(f'RMSE is {rmse:.3f}')\n",
    "print(f'R2 score is {r2: .3f}\\n')"
   ]
  },
  {
   "cell_type": "markdown",
   "id": "a4c6cd07",
   "metadata": {},
   "source": [
    "### Section 1.2.3: Stress test\n",
    "Let us see why having more independent variables will consistently well than having only one predictor "
   ]
  },
  {
   "cell_type": "code",
   "execution_count": 19,
   "id": "92f513ea",
   "metadata": {},
   "outputs": [
    {
     "name": "stdout",
     "output_type": "stream",
     "text": [
      "mean rmse:  4.8424\n",
      "mean r2:  0.7084\n"
     ]
    }
   ],
   "source": [
    "def sm_predict(X, Y, seed=None):\n",
    "\n",
    "    X_train, X_test, Y_train, Y_test = train_test_split(X, Y, test_size=.2, random_state=seed)\n",
    "    X_train = sm.add_constant(X_train, prepend=True)\n",
    "    model = sm.OLS(Y_train, X_train).fit() # OLS means ordinary least square\n",
    "\n",
    "    result = {}\n",
    "\n",
    "    # Test the data on the train data\n",
    "    y_train_predict = model.predict(X_train)\n",
    "    result['train rmse'] = np.sqrt(mean_squared_error(Y_train, y_train_predict))\n",
    "    result['train r2'] = r2_score(Y_train, y_train_predict)\n",
    "\n",
    "    # Finally let us see how the model performs on test data\n",
    "    X_test = sm.add_constant(X_test, prepend=True)\n",
    "    y_test_predict = model.predict(X_test)\n",
    "    result['test rmse'] = np.sqrt(mean_squared_error(Y_test, y_test_predict))\n",
    "    result['test r2'] = r2_score(Y_test, y_test_predict)\n",
    "\n",
    "    return result\n",
    "\n",
    "results = {'rmse': [], 'r2': []}\n",
    "for _ in range(100):\n",
    "    result = sm_predict(X_normalized, Y)\n",
    "    results['rmse'].append(result['test rmse'])\n",
    "    results['r2'].append(result['test r2'])\n",
    "\n",
    "print(f\"mean rmse: {np.mean(results['rmse']): .4f}\")\n",
    "print(f\"mean r2: {np.mean(results['r2']): .4f}\")"
   ]
  },
  {
   "cell_type": "markdown",
   "id": "69139469",
   "metadata": {},
   "source": [
    "# Some backstage stories"
   ]
  },
  {
   "cell_type": "code",
   "execution_count": 20,
   "id": "3f30496d",
   "metadata": {},
   "outputs": [
    {
     "data": {
      "text/plain": [
       "<AxesSubplot:>"
      ]
     },
     "execution_count": 20,
     "metadata": {},
     "output_type": "execute_result"
    },
    {
     "data": {
      "image/png": "[encoded data removed]",
      "text/plain": [
       "<Figure size 864x720 with 2 Axes>"
      ]
     },
     "metadata": {
      "needs_background": "light"
     },
     "output_type": "display_data"
    }
   ],
   "source": [
    "# We want to start with a univariate linear regression \n",
    "# I calculate the correlation matrix \n",
    "# to find independent variables that has strong\n",
    "# postive and negative correlation with the target variable\n",
    "# As a matter of fact, the coefficient a (slop) in the ax + b= y\n",
    "# is exactly the correlation between x and y.\n",
    "correlation_matrix = boston_df.corr().round(2)\n",
    "fig, ax = plt.subplots(1, 1, figsize=(12, 10))\n",
    "sns.heatmap(data=correlation_matrix, annot=True, ax=ax)"
   ]
  },
  {
   "cell_type": "code",
   "execution_count": 21,
   "id": "a1f7167c",
   "metadata": {},
   "outputs": [
    {
     "data": {
      "image/png": "[encoded data removed]",
      "text/plain": [
       "<Figure size 720x288 with 2 Axes>"
      ]
     },
     "metadata": {
      "needs_background": "light"
     },
     "output_type": "display_data"
    }
   ],
   "source": [
    "# In fact, seaborn can add linear regression line\n",
    "# to scatter plot. \n",
    "fig, axes = plt.subplots(1, 2, figsize=(10, 4))\n",
    "\n",
    "p_rm = sns.regplot(\n",
    "    data=boston_df, x='RM', y='MEDV', \n",
    "    ax=axes[0], \n",
    "    scatter_kws={'color': 'blue', 's': 2}, \n",
    "    line_kws={'color': 'blue'}\n",
    ")\n",
    "p_pt = sns.regplot(\n",
    "    data=boston_df, x='PTRATIO', y='MEDV', \n",
    "    ax=axes[1], \n",
    "    scatter_kws={'color': 'orange', 's': 2}, \n",
    "    line_kws={'color': 'orange'}\n",
    ")"
   ]
  },
  {
   "cell_type": "code",
   "execution_count": null,
   "id": "f1965015",
   "metadata": {},
   "outputs": [],
   "source": []
  },
  {
   "cell_type": "markdown",
   "id": "07b93955",
   "metadata": {},
   "source": [
    "# Logistic regression\n",
    "Some content in this notebook is adapted from the following website   \n",
    "https://www.datacamp.com/community/tutorials/understanding-logistic-regression-python"
   ]
  },
  {
   "cell_type": "code",
   "execution_count": 22,
   "id": "640d90eb",
   "metadata": {},
   "outputs": [],
   "source": [
    "import numpy as np\n",
    "import pandas as pd\n",
    "import matplotlib.pyplot as plt\n",
    "%matplotlib inline"
   ]
  },
  {
   "cell_type": "code",
   "execution_count": 23,
   "id": "ac6e4152",
   "metadata": {},
   "outputs": [],
   "source": [
    "from sklearn.model_selection import train_test_split\n",
    "from sklearn.preprocessing import StandardScaler\n",
    "from sklearn.linear_model import LogisticRegression\n",
    "from sklearn.metrics import (\n",
    "    accuracy_score,\n",
    "    confusion_matrix\n",
    ")"
   ]
  },
  {
   "cell_type": "markdown",
   "id": "e8ae4bd3",
   "metadata": {},
   "source": [
    "## Section 0.1: logit and sigmoid function\n",
    "logit function and sigmoid function are inverse to each other"
   ]
  },
  {
   "cell_type": "code",
   "execution_count": 24,
   "id": "76fec694",
   "metadata": {},
   "outputs": [
    {
     "data": {
      "text/plain": [
       "<matplotlib.legend.Legend at 0x1dc03a59eb0>"
      ]
     },
     "execution_count": 24,
     "metadata": {},
     "output_type": "execute_result"
    },
    {
     "data": {
      "image/png": "[encoded data removed]",
      "text/plain": [
       "<Figure size 432x288 with 1 Axes>"
      ]
     },
     "metadata": {
      "needs_background": "light"
     },
     "output_type": "display_data"
    }
   ],
   "source": [
    "def logit(p):\n",
    "    return np.log(p / (1 - p))\n",
    "\n",
    "def sigmoid(z):\n",
    "    return 1 / (1 + np.exp(-z))\n",
    "\n",
    "x_sig = np.arange(-2.5, 2.5, .1)\n",
    "y_sig = sigmoid(x_sig)\n",
    "x_logit = np.linspace(y_sig.min(), y_sig.max(), 100)\n",
    "y_logit = logit(x_logit)\n",
    "\n",
    "fig, ax = plt.subplots(1, 1)\n",
    "ax.set_aspect(1)\n",
    "\n",
    "plt.plot(x_sig, y_sig, label='sigmoid')\n",
    "plt.plot(x_logit, y_logit, label='logit')\n",
    "plt.plot([-2, 2], [-2, 2], color='k', ls='--')\n",
    "plt.axvline(0, color='k')\n",
    "plt.axhline(0, color='k')\n",
    "ax.legend()"
   ]
  },
  {
   "cell_type": "markdown",
   "id": "c28eb62f",
   "metadata": {},
   "source": [
    "## Section 0.2: Cross-entropy function"
   ]
  },
  {
   "cell_type": "code",
   "execution_count": 25,
   "id": "cf1c8c36",
   "metadata": {},
   "outputs": [
    {
     "data": {
      "text/plain": [
       "<matplotlib.legend.Legend at 0x1dba16577f0>"
      ]
     },
     "execution_count": 25,
     "metadata": {},
     "output_type": "execute_result"
    },
    {
     "data": {
      "image/png": "[encoded data removed]",
      "text/plain": [
       "<Figure size 432x288 with 1 Axes>"
      ]
     },
     "metadata": {
      "needs_background": "light"
     },
     "output_type": "display_data"
    }
   ],
   "source": [
    "def CE(p, x):\n",
    "    return -p * np.log(x) - (1 - p) * np.log(1 - x)\n",
    "\n",
    "x = np.arange(0.01, 1, 0.01)\n",
    "fig, ax = plt.subplots(1, 1)\n",
    "y_1 = CE(.3, x)\n",
    "y_2 = CE(.7, x)\n",
    "ax.plot(x, y_1, label='$p=.3$')\n",
    "ax.plot(x, y_2, label='$p=.7$')\n",
    "ax.axvline(.3, c='k', ls='--')\n",
    "ax.axvline(.7, c='k', ls='--')\n",
    "ax.legend()"
   ]
  },
  {
   "cell_type": "markdown",
   "id": "dabf36e9",
   "metadata": {},
   "source": [
    "# Section 1. Logistic regression"
   ]
  },
  {
   "cell_type": "code",
   "execution_count": 26,
   "id": "1b80aa55",
   "metadata": {},
   "outputs": [
    {
     "name": "stdout",
     "output_type": "stream",
     "text": [
      "number of train examples = 576\n",
      "number of test examples = 192\n"
     ]
    }
   ],
   "source": [
    "# Load data\n",
    "df = pd.read_csv('diabetes.csv')\n",
    "df = df.drop('SkinThickness', axis=1)\n",
    "\n",
    "# Get independent and dependent variable\n",
    "# a categorical dependent variable is also called a label\n",
    "X = df.drop('Outcome', axis=1) # explanatory variables\n",
    "# Try comment the following line of normalization out \n",
    "# and see what is going to happen in model fitting\n",
    "X = pd.DataFrame(StandardScaler().fit_transform(X), columns=X.columns)\n",
    "Y = df.Outcome # the binary (0-1) response\n",
    "\n",
    "# Train-test split (keep 25% for test)\n",
    "seed = 0\n",
    "X_train, X_test, Y_train, Y_test = train_test_split(X, Y, test_size=.25, random_state=seed)\n",
    "print(f'number of train examples = {len(X_train)}')\n",
    "print(f'number of test examples = {len(X_test)}')\n",
    "# Train model with train data\n",
    "logreg = LogisticRegression(penalty='none').fit(X_train, Y_train)"
   ]
  },
  {
   "cell_type": "code",
   "execution_count": 27,
   "id": "cd8b780f",
   "metadata": {},
   "outputs": [
    {
     "name": "stdout",
     "output_type": "stream",
     "text": [
      "[0 0 0 1 1]\n",
      "[[0.922543   0.077457  ]\n",
      " [0.79637449 0.20362551]\n",
      " [0.89897387 0.10102613]\n",
      " [0.19420833 0.80579167]\n",
      " [0.25182241 0.74817759]]\n"
     ]
    }
   ],
   "source": [
    "# How well the model fits the tarin data\n",
    "y_train_predict = logreg.predict(X_train)\n",
    "# Let us first see what the prediction looks like\n",
    "print(y_train_predict[:5])\n",
    "# In case we need the predicted probability instead, we can do\n",
    "y_train_predict_proba = logreg.predict_proba(X_train)\n",
    "print(y_train_predict_proba[:5])"
   ]
  },
  {
   "cell_type": "code",
   "execution_count": 28,
   "id": "d7d4e1ee",
   "metadata": {},
   "outputs": [
    {
     "name": "stdout",
     "output_type": "stream",
     "text": [
      "[[324  87]\n",
      " [ 46 119]]\n"
     ]
    }
   ],
   "source": [
    "# Evaluate classification accuracy by confusion matrix\n",
    "# Confusion is an n x n matrix if there are n different labels.\n",
    "# In our case, the confusion matrix is going to be 2 x 2.\n",
    "c_matrix = confusion_matrix(y_train_predict, Y_train)\n",
    "print(c_matrix)"
   ]
  },
  {
   "cell_type": "code",
   "execution_count": 29,
   "id": "8cedbe83",
   "metadata": {},
   "outputs": [
    {
     "name": "stdout",
     "output_type": "stream",
     "text": [
      "true positive = 119\n",
      "true negative = 324\n",
      "false positive = 46\n",
      "false negative = 87\n",
      "classification accuracy (by definition) = 0.76910\n",
      "classification accuracy (sklearn) = 0.76910\n"
     ]
    }
   ],
   "source": [
    "# Let us see what the numbers mean in the confusion matrix\n",
    "TP, TN, FP, FN = 0, 0, 0, 0\n",
    "for tl, pl in zip(Y_train, y_train_predict):\n",
    "    # tl: true label\n",
    "    # pl: predicted label\n",
    "    if tl == 1 and pl == 1:\n",
    "        TP += 1\n",
    "        continue\n",
    "    if tl == 0 and pl == 0:\n",
    "        TN += 1\n",
    "        continue\n",
    "    if tl == 0 and pl == 1:\n",
    "        FP += 1\n",
    "        continue\n",
    "    if tl == 1 and pl == 0:\n",
    "        FN += 1\n",
    "\n",
    "print(f'true positive = {TP}')\n",
    "print(f'true negative = {TN}')\n",
    "print(f'false positive = {FP}')\n",
    "print(f'false negative = {FN}')\n",
    "\n",
    "# Classification accuracy is equal to (TP + TN) / (total examples)\n",
    "clf_accuracy = (TP + TN) / (len(X_train))\n",
    "print(f'classification accuracy (by definition) = {clf_accuracy:.5f}')\n",
    "\n",
    "# Sklearn provide a simpler way to get classification accuracy\n",
    "clf_accuracy = accuracy_score(y_train_predict, Y_train)\n",
    "print(f'classification accuracy (sklearn) = {clf_accuracy:.5f}')"
   ]
  },
  {
   "cell_type": "code",
   "execution_count": 30,
   "id": "4886eba8",
   "metadata": {},
   "outputs": [
    {
     "name": "stdout",
     "output_type": "stream",
     "text": [
      "confusion matrix:\n",
      "[[118  25]\n",
      " [ 12  37]]\n",
      "classification accuracy = 0.80729\n"
     ]
    }
   ],
   "source": [
    "# How well the model fits the test data\n",
    "y_test_predict = logreg.predict(X_test)\n",
    "c_matrix = confusion_matrix(y_test_predict, Y_test)\n",
    "print(f'confusion matrix:\\n{c_matrix}')\n",
    "clf_accuracy = accuracy_score(y_test_predict, Y_test)\n",
    "print(f'classification accuracy = {clf_accuracy:.5f}')"
   ]
  },
  {
   "cell_type": "markdown",
   "id": "c5ec62ef",
   "metadata": {},
   "source": [
    "# Section 3: Regularization"
   ]
  },
  {
   "cell_type": "code",
   "execution_count": 31,
   "id": "71a18766",
   "metadata": {},
   "outputs": [],
   "source": [
    "import numpy as np\n",
    "import matplotlib.pyplot as plt"
   ]
  },
  {
   "cell_type": "code",
   "execution_count": 32,
   "id": "796f0a48",
   "metadata": {},
   "outputs": [],
   "source": [
    "from sklearn.datasets import load_boston\n",
    "from sklearn.model_selection import train_test_split\n",
    "from sklearn.preprocessing import StandardScaler\n",
    "from sklearn.linear_model import Lasso, Ridge, ElasticNet\n",
    "from sklearn.metrics import mean_squared_error"
   ]
  },
  {
   "cell_type": "code",
   "execution_count": 52,
   "id": "21cf3ba9",
   "metadata": {},
   "outputs": [
    {
     "name": "stdout",
     "output_type": "stream",
     "text": [
      "number of examples: 506\n",
      "number of features: 13\n"
     ]
    }
   ],
   "source": [
    "# loading the data\n",
    "# the return_X_y=True to download only the independent and dependent variables\n",
    "X, y = load_boston(return_X_y=True)\n",
    "# don't forget normalization!\n",
    "X = StandardScaler().fit_transform(X)\n",
    "num_examples, num_features = X.shape\n",
    "print(f'number of examples: {num_examples}')\n",
    "print(f'number of features: {num_features}')\n",
    "seed = 29\n",
    "X_train, X_test, y_train, y_test = train_test_split(X, y, test_size=0.8, random_state=seed)"
   ]
  },
  {
   "cell_type": "code",
   "execution_count": 53,
   "id": "ad3cea55",
   "metadata": {},
   "outputs": [],
   "source": [
    "# Functions for evaluating model and plot rmses as function of lambda\n",
    "# where lambda is the coefficient of the regularization term\n",
    "def evaluate_model(Model, lambdas):\n",
    "    rmses_train, rmses_test = [], []\n",
    "    for l in lambdas:\n",
    "        # alpha is the lambda in the slides\n",
    "        # Model will be either Lasso, Ridge or ElasticNet\n",
    "        # Since analytic solution may no longer exists,\n",
    "        # the model is train using iterative method (gradient descent)\n",
    "        model = Model(alpha=l, max_iter=1000)\n",
    "        model.fit(X_train, y_train)\n",
    "\n",
    "        y_train_predict = model.predict(X_train)\n",
    "        rmses_train.append(np.sqrt(mean_squared_error(y_train, y_train_predict)))\n",
    "\n",
    "        y_test_predict = model.predict(X_test)\n",
    "        rmses_test.append(np.sqrt(mean_squared_error(y_test, y_test_predict)))\n",
    "        \n",
    "    return rmses_train, rmses_test\n",
    "\n",
    "def plot(lambdas, rmses_train, rmses_test, title):\n",
    "    fig, ax = plt.subplots(1, 1)\n",
    "    ax.plot(lambdas, rmses_train, label=\"train MSE\")\n",
    "    ax.plot(lambdas, rmses_test, label=\"test MSE\")\n",
    "    ax.set_xlabel(\"$\\\\lambda$\")\n",
    "    ax.set_ylabel(\"RMSE\")\n",
    "    ax.set_title(title, fontsize=20)\n",
    "    ax.legend(fontsize=14)\n",
    "    plt.show()"
   ]
  },
  {
   "cell_type": "code",
   "execution_count": 54,
   "id": "cb9bde72",
   "metadata": {},
   "outputs": [
    {
     "data": {
      "image/png": "[encoded data removed]",
      "text/plain": [
       "<Figure size 432x288 with 1 Axes>"
      ]
     },
     "metadata": {
      "needs_background": "light"
     },
     "output_type": "display_data"
    }
   ],
   "source": [
    "model, title = Lasso, 'Lasso'\n",
    "lambdas = np.arange(0.1, 5, 0.1)\n",
    "rmses_train, rmses_test = evaluate_model(model, lambdas)\n",
    "plot(lambdas, rmses_train, rmses_test, title)"
   ]
  },
  {
   "cell_type": "code",
   "execution_count": 56,
   "id": "d38153da",
   "metadata": {},
   "outputs": [
    {
     "data": {
      "image/png": "[encoded data removed]",
      "text/plain": [
       "<Figure size 432x288 with 1 Axes>"
      ]
     },
     "metadata": {
      "needs_background": "light"
     },
     "output_type": "display_data"
    }
   ],
   "source": [
    "model, title = Ridge, 'Ridge'\n",
    "lambdas = np.arange(0, 100, 10)\n",
    "rmses_train, rmses_test = evaluate_model(model, lambdas)\n",
    "plot(lambdas, rmses_train, rmses_test, title)"
   ]
  },
  {
   "cell_type": "code",
   "execution_count": 37,
   "id": "e54d4c44",
   "metadata": {},
   "outputs": [
    {
     "data": {
      "image/png": "[encoded data removed]",
      "text/plain": [
       "<Figure size 432x288 with 1 Axes>"
      ]
     },
     "metadata": {
      "needs_background": "light"
     },
     "output_type": "display_data"
    }
   ],
   "source": [
    "model, title = ElasticNet, 'ElasticNet'\n",
    "lambdas = np.arange(0.1, 3, .1)\n",
    "rmses_train, rmses_test = evaluate_model(model, lambdas)\n",
    "plot(lambdas, rmses_train, rmses_test, title)"
   ]
  },
  {
   "cell_type": "markdown",
   "id": "7e9924bc",
   "metadata": {},
   "source": [
    "# Section 4: From Regression to Neural Network"
   ]
  },
  {
   "cell_type": "code",
   "execution_count": 38,
   "id": "2da05745",
   "metadata": {},
   "outputs": [],
   "source": [
    "import pandas as pd\n",
    "import numpy as np"
   ]
  },
  {
   "cell_type": "code",
   "execution_count": 39,
   "id": "82df7f06",
   "metadata": {},
   "outputs": [],
   "source": [
    "from sklearn.datasets import load_boston\n",
    "from sklearn.preprocessing import StandardScaler\n",
    "from sklearn.model_selection import train_test_split\n",
    "import torch\n",
    "import torch.nn as nn"
   ]
  },
  {
   "cell_type": "code",
   "execution_count": 40,
   "id": "9599d225",
   "metadata": {},
   "outputs": [],
   "source": [
    "class Network(nn.Module):\n",
    "    def __init__(self):\n",
    "        super().__init__()\n",
    "        self.hidden = nn.Linear(13, 100)\n",
    "        self.sigmoid = nn.Sigmoid()\n",
    "        self.output = nn.Linear(100, 1)\n",
    "        \n",
    "    def forward(self, x):\n",
    "        x = self.hidden(x)\n",
    "        x = self.sigmoid(x)\n",
    "        x = self.output(x)\n",
    "        return x"
   ]
  }
 ],
 "metadata": {
  "interpreter": {
   "hash": "4ad09f9fd21a1c2531abb4c3dadf7773a43b72e34365b59d6e5a1d67dfb327ce"
  },
  "kernelspec": {
   "display_name": "Python 3.9.2 64-bit",
   "language": "python",
   "name": "python3"
  },
  "language_info": {
   "codemirror_mode": {
    "name": "ipython",
    "version": 3
   },
   "file_extension": ".py",
   "mimetype": "text/x-python",
   "name": "python",
   "nbconvert_exporter": "python",
   "pygments_lexer": "ipython3",
   "version": "3.9.2"
  }
 },
 "nbformat": 4,
 "nbformat_minor": 5
}
