{
 "cells": [
  {
   "cell_type": "markdown",
   "id": "b199b22c-9c50-4421-8165-bc77423d4a4d",
   "metadata": {
    "tags": []
   },
   "source": [
    "# Beginner Series Tutorial 2: NumPy and Tabular Data"
   ]
  },
  {
   "cell_type": "markdown",
   "id": "b1edb69f-2f64-46fd-a4c1-e36f616b7f8d",
   "metadata": {},
   "source": [
    "In this tutorial we will go over the fundamentals of loading, manipulating, saving and visualizing tabular data using arguably the most popular Python libraries: `numpy`, `pandas` and `matplotlib`. By the end of this, you will hopefully be comfortable with:\n",
    "1. Using `numpy` to _efficiently_ process numeric data\n",
    "2. Understanding the lightweight `numpy` wrapper `pandas` and its utility"
   ]
  },
  {
   "cell_type": "markdown",
   "id": "4e8cc2cc-0298-4ff0-ac5e-7618a2f6c6de",
   "metadata": {},
   "source": [
    "# Introduction"
   ]
  },
  {
   "cell_type": "markdown",
   "id": "c378e5c6-517a-4c65-8d44-990b1babf7c6",
   "metadata": {
    "tags": []
   },
   "source": [
    "## What is `numpy`?"
   ]
  },
  {
   "cell_type": "markdown",
   "id": "5920a539-5164-4ad2-877a-75232a6d3d2b",
   "metadata": {},
   "source": [
    "The library `numpy` (NumPy) stands for **num**erical **py**thon. You can find its excellent documentation [here](https://numpy.org/doc/stable/). It is a jack-of-all-trades, state-of-the-art, open-sourced library for handling any and all types of numerical data you can imagine. I will outline a few of its features as provided in the [first pages of its documentation](https://numpy.org/doc/stable/user/whatisnumpy.html).\n",
    "\n",
    "1. NumPy facilitates the creation of fixed-size arrays of the _same datatype_.\n",
    "2. NumPy has advanced mathematical operations built-in. These are implemented efficiently using compiled backends.\n",
    "3. NumPy supports _vectorization_, allowing for fewer lines of code and faster execution.\n",
    "\n",
    "It is also worth noting that NumPy is extremely well-tested, actively maintained, and serves as the foundation for almost _all_ numerical scientific code written in Python. If you are doing numerical science in Python, you're either using NumPy or using a library that uses NumPy."
   ]
  },
  {
   "cell_type": "markdown",
   "id": "b477d17a-6e84-486b-ab50-923b2b66f898",
   "metadata": {
    "tags": []
   },
   "source": [
    "## What is the point of this tutorial?"
   ]
  },
  {
   "cell_type": "markdown",
   "id": "155eb090-16a0-4380-834f-d5e24ea1264d",
   "metadata": {},
   "source": [
    "This tutorial serves as one of a few intended to get everyone interested in the AI/ML series on the same page. If you're a beginner, we hope that you'll benefit from the overview of basic concepts, and the references to various documentation pages which can provide more detail where this tutorial is sparse. If you're not a beginner, we hope that this tutorial might help you use NumPy more efficiently, and possibly teach you something new! Regardless, keep the following in mind:\n",
    "\n",
    "> The bread and butter of PyTorch (the library we'll be using for machine learning applications) is the `Tensor` object. This object is built on top of NumPy arrays and follows the same syntax. A solid, fundamental understand of NumPy is critical to understanding the machine learning code we will be discussing in future tutorials.\n",
    "\n",
    "Also, keep the following in mind during the tutorial:\n",
    "1. The notebook is meant to be a standalone document. While we will present this live, everything you'll need should be self-contained in the notebook, so don't worry if you miss something.\n",
    "2. Everything we present here will be _fast_ unless stated otherwise. What do we mean by fast? Essentially, it's \"as optimized as possible\" in Python."
   ]
  },
  {
   "cell_type": "markdown",
   "id": "d92ba9da-9827-4064-940f-9e988a9267ba",
   "metadata": {},
   "source": [
    "## Importing/installing NumPy"
   ]
  },
  {
   "cell_type": "markdown",
   "id": "bd7e2938-7178-44a1-aefa-533a135dc811",
   "metadata": {},
   "source": [
    "NumPy is not a standard library (contained in the Python installation like e.g. `os`). It can be easily installed via `pip` by `pip install numpy`. It is already pre-installed on Google Colab, so all that needs to be done is the actual importing. We use `np` as shorthand for NumPy (this is essentially a ubiquitous convention)."
   ]
  },
  {
   "cell_type": "code",
   "execution_count": 2,
   "id": "a8841e7c-6358-43b8-8e90-d3829e73f2fe",
   "metadata": {},
   "outputs": [],
   "source": [
    "import numpy as np"
   ]
  },
  {
   "cell_type": "markdown",
   "id": "8fabaea7-0c68-4402-902b-2ecda366386b",
   "metadata": {},
   "source": [
    "# The basics"
   ]
  },
  {
   "cell_type": "markdown",
   "id": "5b7d275a-e3ab-49bc-b759-ed3ab2d8446c",
   "metadata": {},
   "source": [
    "The core of NumPy is the `ndarray` object (see [here](https://numpy.org/doc/stable/user/absolute_beginners.html#more-information-about-arrays)). This stands for \"N-dimensional array\" and is basically a container for numerical data. It's easiest to see this by example. For instance, here is an `ndarray` object of one dimension (a vector):"
   ]
  },
  {
   "cell_type": "code",
   "execution_count": 6,
   "id": "41c4f91c-d0b1-49a2-beaf-32b9a5bc298f",
   "metadata": {},
   "outputs": [
    {
     "data": {
      "text/plain": [
       "array([1, 2, 3])"
      ]
     },
     "execution_count": 6,
     "metadata": {},
     "output_type": "execute_result"
    }
   ],
   "source": [
    "v = np.array([1, 2, 3])\n",
    "v  # Note that Jupyter Notebooks allow for \"rendering\" by simply typing the object at the end of the cell"
   ]
  },
  {
   "cell_type": "markdown",
   "id": "43277305-282e-4d4f-a21c-e362ced88f26",
   "metadata": {},
   "source": [
    "Possibly the most useful operation for debugging NumPy code is the `.shape` property. Often times, checking the \"shape\" of an `ndarray` is an easy, efficient and fast way of checking to make sure your arrays are doing what they're supposed to do. This will be especially important when considering broadcasting. For now, we have initialized an `ndarray` vector, so we expect our shape to have only one dimension:"
   ]
  },
  {
   "cell_type": "code",
   "execution_count": 7,
   "id": "494ed078-615d-45a2-9b06-91bb43abee2b",
   "metadata": {},
   "outputs": [
    {
     "data": {
      "text/plain": [
       "(3,)"
      ]
     },
     "execution_count": 7,
     "metadata": {},
     "output_type": "execute_result"
    }
   ],
   "source": [
    "v.shape"
   ]
  },
  {
   "cell_type": "markdown",
   "id": "d5471ef5-dbc1-4686-a691-fb6319de3a35",
   "metadata": {},
   "source": [
    "Indeed, we see that the `v.shape` result is a tuple, noting that the only dimension has three entries. How about a 2-dimensional array?"
   ]
  },
  {
   "cell_type": "code",
   "execution_count": 8,
   "id": "adebda8e-c7c3-49bc-ad57-90b845e22cf7",
   "metadata": {},
   "outputs": [
    {
     "data": {
      "text/plain": [
       "array([[1, 2, 3],\n",
       "       [4, 5, 6]])"
      ]
     },
     "execution_count": 8,
     "metadata": {},
     "output_type": "execute_result"
    }
   ],
   "source": [
    "X = np.array([[1, 2, 3], [4, 5, 6]])\n",
    "X"
   ]
  },
  {
   "cell_type": "markdown",
   "id": "40dab163-8b34-4b29-9694-87d84cbb439d",
   "metadata": {},
   "source": [
    "As before let's check the shape:"
   ]
  },
  {
   "cell_type": "code",
   "execution_count": 9,
   "id": "c7ef15ed-b8d8-406c-9ffd-1d0971079225",
   "metadata": {},
   "outputs": [
    {
     "data": {
      "text/plain": [
       "(2, 3)"
      ]
     },
     "execution_count": 9,
     "metadata": {},
     "output_type": "execute_result"
    }
   ],
   "source": [
    "X.shape"
   ]
  },
  {
   "cell_type": "markdown",
   "id": "db3c83d7-d8d1-4687-813e-b2af65464de4",
   "metadata": {},
   "source": [
    "We see that the first dimension in `X.shape`, following with standard matrix convention, is the number of rows and the second is the number of columns."
   ]
  },
  {
   "cell_type": "code",
   "execution_count": 11,
   "id": "8e133dcc-14df-49d8-8e41-b0137d5cebbe",
   "metadata": {},
   "outputs": [
    {
     "data": {
      "text/plain": [
       "3"
      ]
     },
     "execution_count": 11,
     "metadata": {},
     "output_type": "execute_result"
    }
   ],
   "source": []
  },
  {
   "cell_type": "code",
   "execution_count": null,
   "id": "c7050399-5a25-460b-bb44-2d5031a76753",
   "metadata": {},
   "outputs": [],
   "source": []
  }
 ],
 "metadata": {
  "kernelspec": {
   "display_name": "Python 3 (ipykernel)",
   "language": "python",
   "name": "python3"
  },
  "language_info": {
   "codemirror_mode": {
    "name": "ipython",
    "version": 3
   },
   "file_extension": ".py",
   "mimetype": "text/x-python",
   "name": "python",
   "nbconvert_exporter": "python",
   "pygments_lexer": "ipython3",
   "version": "3.7.11"
  },
  "toc-autonumbering": true
 },
 "nbformat": 4,
 "nbformat_minor": 5
}
