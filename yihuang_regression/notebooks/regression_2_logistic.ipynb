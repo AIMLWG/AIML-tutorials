{
 "cells": [
  {
   "cell_type": "markdown",
   "metadata": {},
   "source": [
    "# Logistic regression\n",
    "Some content in this notebook is adapted from the following website   \n",
    "https://www.datacamp.com/community/tutorials/understanding-logistic-regression-python"
   ]
  },
  {
   "cell_type": "code",
   "execution_count": 1,
   "metadata": {},
   "outputs": [],
   "source": [
    "import numpy as np\n",
    "import pandas as pd\n",
    "import matplotlib.pyplot as plt\n",
    "%matplotlib inline"
   ]
  },
  {
   "cell_type": "code",
   "execution_count": 2,
   "metadata": {},
   "outputs": [],
   "source": [
    "from sklearn.model_selection import train_test_split\n",
    "from sklearn.preprocessing import StandardScaler\n",
    "from sklearn.linear_model import LogisticRegression\n",
    "from sklearn.metrics import (\n",
    "    accuracy_score,\n",
    "    confusion_matrix\n",
    ")"
   ]
  },
  {
   "cell_type": "markdown",
   "metadata": {},
   "source": [
    "## Section 0.1: logit and sigmoid function\n",
    "logit function and sigmoid function are inverse to each other"
   ]
  },
  {
   "cell_type": "code",
   "execution_count": 3,
   "metadata": {},
   "outputs": [
    {
     "data": {
      "text/plain": [
       "<matplotlib.legend.Legend at 0x263807dba30>"
      ]
     },
     "execution_count": 3,
     "metadata": {},
     "output_type": "execute_result"
    },
    {
     "data": {
      "image/png": "[encoded data removed]",
      "text/plain": [
       "<Figure size 432x288 with 1 Axes>"
      ]
     },
     "metadata": {
      "needs_background": "light"
     },
     "output_type": "display_data"
    }
   ],
   "source": [
    "def logit(p):\n",
    "    return np.log(p / (1 - p))\n",
    "\n",
    "def sigmoid(z):\n",
    "    return 1 / (1 + np.exp(-z))\n",
    "\n",
    "x_sig = np.arange(-2.5, 2.5, .1)\n",
    "y_sig = sigmoid(x_sig)\n",
    "x_logit = np.linspace(y_sig.min(), y_sig.max(), 100)\n",
    "y_logit = logit(x_logit)\n",
    "\n",
    "fig, ax = plt.subplots(1, 1)\n",
    "ax.set_aspect(1)\n",
    "\n",
    "plt.plot(x_sig, y_sig, label='sigmoid')\n",
    "plt.plot(x_logit, y_logit, label='logit')\n",
    "plt.plot([-2, 2], [-2, 2], color='k', ls='--')\n",
    "plt.axvline(0, color='k')\n",
    "plt.axhline(0, color='k')\n",
    "ax.legend()"
   ]
  },
  {
   "cell_type": "markdown",
   "metadata": {},
   "source": [
    "## Section 0.2: Cross-entropy function"
   ]
  },
  {
   "cell_type": "code",
   "execution_count": 4,
   "metadata": {},
   "outputs": [
    {
     "data": {
      "text/plain": [
       "<matplotlib.legend.Legend at 0x26331547790>"
      ]
     },
     "execution_count": 4,
     "metadata": {},
     "output_type": "execute_result"
    },
    {
     "data": {
      "image/png": "[encoded data removed]",
      "text/plain": [
       "<Figure size 432x288 with 1 Axes>"
      ]
     },
     "metadata": {
      "needs_background": "light"
     },
     "output_type": "display_data"
    }
   ],
   "source": [
    "def CE(p, x):\n",
    "    return -p * np.log(x) - (1 - p) * np.log(1 - x)\n",
    "\n",
    "x = np.arange(0.01, 1, 0.01)\n",
    "fig, ax = plt.subplots(1, 1)\n",
    "y_1 = CE(.3, x)\n",
    "y_2 = CE(.7, x)\n",
    "ax.plot(x, y_1, label='$p=.3$')\n",
    "ax.plot(x, y_2, label='$p=.7$')\n",
    "ax.axvline(.3, c='k', ls='--')\n",
    "ax.axvline(.7, c='k', ls='--')\n",
    "ax.legend()"
   ]
  },
  {
   "cell_type": "markdown",
   "metadata": {},
   "source": [
    "# Section 1. Logistic regression"
   ]
  },
  {
   "cell_type": "code",
   "execution_count": 5,
   "metadata": {},
   "outputs": [
    {
     "name": "stdout",
     "output_type": "stream",
     "text": [
      "number of train examples = 576\n",
      "number of test examples = 192\n"
     ]
    }
   ],
   "source": [
    "# Load data\n",
    "df = pd.read_csv('diabetes.csv')\n",
    "df = df.drop('SkinThickness', axis=1)\n",
    "\n",
    "# Get independent and dependent variable\n",
    "# a categorical dependent variable is also called a label\n",
    "X = df.drop('Outcome', axis=1) # explanatory variables\n",
    "# Try comment the following line of normalization out \n",
    "# and see what is going to happen in model fitting\n",
    "X = pd.DataFrame(StandardScaler().fit_transform(X), columns=X.columns)\n",
    "Y = df.Outcome # the binary (0-1) response\n",
    "\n",
    "# Train-test split (keep 25% for test)\n",
    "seed = 0\n",
    "X_train, X_test, Y_train, Y_test = train_test_split(X, Y, test_size=.25, random_state=seed)\n",
    "print(f'number of train examples = {len(X_train)}')\n",
    "print(f'number of test examples = {len(X_test)}')\n",
    "# Train model with train data\n",
    "logreg = LogisticRegression(penalty='none').fit(X_train, Y_train)"
   ]
  },
  {
   "cell_type": "code",
   "execution_count": 6,
   "metadata": {},
   "outputs": [
    {
     "name": "stdout",
     "output_type": "stream",
     "text": [
      "[0 0 0 1 1]\n",
      "[[0.922543   0.077457  ]\n",
      " [0.79637449 0.20362551]\n",
      " [0.89897387 0.10102613]\n",
      " [0.19420833 0.80579167]\n",
      " [0.25182241 0.74817759]]\n"
     ]
    }
   ],
   "source": [
    "# How well the model fits the tarin data\n",
    "y_train_predict = logreg.predict(X_train)\n",
    "# Let us first see what the prediction looks like\n",
    "print(y_train_predict[:5])\n",
    "# In case we need the predicted probability instead, we can do\n",
    "y_train_predict_proba = logreg.predict_proba(X_train)\n",
    "print(y_train_predict_proba[:5])"
   ]
  },
  {
   "cell_type": "code",
   "execution_count": 7,
   "metadata": {},
   "outputs": [
    {
     "name": "stdout",
     "output_type": "stream",
     "text": [
      "[[324  87]\n",
      " [ 46 119]]\n"
     ]
    }
   ],
   "source": [
    "# Evaluate classification accuracy by confusion matrix\n",
    "# Confusion is an n x n matrix if there are n different labels.\n",
    "# In our case, the confusion matrix is going to be 2 x 2.\n",
    "c_matrix = confusion_matrix(y_train_predict, Y_train)\n",
    "print(c_matrix)"
   ]
  },
  {
   "cell_type": "code",
   "execution_count": 8,
   "metadata": {},
   "outputs": [
    {
     "name": "stdout",
     "output_type": "stream",
     "text": [
      "true positive = 119\n",
      "true negative = 324\n",
      "false positive = 46\n",
      "false negative = 87\n",
      "classification accuracy (by definition) = 0.76910\n",
      "classification accuracy (sklearn) = 0.76910\n"
     ]
    }
   ],
   "source": [
    "# Let us see what the numbers mean in the confusion matrix\n",
    "TP, TN, FP, FN = 0, 0, 0, 0\n",
    "for tl, pl in zip(Y_train, y_train_predict):\n",
    "    # tl: true label\n",
    "    # pl: predicted label\n",
    "    if tl == 1 and pl == 1:\n",
    "        TP += 1\n",
    "        continue\n",
    "    if tl == 0 and pl == 0:\n",
    "        TN += 1\n",
    "        continue\n",
    "    if tl == 0 and pl == 1:\n",
    "        FP += 1\n",
    "        continue\n",
    "    if tl == 1 and pl == 0:\n",
    "        FN += 1\n",
    "\n",
    "print(f'true positive = {TP}')\n",
    "print(f'true negative = {TN}')\n",
    "print(f'false positive = {FP}')\n",
    "print(f'false negative = {FN}')\n",
    "\n",
    "# Classification accuracy is equal to (TP + TN) / (total examples)\n",
    "clf_accuracy = (TP + TN) / (len(X_train))\n",
    "print(f'classification accuracy (by definition) = {clf_accuracy:.5f}')\n",
    "\n",
    "# Sklearn provide a simpler way to get classification accuracy\n",
    "clf_accuracy = accuracy_score(y_train_predict, Y_train)\n",
    "print(f'classification accuracy (sklearn) = {clf_accuracy:.5f}')"
   ]
  },
  {
   "cell_type": "code",
   "execution_count": 9,
   "metadata": {},
   "outputs": [
    {
     "name": "stdout",
     "output_type": "stream",
     "text": [
      "confusion matrix:\n",
      "[[118  25]\n",
      " [ 12  37]]\n",
      "classification accuracy = 0.80729\n"
     ]
    }
   ],
   "source": [
    "# How well the model fits the test data\n",
    "y_test_predict = logreg.predict(X_test)\n",
    "c_matrix = confusion_matrix(y_test_predict, Y_test)\n",
    "print(f'confusion matrix:\\n{c_matrix}')\n",
    "clf_accuracy = accuracy_score(y_test_predict, Y_test)\n",
    "print(f'classification accuracy = {clf_accuracy:.5f}')"
   ]
  },
  {
   "cell_type": "code",
   "execution_count": null,
   "metadata": {},
   "outputs": [],
   "source": []
  }
 ],
 "metadata": {
  "interpreter": {
   "hash": "4ad09f9fd21a1c2531abb4c3dadf7773a43b72e34365b59d6e5a1d67dfb327ce"
  },
  "kernelspec": {
   "display_name": "Python 3.9.2 64-bit",
   "language": "python",
   "name": "python3"
  },
  "language_info": {
   "codemirror_mode": {
    "name": "ipython",
    "version": 3
   },
   "file_extension": ".py",
   "mimetype": "text/x-python",
   "name": "python",
   "nbconvert_exporter": "python",
   "pygments_lexer": "ipython3",
   "version": "3.9.2"
  },
  "orig_nbformat": 4
 },
 "nbformat": 4,
 "nbformat_minor": 2
}
