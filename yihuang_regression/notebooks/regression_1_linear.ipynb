{
 "cells": [
  {
   "cell_type": "code",
   "execution_count": 1,
   "metadata": {},
   "outputs": [],
   "source": [
    "# For data processing\n",
    "import pandas as pd\n",
    "\n",
    "# for visualization\n",
    "import matplotlib.pyplot as plt\n",
    "# another package for fast and beautiful plots \n",
    "import seaborn as sns\n",
    "# for quick inline visualization\n",
    "sns.set_theme() # use the default theme of seaborn\n",
    "%matplotlib inline \n",
    "\n",
    "# Scikit-learn is a machine learning package\n",
    "# written for python users.\n",
    "# Find more information here: https://scikit-learn.org/stable/\n",
    "# Here we use a dataset it provides.\n",
    "from sklearn.datasets import load_boston"
   ]
  },
  {
   "cell_type": "code",
   "execution_count": 2,
   "metadata": {},
   "outputs": [],
   "source": [
    "# for fast numerical operations\n",
    "import numpy as np\n",
    "# we use scipy.stats library for solving linear regression\n",
    "from scipy.stats import linregress"
   ]
  },
  {
   "cell_type": "markdown",
   "metadata": {},
   "source": [
    "# Section 1.0: Load data"
   ]
  },
  {
   "cell_type": "code",
   "execution_count": 3,
   "metadata": {},
   "outputs": [
    {
     "name": "stdout",
     "output_type": "stream",
     "text": [
      ".. _boston_dataset:\n",
      "\n",
      "Boston house prices dataset\n",
      "---------------------------\n",
      "\n",
      "**Data Set Characteristics:**  \n",
      "\n",
      "    :Number of Instances: 506 \n",
      "\n",
      "    :Number of Attributes: 13 numeric/categorical predictive. Median Value (attribute 14) is usually the target.\n",
      "\n",
      "    :Attribute Information (in order):\n",
      "        - CRIM     per capita crime rate by town\n",
      "        - ZN       proportion of residential land zoned for lots over 25,000 sq.ft.\n",
      "        - INDUS    proportion of non-retail business acres per town\n",
      "        - CHAS     Charles River dummy variable (= 1 if tract bounds river; 0 otherwise)\n",
      "        - NOX      nitric oxides concentration (parts per 10 million)\n",
      "        - RM       average number of rooms per dwelling\n",
      "        - AGE      proportion of owner-occupied units built prior to 1940\n",
      "        - DIS      weighted distances to five Boston employment centres\n",
      "        - RAD      index of accessibility to radial highways\n",
      "        - TAX      full-value property-tax rate per $10,000\n",
      "        - PTRATIO  pupil-teacher ratio by town\n",
      "        - B        1000(Bk - 0.63)^2 where Bk is the proportion of blacks by town\n",
      "        - LSTAT    % lower status of the population\n",
      "        - MEDV     Median value of owner-occupied homes in $1000's\n",
      "\n",
      "    :Missing Attribute Values: None\n",
      "\n",
      "    :Creator: Harrison, D. and Rubinfeld, D.L.\n",
      "\n",
      "This is a copy of UCI ML housing dataset.\n",
      "https://archive.ics.uci.edu/ml/machine-learning-databases/housing/\n",
      "\n",
      "\n",
      "This dataset was taken from the StatLib library which is maintained at Carnegie Mellon University.\n",
      "\n",
      "The Boston house-price data of Harrison, D. and Rubinfeld, D.L. 'Hedonic\n",
      "prices and the demand for clean air', J. Environ. Economics & Management,\n",
      "vol.5, 81-102, 1978.   Used in Belsley, Kuh & Welsch, 'Regression diagnostics\n",
      "...', Wiley, 1980.   N.B. Various transformations are used in the table on\n",
      "pages 244-261 of the latter.\n",
      "\n",
      "The Boston house-price data has been used in many machine learning papers that address regression\n",
      "problems.   \n",
      "     \n",
      ".. topic:: References\n",
      "\n",
      "   - Belsley, Kuh & Welsch, 'Regression diagnostics: Identifying Influential Data and Sources of Collinearity', Wiley, 1980. 244-261.\n",
      "   - Quinlan,R. (1993). Combining Instance-Based and Model-Based Learning. In Proceedings on the Tenth International Conference of Machine Learning, 236-243, University of Massachusetts, Amherst. Morgan Kaufmann.\n",
      "\n"
     ]
    }
   ],
   "source": [
    "boston_dataset = load_boston()\n",
    "# print the description of the dataset\n",
    "print(boston_dataset.DESCR)\n",
    "# Note here, as mentioned in the description, \n",
    "# the Median Value (MEDV, attribute 14) is usually the target"
   ]
  },
  {
   "cell_type": "code",
   "execution_count": 4,
   "metadata": {},
   "outputs": [
    {
     "data": {
      "text/html": [
       "<div>\n",
       "<style scoped>\n",
       "    .dataframe tbody tr th:only-of-type {\n",
       "        vertical-align: middle;\n",
       "    }\n",
       "\n",
       "    .dataframe tbody tr th {\n",
       "        vertical-align: top;\n",
       "    }\n",
       "\n",
       "    .dataframe thead th {\n",
       "        text-align: right;\n",
       "    }\n",
       "</style>\n",
       "<table border=\"1\" class=\"dataframe\">\n",
       "  <thead>\n",
       "    <tr style=\"text-align: right;\">\n",
       "      <th></th>\n",
       "      <th>CRIM</th>\n",
       "      <th>ZN</th>\n",
       "      <th>INDUS</th>\n",
       "      <th>CHAS</th>\n",
       "      <th>NOX</th>\n",
       "      <th>RM</th>\n",
       "      <th>AGE</th>\n",
       "      <th>DIS</th>\n",
       "      <th>RAD</th>\n",
       "      <th>TAX</th>\n",
       "      <th>PTRATIO</th>\n",
       "      <th>B</th>\n",
       "      <th>LSTAT</th>\n",
       "      <th>MEDV</th>\n",
       "    </tr>\n",
       "  </thead>\n",
       "  <tbody>\n",
       "    <tr>\n",
       "      <th>0</th>\n",
       "      <td>0.00632</td>\n",
       "      <td>18.0</td>\n",
       "      <td>2.31</td>\n",
       "      <td>0.0</td>\n",
       "      <td>0.538</td>\n",
       "      <td>6.575</td>\n",
       "      <td>65.2</td>\n",
       "      <td>4.0900</td>\n",
       "      <td>1.0</td>\n",
       "      <td>296.0</td>\n",
       "      <td>15.3</td>\n",
       "      <td>396.90</td>\n",
       "      <td>4.98</td>\n",
       "      <td>24.0</td>\n",
       "    </tr>\n",
       "    <tr>\n",
       "      <th>1</th>\n",
       "      <td>0.02731</td>\n",
       "      <td>0.0</td>\n",
       "      <td>7.07</td>\n",
       "      <td>0.0</td>\n",
       "      <td>0.469</td>\n",
       "      <td>6.421</td>\n",
       "      <td>78.9</td>\n",
       "      <td>4.9671</td>\n",
       "      <td>2.0</td>\n",
       "      <td>242.0</td>\n",
       "      <td>17.8</td>\n",
       "      <td>396.90</td>\n",
       "      <td>9.14</td>\n",
       "      <td>21.6</td>\n",
       "    </tr>\n",
       "    <tr>\n",
       "      <th>2</th>\n",
       "      <td>0.02729</td>\n",
       "      <td>0.0</td>\n",
       "      <td>7.07</td>\n",
       "      <td>0.0</td>\n",
       "      <td>0.469</td>\n",
       "      <td>7.185</td>\n",
       "      <td>61.1</td>\n",
       "      <td>4.9671</td>\n",
       "      <td>2.0</td>\n",
       "      <td>242.0</td>\n",
       "      <td>17.8</td>\n",
       "      <td>392.83</td>\n",
       "      <td>4.03</td>\n",
       "      <td>34.7</td>\n",
       "    </tr>\n",
       "    <tr>\n",
       "      <th>3</th>\n",
       "      <td>0.03237</td>\n",
       "      <td>0.0</td>\n",
       "      <td>2.18</td>\n",
       "      <td>0.0</td>\n",
       "      <td>0.458</td>\n",
       "      <td>6.998</td>\n",
       "      <td>45.8</td>\n",
       "      <td>6.0622</td>\n",
       "      <td>3.0</td>\n",
       "      <td>222.0</td>\n",
       "      <td>18.7</td>\n",
       "      <td>394.63</td>\n",
       "      <td>2.94</td>\n",
       "      <td>33.4</td>\n",
       "    </tr>\n",
       "    <tr>\n",
       "      <th>4</th>\n",
       "      <td>0.06905</td>\n",
       "      <td>0.0</td>\n",
       "      <td>2.18</td>\n",
       "      <td>0.0</td>\n",
       "      <td>0.458</td>\n",
       "      <td>7.147</td>\n",
       "      <td>54.2</td>\n",
       "      <td>6.0622</td>\n",
       "      <td>3.0</td>\n",
       "      <td>222.0</td>\n",
       "      <td>18.7</td>\n",
       "      <td>396.90</td>\n",
       "      <td>5.33</td>\n",
       "      <td>36.2</td>\n",
       "    </tr>\n",
       "    <tr>\n",
       "      <th>5</th>\n",
       "      <td>0.02985</td>\n",
       "      <td>0.0</td>\n",
       "      <td>2.18</td>\n",
       "      <td>0.0</td>\n",
       "      <td>0.458</td>\n",
       "      <td>6.430</td>\n",
       "      <td>58.7</td>\n",
       "      <td>6.0622</td>\n",
       "      <td>3.0</td>\n",
       "      <td>222.0</td>\n",
       "      <td>18.7</td>\n",
       "      <td>394.12</td>\n",
       "      <td>5.21</td>\n",
       "      <td>28.7</td>\n",
       "    </tr>\n",
       "    <tr>\n",
       "      <th>6</th>\n",
       "      <td>0.08829</td>\n",
       "      <td>12.5</td>\n",
       "      <td>7.87</td>\n",
       "      <td>0.0</td>\n",
       "      <td>0.524</td>\n",
       "      <td>6.012</td>\n",
       "      <td>66.6</td>\n",
       "      <td>5.5605</td>\n",
       "      <td>5.0</td>\n",
       "      <td>311.0</td>\n",
       "      <td>15.2</td>\n",
       "      <td>395.60</td>\n",
       "      <td>12.43</td>\n",
       "      <td>22.9</td>\n",
       "    </tr>\n",
       "    <tr>\n",
       "      <th>7</th>\n",
       "      <td>0.14455</td>\n",
       "      <td>12.5</td>\n",
       "      <td>7.87</td>\n",
       "      <td>0.0</td>\n",
       "      <td>0.524</td>\n",
       "      <td>6.172</td>\n",
       "      <td>96.1</td>\n",
       "      <td>5.9505</td>\n",
       "      <td>5.0</td>\n",
       "      <td>311.0</td>\n",
       "      <td>15.2</td>\n",
       "      <td>396.90</td>\n",
       "      <td>19.15</td>\n",
       "      <td>27.1</td>\n",
       "    </tr>\n",
       "    <tr>\n",
       "      <th>8</th>\n",
       "      <td>0.21124</td>\n",
       "      <td>12.5</td>\n",
       "      <td>7.87</td>\n",
       "      <td>0.0</td>\n",
       "      <td>0.524</td>\n",
       "      <td>5.631</td>\n",
       "      <td>100.0</td>\n",
       "      <td>6.0821</td>\n",
       "      <td>5.0</td>\n",
       "      <td>311.0</td>\n",
       "      <td>15.2</td>\n",
       "      <td>386.63</td>\n",
       "      <td>29.93</td>\n",
       "      <td>16.5</td>\n",
       "    </tr>\n",
       "    <tr>\n",
       "      <th>9</th>\n",
       "      <td>0.17004</td>\n",
       "      <td>12.5</td>\n",
       "      <td>7.87</td>\n",
       "      <td>0.0</td>\n",
       "      <td>0.524</td>\n",
       "      <td>6.004</td>\n",
       "      <td>85.9</td>\n",
       "      <td>6.5921</td>\n",
       "      <td>5.0</td>\n",
       "      <td>311.0</td>\n",
       "      <td>15.2</td>\n",
       "      <td>386.71</td>\n",
       "      <td>17.10</td>\n",
       "      <td>18.9</td>\n",
       "    </tr>\n",
       "  </tbody>\n",
       "</table>\n",
       "</div>"
      ],
      "text/plain": [
       "      CRIM    ZN  INDUS  CHAS    NOX     RM    AGE     DIS  RAD    TAX  \\\n",
       "0  0.00632  18.0   2.31   0.0  0.538  6.575   65.2  4.0900  1.0  296.0   \n",
       "1  0.02731   0.0   7.07   0.0  0.469  6.421   78.9  4.9671  2.0  242.0   \n",
       "2  0.02729   0.0   7.07   0.0  0.469  7.185   61.1  4.9671  2.0  242.0   \n",
       "3  0.03237   0.0   2.18   0.0  0.458  6.998   45.8  6.0622  3.0  222.0   \n",
       "4  0.06905   0.0   2.18   0.0  0.458  7.147   54.2  6.0622  3.0  222.0   \n",
       "5  0.02985   0.0   2.18   0.0  0.458  6.430   58.7  6.0622  3.0  222.0   \n",
       "6  0.08829  12.5   7.87   0.0  0.524  6.012   66.6  5.5605  5.0  311.0   \n",
       "7  0.14455  12.5   7.87   0.0  0.524  6.172   96.1  5.9505  5.0  311.0   \n",
       "8  0.21124  12.5   7.87   0.0  0.524  5.631  100.0  6.0821  5.0  311.0   \n",
       "9  0.17004  12.5   7.87   0.0  0.524  6.004   85.9  6.5921  5.0  311.0   \n",
       "\n",
       "   PTRATIO       B  LSTAT  MEDV  \n",
       "0     15.3  396.90   4.98  24.0  \n",
       "1     17.8  396.90   9.14  21.6  \n",
       "2     17.8  392.83   4.03  34.7  \n",
       "3     18.7  394.63   2.94  33.4  \n",
       "4     18.7  396.90   5.33  36.2  \n",
       "5     18.7  394.12   5.21  28.7  \n",
       "6     15.2  395.60  12.43  22.9  \n",
       "7     15.2  396.90  19.15  27.1  \n",
       "8     15.2  386.63  29.93  16.5  \n",
       "9     15.2  386.71  17.10  18.9  "
      ]
     },
     "execution_count": 4,
     "metadata": {},
     "output_type": "execute_result"
    }
   ],
   "source": [
    "# load the independent variables\n",
    "boston_df = pd.DataFrame(\n",
    "    data=boston_dataset.data, \n",
    "    columns=boston_dataset.feature_names\n",
    ")\n",
    "# add a column for the dependent variable\n",
    "# It is a convention of scikit-learn to \n",
    "# call a depenent variable, or a variable\n",
    "# an algorithm is trying to predict, \n",
    "# a target variable. \n",
    "boston_df['MEDV'] = boston_dataset.target\n",
    "# Have a quick view of the dataframe \n",
    "boston_df.head(n=10)\n",
    "# note here if we run the head function without argument,\n",
    "# 5 rows of data will be shown"
   ]
  },
  {
   "cell_type": "markdown",
   "metadata": {},
   "source": [
    "# Section 1.1: Univariate linear regression\n",
    "In this part, we solve two univariate linear regression problem with\n",
    "the following two independent variables\n",
    "- RM: average number of rooms per dwelling\n",
    "- PTRATIO: pupil-teacher ratio by town"
   ]
  },
  {
   "cell_type": "code",
   "execution_count": 5,
   "metadata": {},
   "outputs": [
    {
     "data": {
      "image/png": "[encoded data removed]",
      "text/plain": [
       "<Figure size 720x288 with 2 Axes>"
      ]
     },
     "metadata": {
      "needs_background": "light"
     },
     "output_type": "display_data"
    }
   ],
   "source": [
    "# Let us see whether we can get some insight into the relation between \n",
    "# the independent and dependent variables just from the plots.\n",
    "fig, axes = plt.subplots(1, 2, figsize=(10, 4))\n",
    "axes[0].scatter(x=boston_df['RM'], y=boston_df['MEDV'], c='blue', s=2)\n",
    "axes[0].set_xlabel('Room number')\n",
    "axes[0].set_ylabel('MEDV')\n",
    "axes[1].scatter(x=boston_df['PTRATIO'], y=boston_df['MEDV'], c='orange', s=2)\n",
    "axes[1].set_xlabel('pupil-teach ratio')\n",
    "plt.show()\n",
    "# Observations:\n",
    "# 1. The prices increase as the value of RM increases linearly with some some outliers\n",
    "# 2. The prices decrease as the the puple-teach ration increase, but the relation\n",
    "# is much more scattered. "
   ]
  },
  {
   "cell_type": "markdown",
   "metadata": {},
   "source": [
    "## Section 1.1.1: Calculating the analytic solutions for coefficient $a$ and bias $b$\n",
    "Since we are fitting a single line, $a$ is also called slope and $b$, intercept "
   ]
  },
  {
   "cell_type": "code",
   "execution_count": 6,
   "metadata": {},
   "outputs": [],
   "source": [
    "# Now let us use the analytic formula for a and b to \n",
    "# solve the univariate linear regression\n",
    "def get_coef_bias(xs, ys):\n",
    "    x_sum = sum(xs)\n",
    "    y_sum = sum(ys)\n",
    "    x_squared_sum = sum(x**2 for x in xs)\n",
    "    cross_sum = sum(x * y for x, y in zip(xs, ys))\n",
    "    \n",
    "    denominator = (x_sum) ** 2 - len(xs) * x_squared_sum\n",
    "    a = (x_sum * y_sum - len(xs) * cross_sum) / denominator\n",
    "    b = (x_sum * cross_sum - y_sum * x_squared_sum) / denominator\n",
    "\n",
    "    return a, b"
   ]
  },
  {
   "cell_type": "code",
   "execution_count": 7,
   "metadata": {},
   "outputs": [
    {
     "name": "stdout",
     "output_type": "stream",
     "text": [
      "Regression 1: Room number vs price\n",
      "\tslope = 9.1021\n",
      "\tintercept = -34.6706\n",
      "Regression 2: Pupil-teach ratio vs price\n",
      "\tslope = -2.1572\n",
      "\tintercept = 62.3446\n"
     ]
    }
   ],
   "source": [
    "# Room number vs price\n",
    "a_rm, b_rm = get_coef_bias(boston_df['RM'], boston_df['MEDV'])\n",
    "print('Regression 1: Room number vs price')\n",
    "print(f'\\tslope = {a_rm:.4f}')\n",
    "print(f'\\tintercept = {b_rm:.4f}')\n",
    "\n",
    "# pupil-teach ratio vs price\n",
    "a_pt, b_pt = get_coef_bias(boston_df['PTRATIO'], boston_df['MEDV'])\n",
    "print('Regression 2: Pupil-teach ratio vs price')\n",
    "print(f'\\tslope = {a_pt:.4f}')\n",
    "print(f'\\tintercept = {b_pt:.4f}')"
   ]
  },
  {
   "cell_type": "markdown",
   "metadata": {},
   "source": [
    "## Section 1.1.2: Use `scipy.stat.linregress` to solving linear regression\n",
    "I feel very confident to say that, the way we calculate $a$ and $b$ in the function `get_coef_bias` is not the most efficient way of doing it.\n",
    "And we have a well-tested and optimized option provided by Python's `SciPy` package.\n",
    "And here is the one-liner solution for the two univariate regression problems above\n",
    "\n",
    "We have already imported the linregress function in the second cell."
   ]
  },
  {
   "cell_type": "code",
   "execution_count": 8,
   "metadata": {},
   "outputs": [],
   "source": [
    "def get_linregress_result(x, y):\n",
    "    slope, intercept, r_value, p_value, std_err = linregress(x, y) # the one-liner solution here\n",
    "    result = {\n",
    "        'slope': slope, # the coefficient a\n",
    "        'intercept': intercept, # the bias b\n",
    "        # we will talk about these evaluation metrics later\n",
    "        'r_value': r_value, \n",
    "        'p_value': p_value,\n",
    "        'std_err': std_err \n",
    "    }\n",
    "    return result"
   ]
  },
  {
   "cell_type": "code",
   "execution_count": 9,
   "metadata": {},
   "outputs": [
    {
     "name": "stdout",
     "output_type": "stream",
     "text": [
      "Regression 1: Room number vs price\n",
      "\tslope = 9.1021\n",
      "\tintercept = -34.6706\n",
      "Regression 1: pupil-teach ratio vs price\n",
      "\tslope = -2.1572\n",
      "\tintercept = 62.3446\n"
     ]
    }
   ],
   "source": [
    "# Room number vs price\n",
    "result_rm = get_linregress_result(boston_df['RM'], boston_df['MEDV'])\n",
    "print('Regression 1: Room number vs price')\n",
    "print(f\"\\tslope = {result_rm['slope']:.4f}\")\n",
    "print(f\"\\tintercept = {result_rm['intercept']:.4f}\")\n",
    "\n",
    "# pupil-teach ratio vs price\n",
    "result_pt = get_linregress_result(boston_df['PTRATIO'], boston_df['MEDV'])\n",
    "print('Regression 1: pupil-teach ratio vs price')\n",
    "print(f\"\\tslope = {result_pt['slope']:.4f}\")\n",
    "print(f\"\\tintercept = {result_pt['intercept']:.4f}\")"
   ]
  },
  {
   "cell_type": "markdown",
   "metadata": {},
   "source": [
    "## Section 1.1.3: How to evalution a regression model\n",
    "Let $\\bar{y} = (1/n)\\sum_{i=1}^{n}y_i$, $\\bar{x} = (1/n)\\sum_{i=1}^{n}x_i$, and $y_i = \\hat{a}x_i + \\hat{b}$\n",
    "- **R-squared value**: $R^2 = 1 - \\frac{\\sum\\left(y_i - \\hat{y}_i\\right)^2}{\\sum\\left(y_i - \\bar{y}\\right)^2}$.\n",
    "    - An $R^2$ of $1$ means there is no error in the regression.\n",
    "    - An $R^2$ of $0$ means the independent variable provides no better predictions of $y_i$ than using the mean of $\\bar{y}$ (**in the squared error sense**).\n",
    "    - A negative $R^2$ means regression does worse than predicting by mean (**in the squared error sense**).\n",
    "- **P value**: Let the null hypothesis be “the independent variable has no explanatory power to the dependent variable”, P value is the probability of rejecting the null hypothesis mistakenly. \n",
    "The smaller P value is, the more likely that the independent variable explains the dependent variable.\n",
    "- **Standard error**: $\\sqrt{\\frac{\\sum\\left(y_i - \\hat{y}_i\\right)^2}{(n - 2)\\sum\\left(x_i - \\bar{x}\\right)^2}}$.\n",
    "\n",
    "From the plots, we can see the relation between room number and price is clearer than that between pupil-teach ratio and price. \n",
    "This observation is confirmed by the postive $R^2$ value of room number and the negative one of pupil-teach ratio.\n",
    "However, both independent variables has $0$ p-values, meaning that they both are significantly related to the price.\n",
    "This mean, we may not be able to evalute a regression model by a single metric."
   ]
  },
  {
   "cell_type": "code",
   "execution_count": 10,
   "metadata": {},
   "outputs": [
    {
     "name": "stdout",
     "output_type": "stream",
     "text": [
      "Regression 1: Room number vs price\n",
      "\tR-squared = 0.6954\n",
      "\tp-value = 0.0000\n",
      "\tStandard error = 0.4190\n",
      "Regression 1: pupil-teach ratio vs price\n",
      "\tR-squared = -0.5078\n",
      "\tp-value = 0.0000\n",
      "\tStandard error = 0.1630\n"
     ]
    }
   ],
   "source": [
    "print('Regression 1: Room number vs price')\n",
    "print(f\"\\tR-squared = {result_rm['r_value']:.4f}\")\n",
    "print(f\"\\tp-value = {result_rm['p_value']:.4f}\")\n",
    "print(f\"\\tStandard error = {result_rm['std_err']:.4f}\")\n",
    "\n",
    "print('Regression 1: pupil-teach ratio vs price')\n",
    "print(f\"\\tR-squared = {result_pt['r_value']:.4f}\")\n",
    "print(f\"\\tp-value = {result_pt['p_value']:.4f}\")\n",
    "print(f\"\\tStandard error = {result_pt['std_err']:.4f}\")"
   ]
  },
  {
   "cell_type": "markdown",
   "metadata": {},
   "source": [
    "## Section 1.1.3: Making prediction with linear regression.\n",
    "In this part, we split the dataset into two parts: train and test. \n",
    "We learn a univariate linear regression using data in the train split and \n",
    "test how well the model works for test data.\n",
    "\n",
    "In this section, we will also switch to the scikit-learn's `LinearRegression` model.\n",
    "The good thing of `LinearRegression` is that we can fit the model (get the slope and intercept) \n",
    "with train data in one line and run the model on test data in another line. \n",
    "We don't have to extract the slope and intercept explicitly as we would do with the `Scipy` version \n",
    "and ensemble them to apply to the test data."
   ]
  },
  {
   "cell_type": "code",
   "execution_count": 11,
   "metadata": {},
   "outputs": [],
   "source": [
    "# For split a dataset into train and test\n",
    "from sklearn.model_selection import train_test_split\n",
    "# The scikit-learn version of LinearRegression\n",
    "from sklearn.linear_model import LinearRegression\n",
    "# metrics we are going to use to evaluate the prediction made by the model\n",
    "from sklearn.metrics import (\n",
    "    mean_squared_error, \n",
    "    r2_score\n",
    ")\n",
    "\n",
    "def linregress_predict(X, Y, seed=None, verbose=True):\n",
    "    X_train, X_test, Y_train, Y_test = train_test_split(X, Y, test_size=.2, random_state=seed)\n",
    "\n",
    "    lin_model = LinearRegression()\n",
    "    # fit, or train, the model\n",
    "    lin_model.fit(X_train, Y_train) \n",
    "\n",
    "    # predict, first one the train data itself\n",
    "    # we do a prediction on the train data primarily to see whether\n",
    "    # the current model is a good model for the problem or not\n",
    "    # Suppose the the error is huge even on train data, \n",
    "    # that may mean either we need to try some other model or\n",
    "    # the independent variable lacks explantory power to the dependent variable\n",
    "\n",
    "    result = {}\n",
    "\n",
    "    y_train_predict = lin_model.predict(X_train)\n",
    "    rmse = np.sqrt(mean_squared_error(Y_train, y_train_predict))\n",
    "    r2 = r2_score(Y_train, y_train_predict)\n",
    "    if verbose:\n",
    "        print(\"Model performance on the train split\")\n",
    "        print(\"--------------------------------------\")\n",
    "        print(f'RMSE is {rmse:.3f}')\n",
    "        print(f'R2 score is {r2: .3f}\\n')\n",
    "\n",
    "    result['train rmse'] = rmse\n",
    "    result['train r2'] = r2\n",
    "\n",
    "    # now let us test the model's performance on the test dataset\n",
    "    y_test_predict = lin_model.predict(X_test)\n",
    "    rmse = np.sqrt(mean_squared_error(Y_test, y_test_predict))\n",
    "    r2 = r2_score(Y_test, y_test_predict)\n",
    "\n",
    "    if verbose:\n",
    "        print(\"Model performance on the test split\")\n",
    "        print(\"--------------------------------------\")\n",
    "        print(f'RMSE is {rmse:.3f}')\n",
    "        print(f'R2 score is {r2: .3f}\\n')\n",
    "\n",
    "    result['test rmse'] = rmse\n",
    "    result['test r2'] = r2\n",
    "    \n",
    "    return lin_model, result"
   ]
  },
  {
   "cell_type": "code",
   "execution_count": 12,
   "metadata": {},
   "outputs": [
    {
     "name": "stdout",
     "output_type": "stream",
     "text": [
      "Regression 1: Room number vs price\n",
      "Model performance on the train split\n",
      "--------------------------------------\n",
      "RMSE is 6.785\n",
      "R2 score is  0.458\n",
      "\n",
      "Model performance on the test split\n",
      "--------------------------------------\n",
      "RMSE is 5.843\n",
      "R2 score is  0.584\n",
      "\n"
     ]
    }
   ],
   "source": [
    "# Why we have to reshape x. Well, X is suppose to be a 2D matrix, \n",
    "# even if we are doing univariate linear regression. \n",
    "X, Y = boston_df['RM'].values.reshape(-1, 1), boston_df['MEDV'].values\n",
    "print('Regression 1: Room number vs price')\n",
    "_, _ = linregress_predict(X, Y, seed=None)"
   ]
  },
  {
   "cell_type": "code",
   "execution_count": 13,
   "metadata": {},
   "outputs": [
    {
     "name": "stdout",
     "output_type": "stream",
     "text": [
      "Regression 1: Pupil-teach ratio vs price\n",
      "Model performance on the train split\n",
      "--------------------------------------\n",
      "RMSE is 8.114\n",
      "R2 score is  0.243\n",
      "\n",
      "Model performance on the test split\n",
      "--------------------------------------\n",
      "RMSE is 7.095\n",
      "R2 score is  0.309\n",
      "\n"
     ]
    }
   ],
   "source": [
    "X, Y = boston_df['PTRATIO'].values.reshape(-1, 1), boston_df['MEDV'].values\n",
    "print('Regression 1: Pupil-teach ratio vs price')\n",
    "_, _ = linregress_predict(X, Y, seed=None)"
   ]
  },
  {
   "cell_type": "markdown",
   "metadata": {},
   "source": [
    "### Section 1.1.4: Stress Test"
   ]
  },
  {
   "cell_type": "code",
   "execution_count": 14,
   "metadata": {},
   "outputs": [
    {
     "name": "stdout",
     "output_type": "stream",
     "text": [
      "Room number mean rmse:  6.6315\n",
      "Room Number mean r2:  0.4659\n"
     ]
    }
   ],
   "source": [
    "X, Y = boston_df['RM'].values.reshape(-1, 1), boston_df['MEDV'].values\n",
    "results = {'rmse': [], 'r2': []}\n",
    "for _ in range(100):\n",
    "    _, result = linregress_predict(X, Y, verbose=False)\n",
    "    results['rmse'].append(result['test rmse'])\n",
    "    results['r2'].append(result['test r2'])\n",
    "\n",
    "print(f\"Room number mean rmse: {np.mean(results['rmse']): .4f}\")\n",
    "print(f\"Room Number mean r2: {np.mean(results['r2']): .4f}\")"
   ]
  },
  {
   "cell_type": "code",
   "execution_count": 15,
   "metadata": {},
   "outputs": [
    {
     "name": "stdout",
     "output_type": "stream",
     "text": [
      "Pupil-teach ratio mean rmse:  8.0628\n",
      "Pupil-teach ratio mean r2:  0.2378\n"
     ]
    }
   ],
   "source": [
    "X, Y = boston_df['PTRATIO'].values.reshape(-1, 1), boston_df['MEDV'].values\n",
    "results = {'rmse': [], 'r2': []}\n",
    "for _ in range(100):\n",
    "    _, result = linregress_predict(X, Y, verbose=False)\n",
    "    results['rmse'].append(result['test rmse'])\n",
    "    results['r2'].append(result['test r2'])\n",
    "\n",
    "print(f\"Pupil-teach ratio mean rmse: {np.mean(results['rmse']): .4f}\")\n",
    "print(f\"Pupil-teach ratio mean r2: {np.mean(results['r2']): .4f}\")"
   ]
  },
  {
   "cell_type": "markdown",
   "metadata": {},
   "source": [
    "Conclusion: the model works **consistently** on train and test dataset, which mean, \n",
    "it is not exactly **overfitted** for the training data and failed to generalize to the supposedly unseen test data.\n",
    "We will see later in the regularization part when overfitting does happen and how we may deal with it."
   ]
  },
  {
   "cell_type": "markdown",
   "metadata": {},
   "source": [
    "# Section 1.2 Multivariate linear regression\n",
    "In this part, we try to use all of the variable to predict price and see whether we can get a better prediction result from more independent variables.\n",
    "In this part, we use linear regression provided by `statsmodels.api`. \n",
    "\n",
    "Install the `statsmodels` package by running `conda install -c conda-forge statsmodels` or `pip install statsmodels`.\n",
    "(loading the model is kind of slow...)"
   ]
  },
  {
   "cell_type": "code",
   "execution_count": 16,
   "metadata": {},
   "outputs": [],
   "source": [
    "import statsmodels.api as sm"
   ]
  },
  {
   "cell_type": "markdown",
   "metadata": {},
   "source": [
    "### Section 1.2.1: Preprocessing the data"
   ]
  },
  {
   "cell_type": "code",
   "execution_count": 17,
   "metadata": {},
   "outputs": [],
   "source": [
    "# 2. Standardize the data\n",
    "# We usbe the StandardScaler from sklearn.preprocess to normalize \n",
    "# each independent variable to have mean 0 and standard deviation 1.\n",
    "from sklearn.preprocessing import StandardScaler\n",
    "# remove the target and normalize the independent variables\n",
    "Y = boston_df['MEDV']\n",
    "# X = boston_df.drop('MEDV', axis=1)\n",
    "X = boston_df.drop(['AGE', 'INDUS', 'MEDV'], axis=1)\n",
    "X_normalized = pd.DataFrame(StandardScaler().fit_transform(X), columns=X.columns)"
   ]
  },
  {
   "cell_type": "markdown",
   "metadata": {},
   "source": [
    "### Sections 1.2.2: Train and predict"
   ]
  },
  {
   "cell_type": "code",
   "execution_count": 18,
   "metadata": {},
   "outputs": [
    {
     "name": "stdout",
     "output_type": "stream",
     "text": [
      "                            OLS Regression Results                            \n",
      "==============================================================================\n",
      "Dep. Variable:                   MEDV   R-squared:                       0.761\n",
      "Model:                            OLS   Adj. R-squared:                  0.754\n",
      "Method:                 Least Squares   F-statistic:                     113.3\n",
      "Date:                Fri, 10 Dec 2021   Prob (F-statistic):          2.21e-114\n",
      "Time:                        08:27:05   Log-Likelihood:                -1169.1\n",
      "No. Observations:                 404   AIC:                             2362.\n",
      "Df Residuals:                     392   BIC:                             2410.\n",
      "Df Model:                          11                                         \n",
      "Covariance Type:            nonrobust                                         \n",
      "==============================================================================\n",
      "                 coef    std err          t      P>|t|      [0.025      0.975]\n",
      "------------------------------------------------------------------------------\n",
      "const         22.4928      0.222    101.497      0.000      22.057      22.928\n",
      "CRIM          -0.7316      0.296     -2.474      0.014      -1.313      -0.150\n",
      "ZN             0.9838      0.345      2.853      0.005       0.306       1.662\n",
      "CHAS           0.9180      0.228      4.020      0.000       0.469       1.367\n",
      "NOX           -1.5870      0.430     -3.691      0.000      -2.432      -0.742\n",
      "RM             3.0324      0.306      9.902      0.000       2.430       3.634\n",
      "DIS           -2.5768      0.408     -6.309      0.000      -3.380      -1.774\n",
      "RAD            1.7371      0.611      2.845      0.005       0.537       2.938\n",
      "TAX           -1.4602      0.634     -2.303      0.022      -2.707      -0.214\n",
      "PTRATIO       -1.9892      0.297     -6.708      0.000      -2.572      -1.406\n",
      "B              1.0355      0.255      4.067      0.000       0.535       1.536\n",
      "LSTAT         -3.3486      0.348     -9.617      0.000      -4.033      -2.664\n",
      "==============================================================================\n",
      "Omnibus:                      103.399   Durbin-Watson:                   2.114\n",
      "Prob(Omnibus):                  0.000   Jarque-Bera (JB):              343.144\n",
      "Skew:                           1.138   Prob(JB):                     3.07e-75\n",
      "Kurtosis:                       6.899   Cond. No.                         8.46\n",
      "==============================================================================\n",
      "\n",
      "Notes:\n",
      "[1] Standard Errors assume that the covariance matrix of the errors is correctly specified.\n",
      "\n",
      "\n",
      "Model performance on the train split\n",
      "--------------------------------------\n",
      "RMSE is 4.370\n",
      "R2 score is  0.761\n",
      "\n",
      "Model performance on the test split\n",
      "--------------------------------------\n",
      "RMSE is 5.888\n",
      "R2 score is  0.657\n",
      "\n"
     ]
    }
   ],
   "source": [
    "# Train-test split and fit a linear regression model with train\n",
    "seed = None\n",
    "X_train, X_test, Y_train, Y_test = train_test_split(X_normalized, Y, test_size=.2, random_state=seed)\n",
    "\n",
    "# Don't forget to add a column of 1 for the bias\n",
    "X_train = sm.add_constant(X_train, prepend=True)\n",
    "\n",
    "model = sm.OLS(Y_train, X_train).fit() # OLS means ordinary least square\n",
    "print(model.summary())\n",
    "\n",
    "# Test the model on the train data\n",
    "y_train_predict = model.predict(X_train)\n",
    "rmse = np.sqrt(mean_squared_error(Y_train, y_train_predict))\n",
    "r2 = r2_score(Y_train, y_train_predict)\n",
    "\n",
    "print(\"\\n\\nModel performance on the train split\")\n",
    "print(\"--------------------------------------\")\n",
    "print(f'RMSE is {rmse:.3f}')\n",
    "print(f'R2 score is {r2: .3f}\\n')\n",
    "\n",
    "# Finally test the model on test data\n",
    "X_test = sm.add_constant(X_test, prepend=True)\n",
    "y_test_predict = model.predict(X_test)\n",
    "rmse = np.sqrt(mean_squared_error(Y_test, y_test_predict))\n",
    "r2 = r2_score(Y_test, y_test_predict)\n",
    "\n",
    "print(\"Model performance on the test split\")\n",
    "print(\"--------------------------------------\")\n",
    "print(f'RMSE is {rmse:.3f}')\n",
    "print(f'R2 score is {r2: .3f}\\n')"
   ]
  },
  {
   "cell_type": "markdown",
   "metadata": {},
   "source": [
    "### Section 1.2.3: Stress test\n",
    "Let us see why having more independent variables will consistently well than having only one predictor "
   ]
  },
  {
   "cell_type": "code",
   "execution_count": 19,
   "metadata": {},
   "outputs": [
    {
     "name": "stdout",
     "output_type": "stream",
     "text": [
      "mean rmse:  4.8762\n",
      "mean r2:  0.7101\n"
     ]
    }
   ],
   "source": [
    "def sm_predict(X, Y, seed=None):\n",
    "\n",
    "    X_train, X_test, Y_train, Y_test = train_test_split(X, Y, test_size=.2, random_state=seed)\n",
    "    X_train = sm.add_constant(X_train, prepend=True)\n",
    "    model = sm.OLS(Y_train, X_train).fit() # OLS means ordinary least square\n",
    "\n",
    "    result = {}\n",
    "\n",
    "    # Test the data on the train data\n",
    "    y_train_predict = model.predict(X_train)\n",
    "    result['train rmse'] = np.sqrt(mean_squared_error(Y_train, y_train_predict))\n",
    "    result['train r2'] = r2_score(Y_train, y_train_predict)\n",
    "\n",
    "    # Finally let us see how the model performs on test data\n",
    "    X_test = sm.add_constant(X_test, prepend=True)\n",
    "    y_test_predict = model.predict(X_test)\n",
    "    result['test rmse'] = np.sqrt(mean_squared_error(Y_test, y_test_predict))\n",
    "    result['test r2'] = r2_score(Y_test, y_test_predict)\n",
    "\n",
    "    return result\n",
    "\n",
    "results = {'rmse': [], 'r2': []}\n",
    "for _ in range(100):\n",
    "    result = sm_predict(X_normalized, Y)\n",
    "    results['rmse'].append(result['test rmse'])\n",
    "    results['r2'].append(result['test r2'])\n",
    "\n",
    "print(f\"mean rmse: {np.mean(results['rmse']): .4f}\")\n",
    "print(f\"mean r2: {np.mean(results['r2']): .4f}\")"
   ]
  },
  {
   "cell_type": "markdown",
   "metadata": {},
   "source": [
    "# Some backstage stories"
   ]
  },
  {
   "cell_type": "code",
   "execution_count": 20,
   "metadata": {},
   "outputs": [
    {
     "data": {
      "text/plain": [
       "<AxesSubplot:>"
      ]
     },
     "execution_count": 20,
     "metadata": {},
     "output_type": "execute_result"
    },
    {
     "data": {
      "image/png": "[encoded data removed]",
      "text/plain": [
       "<Figure size 864x720 with 2 Axes>"
      ]
     },
     "metadata": {
      "needs_background": "light"
     },
     "output_type": "display_data"
    }
   ],
   "source": [
    "# We want to start with a univariate linear regression \n",
    "# I calculate the correlation matrix \n",
    "# to find independent variables that has strong\n",
    "# postive and negative correlation with the target variable\n",
    "# As a matter of fact, the coefficient a (slop) in the ax + b= y\n",
    "# is exactly the correlation between x and y.\n",
    "correlation_matrix = boston_df.corr().round(2)\n",
    "fig, ax = plt.subplots(1, 1, figsize=(12, 10))\n",
    "sns.heatmap(data=correlation_matrix, annot=True, ax=ax)"
   ]
  },
  {
   "cell_type": "code",
   "execution_count": 21,
   "metadata": {},
   "outputs": [
    {
     "data": {
      "image/png": "[encoded data removed]",
      "text/plain": [
       "<Figure size 720x288 with 2 Axes>"
      ]
     },
     "metadata": {
      "needs_background": "light"
     },
     "output_type": "display_data"
    }
   ],
   "source": [
    "# In fact, seaborn can add linear regression line\n",
    "# to scatter plot. \n",
    "fig, axes = plt.subplots(1, 2, figsize=(10, 4))\n",
    "\n",
    "p_rm = sns.regplot(\n",
    "    data=boston_df, x='RM', y='MEDV', \n",
    "    ax=axes[0], \n",
    "    scatter_kws={'color': 'blue', 's': 2}, \n",
    "    line_kws={'color': 'blue'}\n",
    ")\n",
    "p_pt = sns.regplot(\n",
    "    data=boston_df, x='PTRATIO', y='MEDV', \n",
    "    ax=axes[1], \n",
    "    scatter_kws={'color': 'orange', 's': 2}, \n",
    "    line_kws={'color': 'orange'}\n",
    ")"
   ]
  },
  {
   "cell_type": "code",
   "execution_count": null,
   "metadata": {},
   "outputs": [],
   "source": []
  }
 ],
 "metadata": {
  "interpreter": {
   "hash": "4ad09f9fd21a1c2531abb4c3dadf7773a43b72e34365b59d6e5a1d67dfb327ce"
  },
  "kernelspec": {
   "display_name": "Python 3.9.2 64-bit",
   "language": "python",
   "name": "python3"
  },
  "language_info": {
   "codemirror_mode": {
    "name": "ipython",
    "version": 3
   },
   "file_extension": ".py",
   "mimetype": "text/x-python",
   "name": "python",
   "nbconvert_exporter": "python",
   "pygments_lexer": "ipython3",
   "version": "3.9.2"
  },
  "orig_nbformat": 4
 },
 "nbformat": 4,
 "nbformat_minor": 2
}
