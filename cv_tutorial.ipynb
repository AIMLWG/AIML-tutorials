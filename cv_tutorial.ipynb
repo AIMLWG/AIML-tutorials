{
 "cells": [
  {
   "cell_type": "markdown",
   "metadata": {},
   "source": [
    "## Tutorial: Computer Vision ML"
   ]
  },
  {
   "cell_type": "markdown",
   "metadata": {},
   "source": [
    "### Image classification\n",
    "\n",
    "Using MNIST dataset.\n",
    "MNIST (Modified National Institute of Standards and Technology) dataset is like the hello-world in computer vision. The dataset was\n",
    "created way back in the late 90s. The official description states,\n",
    "\n",
    "\"The MNIST database of handwritten digits, available from this page, has a training set of 60,000 examples, and a test set of 10,000 examples. It is a subset of a larger set available from NIST. The digits have been size-normalized and centered in a fixed-size image.\n",
    "It is a good database for people who want to try learning techniques and pattern recognition methods on real-world data while spending minimal efforts on preprocessing and formatting.\""
   ]
  },
  {
   "cell_type": "code",
   "execution_count": 1,
   "metadata": {},
   "outputs": [],
   "source": [
    "#Import Libraries\n",
    "\n",
    "\n",
    "from __future__ import print_function\n",
    "import argparse\n",
    "import torch\n",
    "import torch.nn as nn\n",
    "import torch.nn.functional as F\n",
    "import torch.optim as optim\n",
    "from torchvision import datasets, transforms\n",
    "from torch.autograd import Variable\n"
   ]
  },
  {
   "cell_type": "code",
   "execution_count": 2,
   "metadata": {},
   "outputs": [],
   "source": [
    "args={}\n",
    "kwargs={}\n",
    "args['batch_size']=1000\n",
    "args['test_batch_size']=1000\n",
    "args['epochs']=10  #The number of Epochs is the number of times you go through the full dataset. \n",
    "args['lr']=0.01 #Learning rate is how fast it will decend. \n",
    "args['momentum']=0.5 #SGD momentum (default: 0.5) Momentum is a moving average of our gradients (helps to keep direction).\n",
    "\n",
    "args['seed']=1 #random seed\n",
    "args['log_interval']=10\n",
    "args['cuda']=True"
   ]
  },
  {
   "cell_type": "code",
   "execution_count": 3,
   "metadata": {},
   "outputs": [
    {
     "name": "stderr",
     "output_type": "stream",
     "text": [
      "/home/smittal/anaconda3/envs/aiml_tutorials/lib/python3.7/site-packages/torchvision/datasets/mnist.py:498: UserWarning: The given NumPy array is not writeable, and PyTorch does not support non-writeable tensors. This means you can write to the underlying (supposedly non-writeable) NumPy array using the tensor. You may want to copy the array to protect its data or make it writeable before converting it to a tensor. This type of warning will be suppressed for the rest of this program. (Triggered internally at  /opt/conda/conda-bld/pytorch_1631630742027/work/torch/csrc/utils/tensor_numpy.cpp:180.)\n",
      "  return torch.from_numpy(parsed.astype(m[2], copy=False)).view(*s)\n"
     ]
    }
   ],
   "source": [
    "#load the data\n",
    "train_loader = torch.utils.data.DataLoader(\n",
    "    datasets.MNIST('./data', train=True, download=True,\n",
    "                   transform=transforms.Compose([\n",
    "                       transforms.ToTensor(),\n",
    "                       transforms.Normalize((0.1307,), (0.3081,))\n",
    "                   ])),\n",
    "    batch_size=args['batch_size'], shuffle=True, **kwargs)\n",
    "test_loader = torch.utils.data.DataLoader(\n",
    "    datasets.MNIST('./data', train=False, transform=transforms.Compose([\n",
    "                       transforms.ToTensor(),\n",
    "                       transforms.Normalize((0.1307,), (0.3081,))\n",
    "                   ])),\n",
    "    batch_size=args['test_batch_size'], shuffle=True, **kwargs)"
   ]
  },
  {
   "cell_type": "code",
   "execution_count": 4,
   "metadata": {},
   "outputs": [],
   "source": [
    "class Net(nn.Module):\n",
    "    #This defines the structure of the NN.\n",
    "    def __init__(self):\n",
    "        super(Net, self).__init__()\n",
    "        self.conv1 = nn.Conv2d(1, 10, kernel_size=5)\n",
    "        self.conv2 = nn.Conv2d(10, 20, kernel_size=5)\n",
    "        self.conv2_drop = nn.Dropout2d()  #Dropout\n",
    "        self.fc1 = nn.Linear(320, 50)\n",
    "        self.fc2 = nn.Linear(50, 10)\n",
    "\n",
    "    def forward(self, x):\n",
    "        #Convolutional Layer/Pooling Layer/Activation\n",
    "        x = F.relu(F.max_pool2d(self.conv1(x), 2)) \n",
    "        #Convolutional Layer/Dropout/Pooling Layer/Activation\n",
    "        x = F.relu(F.max_pool2d(self.conv2_drop(self.conv2(x)), 2))\n",
    "        x = x.view(-1, 320)\n",
    "        #Fully Connected Layer/Activation\n",
    "        x = F.relu(self.fc1(x))\n",
    "        x = F.dropout(x, training=self.training)\n",
    "        #Fully Connected Layer/Activation\n",
    "        x = self.fc2(x)\n",
    "        #Softmax gets probabilities. \n",
    "        return F.log_softmax(x, dim=1)"
   ]
  },
  {
   "cell_type": "code",
   "execution_count": 5,
   "metadata": {},
   "outputs": [],
   "source": [
    "\n",
    "def train(epoch):\n",
    "    tot_loss = 0\n",
    "    model.train()\n",
    "    print(len(train_loader))\n",
    "    for batch_idx, (data, target) in enumerate(train_loader):\n",
    "        if args['cuda']:\n",
    "            data, target = data.cuda(), target.cuda()\n",
    "        #Variables in Pytorch are differenciable. \n",
    "        data, target = Variable(data), Variable(target)\n",
    "        #This will zero out the gradients for this batch. \n",
    "        optimizer.zero_grad()\n",
    "        output = model(data)\n",
    "        # Calculate the loss The negative log likelihood loss. It is useful to train a classification problem with C classes.\n",
    "        loss = F.nll_loss(output, target)\n",
    "        #dloss/dx for every Variable \n",
    "        loss.backward()\n",
    "        #to do a one-step update on our parameter.\n",
    "        optimizer.step()\n",
    "        \n",
    "        #Print out the loss periodically. \n",
    "        if batch_idx % args['log_interval'] == 0:\n",
    "            print('Train Epoch: {} [{}/{} ({:.0f}%)]\\tLoss: {:.6f}'.format(\n",
    "            #print('Train Epoch: {} [{}/{} ({:.0f}%)]\\tLoss: NA'.format(\n",
    "                epoch, batch_idx * len(data), len(train_loader.dataset),\n",
    "                100. * batch_idx / len(train_loader), loss.data))\n",
    "            \n",
    "\n",
    "def test():\n",
    "    model.eval()\n",
    "    test_loss = 0\n",
    "    correct = 0\n",
    "    for data, target in test_loader:\n",
    "        if args['cuda']:\n",
    "            data, target = data.cuda(), target.cuda()\n",
    "        data, target = Variable(data, volatile=True), Variable(target)\n",
    "        output = model(data)\n",
    "        test_loss += F.nll_loss(output, target, size_average=False) #.data[0] # sum up batch loss\n",
    "        #print(test_loss)\n",
    "        pred = output.data.max(1, keepdim=True)[1] # get the index of the max log-probability\n",
    "        #print(pred)\n",
    "        correct += pred.eq(target.data.view_as(pred)).long().cpu().sum()\n",
    "\n",
    "    test_loss /= len(test_loader.dataset)\n",
    "    print('\\nTest set: Average loss: {:.4f}, Accuracy: {}/{} ({:.0f}%)\\n'.format(\n",
    "        test_loss, correct, len(test_loader.dataset),\n",
    "        100. * correct / len(test_loader.dataset)))\n"
   ]
  },
  {
   "cell_type": "code",
   "execution_count": 6,
   "metadata": {},
   "outputs": [
    {
     "name": "stdout",
     "output_type": "stream",
     "text": [
      "1\n",
      "60\n",
      "Train Epoch: 1 [0/60000 (0%)]\tLoss: 2.336080\n",
      "Train Epoch: 1 [10000/60000 (17%)]\tLoss: 2.303849\n",
      "Train Epoch: 1 [20000/60000 (33%)]\tLoss: 2.289397\n",
      "Train Epoch: 1 [30000/60000 (50%)]\tLoss: 2.277738\n",
      "Train Epoch: 1 [40000/60000 (67%)]\tLoss: 2.252354\n",
      "Train Epoch: 1 [50000/60000 (83%)]\tLoss: 2.229799\n"
     ]
    },
    {
     "name": "stderr",
     "output_type": "stream",
     "text": [
      "/home/smittal/anaconda3/envs/aiml_tutorials/lib/python3.7/site-packages/ipykernel_launcher.py:35: UserWarning: volatile was removed and now has no effect. Use `with torch.no_grad():` instead.\n",
      "/home/smittal/anaconda3/envs/aiml_tutorials/lib/python3.7/site-packages/torch/nn/_reduction.py:42: UserWarning: size_average and reduce args will be deprecated, please use reduction='sum' instead.\n",
      "  warnings.warn(warning.format(ret))\n"
     ]
    },
    {
     "name": "stdout",
     "output_type": "stream",
     "text": [
      "\n",
      "Test set: Average loss: 2.1672, Accuracy: 4384/10000 (44%)\n",
      "\n",
      "2\n",
      "60\n",
      "Train Epoch: 2 [0/60000 (0%)]\tLoss: 2.204018\n",
      "Train Epoch: 2 [10000/60000 (17%)]\tLoss: 2.157306\n",
      "Train Epoch: 2 [20000/60000 (33%)]\tLoss: 2.101940\n",
      "Train Epoch: 2 [30000/60000 (50%)]\tLoss: 1.966985\n",
      "Train Epoch: 2 [40000/60000 (67%)]\tLoss: 1.885229\n",
      "Train Epoch: 2 [50000/60000 (83%)]\tLoss: 1.750014\n",
      "\n",
      "Test set: Average loss: 1.4265, Accuracy: 6718/10000 (67%)\n",
      "\n",
      "3\n",
      "60\n",
      "Train Epoch: 3 [0/60000 (0%)]\tLoss: 1.665460\n",
      "Train Epoch: 3 [10000/60000 (17%)]\tLoss: 1.528897\n",
      "Train Epoch: 3 [20000/60000 (33%)]\tLoss: 1.453842\n",
      "Train Epoch: 3 [30000/60000 (50%)]\tLoss: 1.402186\n",
      "Train Epoch: 3 [40000/60000 (67%)]\tLoss: 1.294752\n",
      "Train Epoch: 3 [50000/60000 (83%)]\tLoss: 1.208929\n",
      "\n",
      "Test set: Average loss: 0.7816, Accuracy: 8265/10000 (83%)\n",
      "\n",
      "4\n",
      "60\n",
      "Train Epoch: 4 [0/60000 (0%)]\tLoss: 1.132170\n",
      "Train Epoch: 4 [10000/60000 (17%)]\tLoss: 1.176133\n",
      "Train Epoch: 4 [20000/60000 (33%)]\tLoss: 1.021837\n",
      "Train Epoch: 4 [30000/60000 (50%)]\tLoss: 1.067551\n",
      "Train Epoch: 4 [40000/60000 (67%)]\tLoss: 1.011793\n",
      "Train Epoch: 4 [50000/60000 (83%)]\tLoss: 0.969894\n",
      "\n",
      "Test set: Average loss: 0.5428, Accuracy: 8671/10000 (87%)\n",
      "\n",
      "5\n",
      "60\n",
      "Train Epoch: 5 [0/60000 (0%)]\tLoss: 0.922398\n",
      "Train Epoch: 5 [10000/60000 (17%)]\tLoss: 0.843562\n",
      "Train Epoch: 5 [20000/60000 (33%)]\tLoss: 0.839423\n",
      "Train Epoch: 5 [30000/60000 (50%)]\tLoss: 0.843972\n",
      "Train Epoch: 5 [40000/60000 (67%)]\tLoss: 0.799829\n",
      "Train Epoch: 5 [50000/60000 (83%)]\tLoss: 0.792177\n",
      "\n",
      "Test set: Average loss: 0.4307, Accuracy: 8897/10000 (89%)\n",
      "\n",
      "6\n",
      "60\n",
      "Train Epoch: 6 [0/60000 (0%)]\tLoss: 0.804579\n",
      "Train Epoch: 6 [10000/60000 (17%)]\tLoss: 0.806431\n",
      "Train Epoch: 6 [20000/60000 (33%)]\tLoss: 0.697469\n",
      "Train Epoch: 6 [30000/60000 (50%)]\tLoss: 0.818040\n",
      "Train Epoch: 6 [40000/60000 (67%)]\tLoss: 0.692272\n",
      "Train Epoch: 6 [50000/60000 (83%)]\tLoss: 0.688003\n",
      "\n",
      "Test set: Average loss: 0.3705, Accuracy: 9047/10000 (90%)\n",
      "\n",
      "7\n",
      "60\n",
      "Train Epoch: 7 [0/60000 (0%)]\tLoss: 0.727007\n",
      "Train Epoch: 7 [10000/60000 (17%)]\tLoss: 0.729021\n",
      "Train Epoch: 7 [20000/60000 (33%)]\tLoss: 0.635957\n",
      "Train Epoch: 7 [30000/60000 (50%)]\tLoss: 0.711805\n",
      "Train Epoch: 7 [40000/60000 (67%)]\tLoss: 0.692239\n",
      "Train Epoch: 7 [50000/60000 (83%)]\tLoss: 0.678470\n",
      "\n",
      "Test set: Average loss: 0.3236, Accuracy: 9135/10000 (91%)\n",
      "\n",
      "8\n",
      "60\n",
      "Train Epoch: 8 [0/60000 (0%)]\tLoss: 0.590584\n",
      "Train Epoch: 8 [10000/60000 (17%)]\tLoss: 0.644591\n",
      "Train Epoch: 8 [20000/60000 (33%)]\tLoss: 0.603819\n",
      "Train Epoch: 8 [30000/60000 (50%)]\tLoss: 0.645927\n",
      "Train Epoch: 8 [40000/60000 (67%)]\tLoss: 0.655630\n",
      "Train Epoch: 8 [50000/60000 (83%)]\tLoss: 0.591059\n",
      "\n",
      "Test set: Average loss: 0.2894, Accuracy: 9220/10000 (92%)\n",
      "\n",
      "9\n",
      "60\n",
      "Train Epoch: 9 [0/60000 (0%)]\tLoss: 0.658456\n",
      "Train Epoch: 9 [10000/60000 (17%)]\tLoss: 0.612127\n",
      "Train Epoch: 9 [20000/60000 (33%)]\tLoss: 0.644668\n",
      "Train Epoch: 9 [30000/60000 (50%)]\tLoss: 0.554972\n",
      "Train Epoch: 9 [40000/60000 (67%)]\tLoss: 0.561054\n",
      "Train Epoch: 9 [50000/60000 (83%)]\tLoss: 0.654212\n",
      "\n",
      "Test set: Average loss: 0.2647, Accuracy: 9286/10000 (93%)\n",
      "\n",
      "10\n",
      "60\n",
      "Train Epoch: 10 [0/60000 (0%)]\tLoss: 0.538410\n",
      "Train Epoch: 10 [10000/60000 (17%)]\tLoss: 0.583972\n",
      "Train Epoch: 10 [20000/60000 (33%)]\tLoss: 0.615470\n",
      "Train Epoch: 10 [30000/60000 (50%)]\tLoss: 0.538376\n",
      "Train Epoch: 10 [40000/60000 (67%)]\tLoss: 0.551531\n",
      "Train Epoch: 10 [50000/60000 (83%)]\tLoss: 0.582621\n",
      "\n",
      "Test set: Average loss: 0.2428, Accuracy: 9328/10000 (93%)\n",
      "\n"
     ]
    }
   ],
   "source": [
    "model = Net()\n",
    "if args['cuda']:\n",
    "    model.cuda()\n",
    "\n",
    "optimizer = optim.SGD(model.parameters(), lr=args['lr'], momentum=args['momentum'])\n",
    "\n",
    "for epoch in range(1, args['epochs'] + 1):\n",
    "    print(epoch)\n",
    "    train(epoch)\n",
    "    test()"
   ]
  },
  {
   "cell_type": "code",
   "execution_count": 26,
   "metadata": {},
   "outputs": [
    {
     "name": "stderr",
     "output_type": "stream",
     "text": [
      "/home/smittal/anaconda3/envs/aiml_tutorials/lib/python3.7/site-packages/ipykernel_launcher.py:14: UserWarning: volatile was removed and now has no effect. Use `with torch.no_grad():` instead.\n",
      "  \n"
     ]
    },
    {
     "data": {
      "image/png": "[encoded data removed]",
      "text/plain": [
       "<Figure size 432x288 with 1 Axes>"
      ]
     },
     "metadata": {
      "needs_background": "light"
     },
     "output_type": "display_data"
    },
    {
     "name": "stdout",
     "output_type": "stream",
     "text": [
      "tensor(4, device='cuda:0')\n"
     ]
    },
    {
     "data": {
      "image/png": "[encoded data removed]",
      "text/plain": [
       "<Figure size 432x288 with 1 Axes>"
      ]
     },
     "metadata": {
      "needs_background": "light"
     },
     "output_type": "display_data"
    },
    {
     "name": "stdout",
     "output_type": "stream",
     "text": [
      "tensor(9, device='cuda:0')\n"
     ]
    },
    {
     "data": {
      "image/png": "[encoded data removed]",
      "text/plain": [
       "<Figure size 432x288 with 1 Axes>"
      ]
     },
     "metadata": {
      "needs_background": "light"
     },
     "output_type": "display_data"
    },
    {
     "name": "stdout",
     "output_type": "stream",
     "text": [
      "tensor(9, device='cuda:0')\n"
     ]
    },
    {
     "data": {
      "image/png": "[encoded data removed]",
      "text/plain": [
       "<Figure size 432x288 with 1 Axes>"
      ]
     },
     "metadata": {
      "needs_background": "light"
     },
     "output_type": "display_data"
    },
    {
     "name": "stdout",
     "output_type": "stream",
     "text": [
      "tensor(5, device='cuda:0')\n",
      "\n",
      "Test set: Average loss: 0.2428, Accuracy: 9328/10000 (93%)\n",
      "\n"
     ]
    }
   ],
   "source": [
    "import matplotlib.pyplot as plt \n",
    "# Plots are plotted inside the notebooks, 'inline'\n",
    "%matplotlib inline \n",
    "\n",
    "model.eval()\n",
    "test_loss = 0\n",
    "correct = 0\n",
    "pred = None\n",
    "dataset = None\n",
    "for data, target in test_loader:\n",
    "    dataset = data\n",
    "    if args['cuda']:\n",
    "        data, target = data.cuda(), target.cuda()\n",
    "    data, target = Variable(data, volatile=True), Variable(target)\n",
    "    output = model(data)\n",
    "    \n",
    "    test_loss += F.nll_loss(output, target, size_average=False) #.data[0] # sum up batch loss\n",
    "    #print(test_loss)\n",
    "    pred = output.data.max(1, keepdim=True)[1] # get the index of the max log-probability\n",
    "    \n",
    "    correct += pred.eq(target.data.view_as(pred)).long().cpu().sum()\n",
    "\n",
    "for i in range(4):\n",
    "    plt.imshow(dataset[i].numpy().reshape((28,28)), cmap='gray')\n",
    "    plt.show()\n",
    "    print(pred[i].data[0])\n",
    "test_loss /= len(test_loader.dataset)\n",
    "print('\\nTest set: Average loss: {:.4f}, Accuracy: {}/{} ({:.0f}%)\\n'.format(\n",
    "    test_loss, correct, len(test_loader.dataset),\n",
    "    100. * correct / len(test_loader.dataset)))\n"
   ]
  },
  {
   "cell_type": "code",
   "execution_count": null,
   "metadata": {},
   "outputs": [],
   "source": []
  },
  {
   "cell_type": "code",
   "execution_count": null,
   "metadata": {},
   "outputs": [],
   "source": []
  }
 ],
 "metadata": {
  "kernelspec": {
   "display_name": "aiml_tutorials",
   "language": "python",
   "name": "aiml_tutorials"
  },
  "language_info": {
   "codemirror_mode": {
    "name": "ipython",
    "version": 3
   },
   "file_extension": ".py",
   "mimetype": "text/x-python",
   "name": "python",
   "nbconvert_exporter": "python",
   "pygments_lexer": "ipython3",
   "version": "3.7.11"
  }
 },
 "nbformat": 4,
 "nbformat_minor": 2
}
